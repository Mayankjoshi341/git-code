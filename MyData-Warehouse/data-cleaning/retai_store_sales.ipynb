{
 "cells": [
  {
   "cell_type": "code",
   "execution_count": 88,
   "id": "d3eabbc6",
   "metadata": {},
   "outputs": [],
   "source": [
    "import pandas as pd\n",
    "import numpy as np\n",
    "import matplotlib.pyplot as plt\n",
    "import seaborn as sns \n",
    "sns.set()"
   ]
  },
  {
   "cell_type": "code",
   "execution_count": 3,
   "id": "a1e3bb64",
   "metadata": {},
   "outputs": [],
   "source": [
    "path = \"C:\\\\Users\\\\mayan\\\\Downloads\\\\retail_store_sales.csv\"\n",
    "df = pd.read_csv(path)"
   ]
  },
  {
   "cell_type": "code",
   "execution_count": 6,
   "id": "1f9c0b37",
   "metadata": {},
   "outputs": [
    {
     "data": {
      "text/html": [
       "<div>\n",
       "<style scoped>\n",
       "    .dataframe tbody tr th:only-of-type {\n",
       "        vertical-align: middle;\n",
       "    }\n",
       "\n",
       "    .dataframe tbody tr th {\n",
       "        vertical-align: top;\n",
       "    }\n",
       "\n",
       "    .dataframe thead th {\n",
       "        text-align: right;\n",
       "    }\n",
       "</style>\n",
       "<table border=\"1\" class=\"dataframe\">\n",
       "  <thead>\n",
       "    <tr style=\"text-align: right;\">\n",
       "      <th></th>\n",
       "      <th>Transaction ID</th>\n",
       "      <th>Customer ID</th>\n",
       "      <th>Category</th>\n",
       "      <th>Item</th>\n",
       "      <th>Price Per Unit</th>\n",
       "      <th>Quantity</th>\n",
       "      <th>Total Spent</th>\n",
       "      <th>Payment Method</th>\n",
       "      <th>Location</th>\n",
       "      <th>Transaction Date</th>\n",
       "      <th>Discount Applied</th>\n",
       "    </tr>\n",
       "  </thead>\n",
       "  <tbody>\n",
       "    <tr>\n",
       "      <th>0</th>\n",
       "      <td>TXN_6867343</td>\n",
       "      <td>CUST_09</td>\n",
       "      <td>Patisserie</td>\n",
       "      <td>Item_10_PAT</td>\n",
       "      <td>18.5</td>\n",
       "      <td>10.0</td>\n",
       "      <td>185.0</td>\n",
       "      <td>Digital Wallet</td>\n",
       "      <td>Online</td>\n",
       "      <td>2024-04-08</td>\n",
       "      <td>True</td>\n",
       "    </tr>\n",
       "    <tr>\n",
       "      <th>1</th>\n",
       "      <td>TXN_3731986</td>\n",
       "      <td>CUST_22</td>\n",
       "      <td>Milk Products</td>\n",
       "      <td>Item_17_MILK</td>\n",
       "      <td>29.0</td>\n",
       "      <td>9.0</td>\n",
       "      <td>261.0</td>\n",
       "      <td>Digital Wallet</td>\n",
       "      <td>Online</td>\n",
       "      <td>2023-07-23</td>\n",
       "      <td>True</td>\n",
       "    </tr>\n",
       "    <tr>\n",
       "      <th>2</th>\n",
       "      <td>TXN_9303719</td>\n",
       "      <td>CUST_02</td>\n",
       "      <td>Butchers</td>\n",
       "      <td>Item_12_BUT</td>\n",
       "      <td>21.5</td>\n",
       "      <td>2.0</td>\n",
       "      <td>43.0</td>\n",
       "      <td>Credit Card</td>\n",
       "      <td>Online</td>\n",
       "      <td>2022-10-05</td>\n",
       "      <td>False</td>\n",
       "    </tr>\n",
       "    <tr>\n",
       "      <th>3</th>\n",
       "      <td>TXN_9458126</td>\n",
       "      <td>CUST_06</td>\n",
       "      <td>Beverages</td>\n",
       "      <td>Item_16_BEV</td>\n",
       "      <td>27.5</td>\n",
       "      <td>9.0</td>\n",
       "      <td>247.5</td>\n",
       "      <td>Credit Card</td>\n",
       "      <td>Online</td>\n",
       "      <td>2022-05-07</td>\n",
       "      <td>NaN</td>\n",
       "    </tr>\n",
       "    <tr>\n",
       "      <th>4</th>\n",
       "      <td>TXN_4575373</td>\n",
       "      <td>CUST_05</td>\n",
       "      <td>Food</td>\n",
       "      <td>Item_6_FOOD</td>\n",
       "      <td>12.5</td>\n",
       "      <td>7.0</td>\n",
       "      <td>87.5</td>\n",
       "      <td>Digital Wallet</td>\n",
       "      <td>Online</td>\n",
       "      <td>2022-10-02</td>\n",
       "      <td>False</td>\n",
       "    </tr>\n",
       "  </tbody>\n",
       "</table>\n",
       "</div>"
      ],
      "text/plain": [
       "  Transaction ID Customer ID       Category          Item  Price Per Unit  \\\n",
       "0    TXN_6867343     CUST_09     Patisserie   Item_10_PAT            18.5   \n",
       "1    TXN_3731986     CUST_22  Milk Products  Item_17_MILK            29.0   \n",
       "2    TXN_9303719     CUST_02       Butchers   Item_12_BUT            21.5   \n",
       "3    TXN_9458126     CUST_06      Beverages   Item_16_BEV            27.5   \n",
       "4    TXN_4575373     CUST_05           Food   Item_6_FOOD            12.5   \n",
       "\n",
       "   Quantity  Total Spent  Payment Method Location Transaction Date  \\\n",
       "0      10.0        185.0  Digital Wallet   Online       2024-04-08   \n",
       "1       9.0        261.0  Digital Wallet   Online       2023-07-23   \n",
       "2       2.0         43.0     Credit Card   Online       2022-10-05   \n",
       "3       9.0        247.5     Credit Card   Online       2022-05-07   \n",
       "4       7.0         87.5  Digital Wallet   Online       2022-10-02   \n",
       "\n",
       "  Discount Applied  \n",
       "0             True  \n",
       "1             True  \n",
       "2            False  \n",
       "3              NaN  \n",
       "4            False  "
      ]
     },
     "execution_count": 6,
     "metadata": {},
     "output_type": "execute_result"
    }
   ],
   "source": [
    "df.head()\n"
   ]
  },
  {
   "cell_type": "code",
   "execution_count": 7,
   "id": "14b9b36f",
   "metadata": {},
   "outputs": [
    {
     "data": {
      "text/plain": [
       "(12575, 11)"
      ]
     },
     "execution_count": 7,
     "metadata": {},
     "output_type": "execute_result"
    }
   ],
   "source": [
    "df.shape"
   ]
  },
  {
   "cell_type": "code",
   "execution_count": 8,
   "id": "bcbda247",
   "metadata": {},
   "outputs": [
    {
     "name": "stdout",
     "output_type": "stream",
     "text": [
      "<class 'pandas.core.frame.DataFrame'>\n",
      "RangeIndex: 12575 entries, 0 to 12574\n",
      "Data columns (total 11 columns):\n",
      " #   Column            Non-Null Count  Dtype  \n",
      "---  ------            --------------  -----  \n",
      " 0   Transaction ID    12575 non-null  object \n",
      " 1   Customer ID       12575 non-null  object \n",
      " 2   Category          12575 non-null  object \n",
      " 3   Item              11362 non-null  object \n",
      " 4   Price Per Unit    11966 non-null  float64\n",
      " 5   Quantity          11971 non-null  float64\n",
      " 6   Total Spent       11971 non-null  float64\n",
      " 7   Payment Method    12575 non-null  object \n",
      " 8   Location          12575 non-null  object \n",
      " 9   Transaction Date  12575 non-null  object \n",
      " 10  Discount Applied  8376 non-null   object \n",
      "dtypes: float64(3), object(8)\n",
      "memory usage: 1.1+ MB\n"
     ]
    }
   ],
   "source": [
    "df.info()"
   ]
  },
  {
   "cell_type": "code",
   "execution_count": 9,
   "id": "c36b1017",
   "metadata": {},
   "outputs": [
    {
     "data": {
      "text/plain": [
       "Transaction ID         0\n",
       "Customer ID            0\n",
       "Category               0\n",
       "Item                1213\n",
       "Price Per Unit       609\n",
       "Quantity             604\n",
       "Total Spent          604\n",
       "Payment Method         0\n",
       "Location               0\n",
       "Transaction Date       0\n",
       "Discount Applied    4199\n",
       "dtype: int64"
      ]
     },
     "execution_count": 9,
     "metadata": {},
     "output_type": "execute_result"
    }
   ],
   "source": [
    "df.isnull().sum()"
   ]
  },
  {
   "cell_type": "code",
   "execution_count": 41,
   "id": "648ff7c3",
   "metadata": {},
   "outputs": [
    {
     "data": {
      "image/png": "[encoded data removed]",
      "text/plain": [
       "<Figure size 640x480 with 2 Axes>"
      ]
     },
     "metadata": {},
     "output_type": "display_data"
    },
    {
     "data": {
      "text/plain": [
       "<Figure size 100x100 with 0 Axes>"
      ]
     },
     "metadata": {},
     "output_type": "display_data"
    }
   ],
   "source": [
    "sns.heatmap(df.isnull() , cbar = True , cmap='viridis')\n",
    "plt.title(\"NUll VALUES OF DATASET\")\n",
    "plt.figure(figsize= (1,1))\n",
    "plt.show()"
   ]
  },
  {
   "cell_type": "code",
   "execution_count": 28,
   "id": "d724d3c8",
   "metadata": {},
   "outputs": [
    {
     "data": {
      "text/plain": [
       "1631     CUST_01\n",
       "10084    CUST_01\n",
       "440      CUST_01\n",
       "6082     CUST_01\n",
       "5245     CUST_01\n",
       "          ...   \n",
       "5248     CUST_25\n",
       "2657     CUST_25\n",
       "10663    CUST_25\n",
       "10964    CUST_25\n",
       "5251     CUST_25\n",
       "Name: Customer ID, Length: 12575, dtype: object"
      ]
     },
     "execution_count": 28,
     "metadata": {},
     "output_type": "execute_result"
    }
   ],
   "source": [
    "#df[\"Customer ID\"].value_counts().sort_values()\n",
    "df[\"Customer ID\"].sort_values()"
   ]
  },
  {
   "cell_type": "code",
   "execution_count": 53,
   "id": "1cb83522",
   "metadata": {},
   "outputs": [
    {
     "name": "stdout",
     "output_type": "stream",
     "text": [
      "      Transaction ID Customer ID                            Category  \\\n",
      "19       TXN_4206593     CUST_01                           Furniture   \n",
      "54       TXN_8218431     CUST_01                           Furniture   \n",
      "64       TXN_6952276     CUST_01                                Food   \n",
      "66       TXN_5885894     CUST_01                          Patisserie   \n",
      "97       TXN_9619859     CUST_01                            Butchers   \n",
      "...              ...         ...                                 ...   \n",
      "12422    TXN_4247005     CUST_01                           Furniture   \n",
      "12435    TXN_5147764     CUST_01                           Furniture   \n",
      "12482    TXN_7038132     CUST_01                       Milk Products   \n",
      "12500    TXN_6801032     CUST_01  Computers and electric accessories   \n",
      "12566    TXN_6298574     CUST_01                       Milk Products   \n",
      "\n",
      "               Item  Price Per Unit  Quantity  Total Spent  Payment Method  \\\n",
      "19              NaN            35.0       NaN          NaN  Digital Wallet   \n",
      "54      Item_23_FUR            38.0       5.0        190.0  Digital Wallet   \n",
      "64     Item_22_FOOD            36.5      10.0        365.0     Credit Card   \n",
      "66      Item_14_PAT            24.5      10.0        245.0     Credit Card   \n",
      "97      Item_21_BUT            35.0       4.0        140.0            Cash   \n",
      "...             ...             ...       ...          ...             ...   \n",
      "12422   Item_10_FUR            18.5       6.0        111.0     Credit Card   \n",
      "12435           NaN             NaN       5.0         32.5     Credit Card   \n",
      "12482   Item_3_MILK             8.0       6.0         48.0            Cash   \n",
      "12500   Item_20_CEA            33.5       7.0        234.5  Digital Wallet   \n",
      "12566   Item_1_MILK             5.0       4.0         20.0            Cash   \n",
      "\n",
      "       Location Transaction Date Discount Applied  \n",
      "19       Online       2025-01-13            False  \n",
      "54       Online       2023-04-29            False  \n",
      "64       Online       2024-08-02             True  \n",
      "66     In-store       2022-02-09            False  \n",
      "97     In-store       2024-04-05            False  \n",
      "...         ...              ...              ...  \n",
      "12422    Online       2022-02-04            False  \n",
      "12435    Online       2023-09-06             True  \n",
      "12482    Online       2022-11-13              NaN  \n",
      "12500  In-store       2022-05-23            False  \n",
      "12566    Online       2023-05-09            False  \n",
      "\n",
      "[507 rows x 11 columns]\n"
     ]
    },
    {
     "data": {
      "text/plain": [
       "Customer ID  Payment Method\n",
       "CUST_01      Digital Wallet    184\n",
       "             Credit Card       167\n",
       "             Cash              156\n",
       "Name: count, dtype: int64"
      ]
     },
     "execution_count": 53,
     "metadata": {},
     "output_type": "execute_result"
    }
   ],
   "source": [
    "customer1 = df[(df[\"Customer ID\"] == \"CUST_01\")]\n",
    "print(customer1)\n",
    "customer1.groupby(\"Customer ID\")[\"Payment Method\"].value_counts()\n"
   ]
  },
  {
   "cell_type": "code",
   "execution_count": 54,
   "id": "41babf6e",
   "metadata": {},
   "outputs": [
    {
     "data": {
      "text/plain": [
       "array(['Patisserie', 'Milk Products', 'Butchers', 'Beverages', 'Food',\n",
       "       'Furniture', 'Electric household essentials',\n",
       "       'Computers and electric accessories'], dtype=object)"
      ]
     },
     "execution_count": 54,
     "metadata": {},
     "output_type": "execute_result"
    }
   ],
   "source": [
    "df[\"Category\"].unique()"
   ]
  },
  {
   "cell_type": "code",
   "execution_count": 58,
   "id": "ab55e283",
   "metadata": {},
   "outputs": [
    {
     "data": {
      "text/plain": [
       "array(['Item_10_PAT', 'Item_17_MILK', 'Item_12_BUT', 'Item_16_BEV',\n",
       "       'Item_6_FOOD', nan, 'Item_1_FOOD', 'Item_16_FUR', 'Item_22_BUT',\n",
       "       'Item_3_BUT', 'Item_2_FOOD', 'Item_24_PAT', 'Item_16_MILK',\n",
       "       'Item_17_PAT', 'Item_13_EHE', 'Item_7_BEV', 'Item_4_EHE',\n",
       "       'Item_10_FOOD', 'Item_14_FUR', 'Item_20_BUT', 'Item_25_FUR',\n",
       "       'Item_14_FOOD', 'Item_22_PAT', 'Item_11_FOOD', 'Item_6_PAT',\n",
       "       'Item_21_EHE', 'Item_25_BEV', 'Item_23_FOOD', 'Item_10_FUR',\n",
       "       'Item_11_BEV', 'Item_23_BUT', 'Item_22_BEV', 'Item_10_EHE',\n",
       "       'Item_24_BUT', 'Item_8_BEV', 'Item_3_FOOD', 'Item_12_FOOD',\n",
       "       'Item_16_CEA', 'Item_11_PAT', 'Item_16_BUT', 'Item_5_CEA',\n",
       "       'Item_19_MILK', 'Item_23_FUR', 'Item_7_FUR', 'Item_15_CEA',\n",
       "       'Item_6_MILK', 'Item_24_CEA', 'Item_22_CEA', 'Item_22_FOOD',\n",
       "       'Item_2_BUT', 'Item_14_PAT', 'Item_12_PAT', 'Item_18_FOOD',\n",
       "       'Item_1_PAT', 'Item_4_BEV', 'Item_22_FUR', 'Item_7_PAT',\n",
       "       'Item_20_CEA', 'Item_20_FOOD', 'Item_11_FUR', 'Item_25_PAT',\n",
       "       'Item_7_FOOD', 'Item_21_FUR', 'Item_24_FUR', 'Item_8_MILK',\n",
       "       'Item_4_FOOD', 'Item_14_BEV', 'Item_4_PAT', 'Item_4_MILK',\n",
       "       'Item_7_CEA', 'Item_6_EHE', 'Item_21_BUT', 'Item_16_PAT',\n",
       "       'Item_25_CEA', 'Item_8_BUT', 'Item_10_CEA', 'Item_5_FUR',\n",
       "       'Item_9_FOOD', 'Item_21_CEA', 'Item_8_CEA', 'Item_8_EHE',\n",
       "       'Item_23_MILK', 'Item_23_BEV', 'Item_19_BEV', 'Item_20_BEV',\n",
       "       'Item_24_FOOD', 'Item_21_MILK', 'Item_6_BEV', 'Item_1_MILK',\n",
       "       'Item_24_MILK', 'Item_2_CEA', 'Item_18_BUT', 'Item_1_FUR',\n",
       "       'Item_3_MILK', 'Item_11_MILK', 'Item_13_CEA', 'Item_6_CEA',\n",
       "       'Item_2_FUR', 'Item_21_BEV', 'Item_8_FUR', 'Item_13_BUT',\n",
       "       'Item_2_BEV', 'Item_7_EHE', 'Item_14_CEA', 'Item_19_EHE',\n",
       "       'Item_18_CEA', 'Item_11_CEA', 'Item_17_FUR', 'Item_15_MILK',\n",
       "       'Item_20_EHE', 'Item_16_EHE', 'Item_23_EHE', 'Item_7_BUT',\n",
       "       'Item_1_EHE', 'Item_19_CEA', 'Item_25_FOOD', 'Item_12_EHE',\n",
       "       'Item_22_EHE', 'Item_13_PAT', 'Item_17_EHE', 'Item_25_BUT',\n",
       "       'Item_4_CEA', 'Item_2_MILK', 'Item_1_BUT', 'Item_12_BEV',\n",
       "       'Item_5_FOOD', 'Item_25_EHE', 'Item_9_CEA', 'Item_1_CEA',\n",
       "       'Item_15_FUR', 'Item_15_PAT', 'Item_5_EHE', 'Item_1_BEV',\n",
       "       'Item_17_BUT', 'Item_3_BEV', 'Item_13_FOOD', 'Item_11_EHE',\n",
       "       'Item_9_MILK', 'Item_17_FOOD', 'Item_20_PAT', 'Item_9_PAT',\n",
       "       'Item_10_BEV', 'Item_17_CEA', 'Item_8_PAT', 'Item_13_MILK',\n",
       "       'Item_5_BUT', 'Item_22_MILK', 'Item_4_FUR', 'Item_17_BEV',\n",
       "       'Item_19_PAT', 'Item_2_PAT', 'Item_14_BUT', 'Item_20_FUR',\n",
       "       'Item_6_BUT', 'Item_9_FUR', 'Item_12_CEA', 'Item_15_EHE',\n",
       "       'Item_5_PAT', 'Item_18_MILK', 'Item_6_FUR', 'Item_24_BEV',\n",
       "       'Item_14_MILK', 'Item_12_FUR', 'Item_18_BEV', 'Item_23_CEA',\n",
       "       'Item_24_EHE', 'Item_2_EHE', 'Item_23_PAT', 'Item_15_FOOD',\n",
       "       'Item_8_FOOD', 'Item_15_BEV', 'Item_20_MILK', 'Item_9_EHE',\n",
       "       'Item_11_BUT', 'Item_18_EHE', 'Item_5_MILK', 'Item_3_FUR',\n",
       "       'Item_19_BUT', 'Item_3_CEA', 'Item_19_FUR', 'Item_7_MILK',\n",
       "       'Item_9_BEV', 'Item_10_BUT', 'Item_18_FUR', 'Item_25_MILK',\n",
       "       'Item_4_BUT', 'Item_15_BUT', 'Item_21_PAT', 'Item_21_FOOD',\n",
       "       'Item_13_BEV', 'Item_5_BEV', 'Item_3_PAT', 'Item_13_FUR',\n",
       "       'Item_18_PAT', 'Item_12_MILK', 'Item_10_MILK', 'Item_16_FOOD',\n",
       "       'Item_19_FOOD', 'Item_14_EHE', 'Item_3_EHE', 'Item_9_BUT'],\n",
       "      dtype=object)"
      ]
     },
     "execution_count": 58,
     "metadata": {},
     "output_type": "execute_result"
    }
   ],
   "source": [
    "df[\"Item\"].unique()"
   ]
  },
  {
   "cell_type": "code",
   "execution_count": 68,
   "id": "327c5dd5",
   "metadata": {},
   "outputs": [
    {
     "data": {
      "text/html": [
       "<div>\n",
       "<style scoped>\n",
       "    .dataframe tbody tr th:only-of-type {\n",
       "        vertical-align: middle;\n",
       "    }\n",
       "\n",
       "    .dataframe tbody tr th {\n",
       "        vertical-align: top;\n",
       "    }\n",
       "\n",
       "    .dataframe thead th {\n",
       "        text-align: right;\n",
       "    }\n",
       "</style>\n",
       "<table border=\"1\" class=\"dataframe\">\n",
       "  <thead>\n",
       "    <tr style=\"text-align: right;\">\n",
       "      <th></th>\n",
       "      <th>Transaction ID</th>\n",
       "      <th>Customer ID</th>\n",
       "      <th>Category</th>\n",
       "      <th>Item</th>\n",
       "      <th>Price Per Unit</th>\n",
       "      <th>Quantity</th>\n",
       "      <th>Total Spent</th>\n",
       "      <th>Payment Method</th>\n",
       "      <th>Location</th>\n",
       "      <th>Transaction Date</th>\n",
       "      <th>Discount Applied</th>\n",
       "    </tr>\n",
       "  </thead>\n",
       "  <tbody>\n",
       "    <tr>\n",
       "      <th>12327</th>\n",
       "      <td>TXN_5545903</td>\n",
       "      <td>CUST_25</td>\n",
       "      <td>Milk Products</td>\n",
       "      <td>NaN</td>\n",
       "      <td>21.5</td>\n",
       "      <td>NaN</td>\n",
       "      <td>NaN</td>\n",
       "      <td>Credit Card</td>\n",
       "      <td>In-store</td>\n",
       "      <td>2022-03-25</td>\n",
       "      <td>True</td>\n",
       "    </tr>\n",
       "    <tr>\n",
       "      <th>12330</th>\n",
       "      <td>TXN_3708702</td>\n",
       "      <td>CUST_11</td>\n",
       "      <td>Beverages</td>\n",
       "      <td>NaN</td>\n",
       "      <td>NaN</td>\n",
       "      <td>4.0</td>\n",
       "      <td>20.0</td>\n",
       "      <td>Credit Card</td>\n",
       "      <td>Online</td>\n",
       "      <td>2022-08-24</td>\n",
       "      <td>False</td>\n",
       "    </tr>\n",
       "    <tr>\n",
       "      <th>12337</th>\n",
       "      <td>TXN_6292699</td>\n",
       "      <td>CUST_18</td>\n",
       "      <td>Computers and electric accessories</td>\n",
       "      <td>NaN</td>\n",
       "      <td>NaN</td>\n",
       "      <td>8.0</td>\n",
       "      <td>244.0</td>\n",
       "      <td>Credit Card</td>\n",
       "      <td>In-store</td>\n",
       "      <td>2025-01-14</td>\n",
       "      <td>NaN</td>\n",
       "    </tr>\n",
       "    <tr>\n",
       "      <th>12339</th>\n",
       "      <td>TXN_5105838</td>\n",
       "      <td>CUST_17</td>\n",
       "      <td>Electric household essentials</td>\n",
       "      <td>NaN</td>\n",
       "      <td>NaN</td>\n",
       "      <td>3.0</td>\n",
       "      <td>123.0</td>\n",
       "      <td>Digital Wallet</td>\n",
       "      <td>Online</td>\n",
       "      <td>2024-05-24</td>\n",
       "      <td>True</td>\n",
       "    </tr>\n",
       "    <tr>\n",
       "      <th>12365</th>\n",
       "      <td>TXN_2634754</td>\n",
       "      <td>CUST_07</td>\n",
       "      <td>Electric household essentials</td>\n",
       "      <td>NaN</td>\n",
       "      <td>NaN</td>\n",
       "      <td>3.0</td>\n",
       "      <td>78.0</td>\n",
       "      <td>Cash</td>\n",
       "      <td>Online</td>\n",
       "      <td>2022-05-15</td>\n",
       "      <td>True</td>\n",
       "    </tr>\n",
       "    <tr>\n",
       "      <th>12369</th>\n",
       "      <td>TXN_2414883</td>\n",
       "      <td>CUST_04</td>\n",
       "      <td>Food</td>\n",
       "      <td>NaN</td>\n",
       "      <td>41.0</td>\n",
       "      <td>NaN</td>\n",
       "      <td>NaN</td>\n",
       "      <td>Cash</td>\n",
       "      <td>In-store</td>\n",
       "      <td>2022-02-01</td>\n",
       "      <td>NaN</td>\n",
       "    </tr>\n",
       "    <tr>\n",
       "      <th>12386</th>\n",
       "      <td>TXN_4266749</td>\n",
       "      <td>CUST_11</td>\n",
       "      <td>Furniture</td>\n",
       "      <td>NaN</td>\n",
       "      <td>NaN</td>\n",
       "      <td>7.0</td>\n",
       "      <td>266.0</td>\n",
       "      <td>Cash</td>\n",
       "      <td>In-store</td>\n",
       "      <td>2022-08-10</td>\n",
       "      <td>True</td>\n",
       "    </tr>\n",
       "    <tr>\n",
       "      <th>12387</th>\n",
       "      <td>TXN_7014462</td>\n",
       "      <td>CUST_24</td>\n",
       "      <td>Patisserie</td>\n",
       "      <td>NaN</td>\n",
       "      <td>NaN</td>\n",
       "      <td>2.0</td>\n",
       "      <td>37.0</td>\n",
       "      <td>Credit Card</td>\n",
       "      <td>Online</td>\n",
       "      <td>2024-11-29</td>\n",
       "      <td>False</td>\n",
       "    </tr>\n",
       "    <tr>\n",
       "      <th>12396</th>\n",
       "      <td>TXN_1720372</td>\n",
       "      <td>CUST_20</td>\n",
       "      <td>Food</td>\n",
       "      <td>NaN</td>\n",
       "      <td>11.0</td>\n",
       "      <td>NaN</td>\n",
       "      <td>NaN</td>\n",
       "      <td>Credit Card</td>\n",
       "      <td>In-store</td>\n",
       "      <td>2023-10-23</td>\n",
       "      <td>True</td>\n",
       "    </tr>\n",
       "    <tr>\n",
       "      <th>12410</th>\n",
       "      <td>TXN_9279801</td>\n",
       "      <td>CUST_03</td>\n",
       "      <td>Furniture</td>\n",
       "      <td>NaN</td>\n",
       "      <td>39.5</td>\n",
       "      <td>NaN</td>\n",
       "      <td>NaN</td>\n",
       "      <td>Credit Card</td>\n",
       "      <td>In-store</td>\n",
       "      <td>2022-05-27</td>\n",
       "      <td>NaN</td>\n",
       "    </tr>\n",
       "    <tr>\n",
       "      <th>12416</th>\n",
       "      <td>TXN_7072261</td>\n",
       "      <td>CUST_19</td>\n",
       "      <td>Patisserie</td>\n",
       "      <td>NaN</td>\n",
       "      <td>38.0</td>\n",
       "      <td>NaN</td>\n",
       "      <td>NaN</td>\n",
       "      <td>Credit Card</td>\n",
       "      <td>In-store</td>\n",
       "      <td>2024-03-08</td>\n",
       "      <td>NaN</td>\n",
       "    </tr>\n",
       "    <tr>\n",
       "      <th>12417</th>\n",
       "      <td>TXN_9493727</td>\n",
       "      <td>CUST_07</td>\n",
       "      <td>Milk Products</td>\n",
       "      <td>NaN</td>\n",
       "      <td>36.5</td>\n",
       "      <td>NaN</td>\n",
       "      <td>NaN</td>\n",
       "      <td>Credit Card</td>\n",
       "      <td>Online</td>\n",
       "      <td>2023-09-20</td>\n",
       "      <td>False</td>\n",
       "    </tr>\n",
       "    <tr>\n",
       "      <th>12426</th>\n",
       "      <td>TXN_6073559</td>\n",
       "      <td>CUST_19</td>\n",
       "      <td>Butchers</td>\n",
       "      <td>NaN</td>\n",
       "      <td>21.5</td>\n",
       "      <td>NaN</td>\n",
       "      <td>NaN</td>\n",
       "      <td>Digital Wallet</td>\n",
       "      <td>Online</td>\n",
       "      <td>2023-07-18</td>\n",
       "      <td>False</td>\n",
       "    </tr>\n",
       "    <tr>\n",
       "      <th>12435</th>\n",
       "      <td>TXN_5147764</td>\n",
       "      <td>CUST_01</td>\n",
       "      <td>Furniture</td>\n",
       "      <td>NaN</td>\n",
       "      <td>NaN</td>\n",
       "      <td>5.0</td>\n",
       "      <td>32.5</td>\n",
       "      <td>Credit Card</td>\n",
       "      <td>Online</td>\n",
       "      <td>2023-09-06</td>\n",
       "      <td>True</td>\n",
       "    </tr>\n",
       "    <tr>\n",
       "      <th>12455</th>\n",
       "      <td>TXN_2912144</td>\n",
       "      <td>CUST_06</td>\n",
       "      <td>Electric household essentials</td>\n",
       "      <td>NaN</td>\n",
       "      <td>33.5</td>\n",
       "      <td>NaN</td>\n",
       "      <td>NaN</td>\n",
       "      <td>Credit Card</td>\n",
       "      <td>In-store</td>\n",
       "      <td>2023-12-21</td>\n",
       "      <td>NaN</td>\n",
       "    </tr>\n",
       "    <tr>\n",
       "      <th>12457</th>\n",
       "      <td>TXN_1352194</td>\n",
       "      <td>CUST_17</td>\n",
       "      <td>Electric household essentials</td>\n",
       "      <td>NaN</td>\n",
       "      <td>NaN</td>\n",
       "      <td>4.0</td>\n",
       "      <td>86.0</td>\n",
       "      <td>Credit Card</td>\n",
       "      <td>Online</td>\n",
       "      <td>2023-02-26</td>\n",
       "      <td>NaN</td>\n",
       "    </tr>\n",
       "    <tr>\n",
       "      <th>12459</th>\n",
       "      <td>TXN_3425314</td>\n",
       "      <td>CUST_09</td>\n",
       "      <td>Butchers</td>\n",
       "      <td>NaN</td>\n",
       "      <td>8.0</td>\n",
       "      <td>NaN</td>\n",
       "      <td>NaN</td>\n",
       "      <td>Cash</td>\n",
       "      <td>In-store</td>\n",
       "      <td>2024-10-14</td>\n",
       "      <td>False</td>\n",
       "    </tr>\n",
       "    <tr>\n",
       "      <th>12462</th>\n",
       "      <td>TXN_5573824</td>\n",
       "      <td>CUST_16</td>\n",
       "      <td>Patisserie</td>\n",
       "      <td>NaN</td>\n",
       "      <td>41.0</td>\n",
       "      <td>NaN</td>\n",
       "      <td>NaN</td>\n",
       "      <td>Digital Wallet</td>\n",
       "      <td>In-store</td>\n",
       "      <td>2022-03-30</td>\n",
       "      <td>True</td>\n",
       "    </tr>\n",
       "    <tr>\n",
       "      <th>12465</th>\n",
       "      <td>TXN_2450919</td>\n",
       "      <td>CUST_15</td>\n",
       "      <td>Furniture</td>\n",
       "      <td>NaN</td>\n",
       "      <td>14.0</td>\n",
       "      <td>NaN</td>\n",
       "      <td>NaN</td>\n",
       "      <td>Cash</td>\n",
       "      <td>Online</td>\n",
       "      <td>2024-04-11</td>\n",
       "      <td>True</td>\n",
       "    </tr>\n",
       "    <tr>\n",
       "      <th>12466</th>\n",
       "      <td>TXN_4174028</td>\n",
       "      <td>CUST_17</td>\n",
       "      <td>Butchers</td>\n",
       "      <td>NaN</td>\n",
       "      <td>6.5</td>\n",
       "      <td>NaN</td>\n",
       "      <td>NaN</td>\n",
       "      <td>Credit Card</td>\n",
       "      <td>Online</td>\n",
       "      <td>2022-01-07</td>\n",
       "      <td>NaN</td>\n",
       "    </tr>\n",
       "    <tr>\n",
       "      <th>12477</th>\n",
       "      <td>TXN_5625684</td>\n",
       "      <td>CUST_22</td>\n",
       "      <td>Computers and electric accessories</td>\n",
       "      <td>NaN</td>\n",
       "      <td>NaN</td>\n",
       "      <td>4.0</td>\n",
       "      <td>80.0</td>\n",
       "      <td>Cash</td>\n",
       "      <td>In-store</td>\n",
       "      <td>2022-11-09</td>\n",
       "      <td>True</td>\n",
       "    </tr>\n",
       "    <tr>\n",
       "      <th>12491</th>\n",
       "      <td>TXN_7894525</td>\n",
       "      <td>CUST_23</td>\n",
       "      <td>Butchers</td>\n",
       "      <td>NaN</td>\n",
       "      <td>NaN</td>\n",
       "      <td>1.0</td>\n",
       "      <td>26.0</td>\n",
       "      <td>Credit Card</td>\n",
       "      <td>Online</td>\n",
       "      <td>2023-01-31</td>\n",
       "      <td>True</td>\n",
       "    </tr>\n",
       "    <tr>\n",
       "      <th>12495</th>\n",
       "      <td>TXN_2997457</td>\n",
       "      <td>CUST_02</td>\n",
       "      <td>Beverages</td>\n",
       "      <td>NaN</td>\n",
       "      <td>24.5</td>\n",
       "      <td>NaN</td>\n",
       "      <td>NaN</td>\n",
       "      <td>Digital Wallet</td>\n",
       "      <td>Online</td>\n",
       "      <td>2023-07-04</td>\n",
       "      <td>False</td>\n",
       "    </tr>\n",
       "    <tr>\n",
       "      <th>12511</th>\n",
       "      <td>TXN_5715500</td>\n",
       "      <td>CUST_17</td>\n",
       "      <td>Food</td>\n",
       "      <td>NaN</td>\n",
       "      <td>NaN</td>\n",
       "      <td>3.0</td>\n",
       "      <td>100.5</td>\n",
       "      <td>Digital Wallet</td>\n",
       "      <td>Online</td>\n",
       "      <td>2024-06-05</td>\n",
       "      <td>False</td>\n",
       "    </tr>\n",
       "    <tr>\n",
       "      <th>12519</th>\n",
       "      <td>TXN_3638067</td>\n",
       "      <td>CUST_11</td>\n",
       "      <td>Electric household essentials</td>\n",
       "      <td>NaN</td>\n",
       "      <td>35.0</td>\n",
       "      <td>NaN</td>\n",
       "      <td>NaN</td>\n",
       "      <td>Digital Wallet</td>\n",
       "      <td>In-store</td>\n",
       "      <td>2022-04-21</td>\n",
       "      <td>NaN</td>\n",
       "    </tr>\n",
       "    <tr>\n",
       "      <th>12527</th>\n",
       "      <td>TXN_1069238</td>\n",
       "      <td>CUST_23</td>\n",
       "      <td>Food</td>\n",
       "      <td>NaN</td>\n",
       "      <td>5.0</td>\n",
       "      <td>NaN</td>\n",
       "      <td>NaN</td>\n",
       "      <td>Digital Wallet</td>\n",
       "      <td>In-store</td>\n",
       "      <td>2022-08-13</td>\n",
       "      <td>False</td>\n",
       "    </tr>\n",
       "    <tr>\n",
       "      <th>12552</th>\n",
       "      <td>TXN_4823896</td>\n",
       "      <td>CUST_05</td>\n",
       "      <td>Milk Products</td>\n",
       "      <td>NaN</td>\n",
       "      <td>8.0</td>\n",
       "      <td>NaN</td>\n",
       "      <td>NaN</td>\n",
       "      <td>Cash</td>\n",
       "      <td>In-store</td>\n",
       "      <td>2022-07-21</td>\n",
       "      <td>False</td>\n",
       "    </tr>\n",
       "    <tr>\n",
       "      <th>12556</th>\n",
       "      <td>TXN_4397672</td>\n",
       "      <td>CUST_04</td>\n",
       "      <td>Beverages</td>\n",
       "      <td>NaN</td>\n",
       "      <td>41.0</td>\n",
       "      <td>NaN</td>\n",
       "      <td>NaN</td>\n",
       "      <td>Credit Card</td>\n",
       "      <td>Online</td>\n",
       "      <td>2024-11-28</td>\n",
       "      <td>True</td>\n",
       "    </tr>\n",
       "    <tr>\n",
       "      <th>12562</th>\n",
       "      <td>TXN_7422454</td>\n",
       "      <td>CUST_07</td>\n",
       "      <td>Butchers</td>\n",
       "      <td>NaN</td>\n",
       "      <td>33.5</td>\n",
       "      <td>NaN</td>\n",
       "      <td>NaN</td>\n",
       "      <td>Cash</td>\n",
       "      <td>Online</td>\n",
       "      <td>2023-04-15</td>\n",
       "      <td>NaN</td>\n",
       "    </tr>\n",
       "    <tr>\n",
       "      <th>12564</th>\n",
       "      <td>TXN_2153066</td>\n",
       "      <td>CUST_17</td>\n",
       "      <td>Electric household essentials</td>\n",
       "      <td>NaN</td>\n",
       "      <td>29.0</td>\n",
       "      <td>NaN</td>\n",
       "      <td>NaN</td>\n",
       "      <td>Digital Wallet</td>\n",
       "      <td>In-store</td>\n",
       "      <td>2024-03-28</td>\n",
       "      <td>False</td>\n",
       "    </tr>\n",
       "  </tbody>\n",
       "</table>\n",
       "</div>"
      ],
      "text/plain": [
       "      Transaction ID Customer ID                            Category Item  \\\n",
       "12327    TXN_5545903     CUST_25                       Milk Products  NaN   \n",
       "12330    TXN_3708702     CUST_11                           Beverages  NaN   \n",
       "12337    TXN_6292699     CUST_18  Computers and electric accessories  NaN   \n",
       "12339    TXN_5105838     CUST_17       Electric household essentials  NaN   \n",
       "12365    TXN_2634754     CUST_07       Electric household essentials  NaN   \n",
       "12369    TXN_2414883     CUST_04                                Food  NaN   \n",
       "12386    TXN_4266749     CUST_11                           Furniture  NaN   \n",
       "12387    TXN_7014462     CUST_24                          Patisserie  NaN   \n",
       "12396    TXN_1720372     CUST_20                                Food  NaN   \n",
       "12410    TXN_9279801     CUST_03                           Furniture  NaN   \n",
       "12416    TXN_7072261     CUST_19                          Patisserie  NaN   \n",
       "12417    TXN_9493727     CUST_07                       Milk Products  NaN   \n",
       "12426    TXN_6073559     CUST_19                            Butchers  NaN   \n",
       "12435    TXN_5147764     CUST_01                           Furniture  NaN   \n",
       "12455    TXN_2912144     CUST_06       Electric household essentials  NaN   \n",
       "12457    TXN_1352194     CUST_17       Electric household essentials  NaN   \n",
       "12459    TXN_3425314     CUST_09                            Butchers  NaN   \n",
       "12462    TXN_5573824     CUST_16                          Patisserie  NaN   \n",
       "12465    TXN_2450919     CUST_15                           Furniture  NaN   \n",
       "12466    TXN_4174028     CUST_17                            Butchers  NaN   \n",
       "12477    TXN_5625684     CUST_22  Computers and electric accessories  NaN   \n",
       "12491    TXN_7894525     CUST_23                            Butchers  NaN   \n",
       "12495    TXN_2997457     CUST_02                           Beverages  NaN   \n",
       "12511    TXN_5715500     CUST_17                                Food  NaN   \n",
       "12519    TXN_3638067     CUST_11       Electric household essentials  NaN   \n",
       "12527    TXN_1069238     CUST_23                                Food  NaN   \n",
       "12552    TXN_4823896     CUST_05                       Milk Products  NaN   \n",
       "12556    TXN_4397672     CUST_04                           Beverages  NaN   \n",
       "12562    TXN_7422454     CUST_07                            Butchers  NaN   \n",
       "12564    TXN_2153066     CUST_17       Electric household essentials  NaN   \n",
       "\n",
       "       Price Per Unit  Quantity  Total Spent  Payment Method  Location  \\\n",
       "12327            21.5       NaN          NaN     Credit Card  In-store   \n",
       "12330             NaN       4.0         20.0     Credit Card    Online   \n",
       "12337             NaN       8.0        244.0     Credit Card  In-store   \n",
       "12339             NaN       3.0        123.0  Digital Wallet    Online   \n",
       "12365             NaN       3.0         78.0            Cash    Online   \n",
       "12369            41.0       NaN          NaN            Cash  In-store   \n",
       "12386             NaN       7.0        266.0            Cash  In-store   \n",
       "12387             NaN       2.0         37.0     Credit Card    Online   \n",
       "12396            11.0       NaN          NaN     Credit Card  In-store   \n",
       "12410            39.5       NaN          NaN     Credit Card  In-store   \n",
       "12416            38.0       NaN          NaN     Credit Card  In-store   \n",
       "12417            36.5       NaN          NaN     Credit Card    Online   \n",
       "12426            21.5       NaN          NaN  Digital Wallet    Online   \n",
       "12435             NaN       5.0         32.5     Credit Card    Online   \n",
       "12455            33.5       NaN          NaN     Credit Card  In-store   \n",
       "12457             NaN       4.0         86.0     Credit Card    Online   \n",
       "12459             8.0       NaN          NaN            Cash  In-store   \n",
       "12462            41.0       NaN          NaN  Digital Wallet  In-store   \n",
       "12465            14.0       NaN          NaN            Cash    Online   \n",
       "12466             6.5       NaN          NaN     Credit Card    Online   \n",
       "12477             NaN       4.0         80.0            Cash  In-store   \n",
       "12491             NaN       1.0         26.0     Credit Card    Online   \n",
       "12495            24.5       NaN          NaN  Digital Wallet    Online   \n",
       "12511             NaN       3.0        100.5  Digital Wallet    Online   \n",
       "12519            35.0       NaN          NaN  Digital Wallet  In-store   \n",
       "12527             5.0       NaN          NaN  Digital Wallet  In-store   \n",
       "12552             8.0       NaN          NaN            Cash  In-store   \n",
       "12556            41.0       NaN          NaN     Credit Card    Online   \n",
       "12562            33.5       NaN          NaN            Cash    Online   \n",
       "12564            29.0       NaN          NaN  Digital Wallet  In-store   \n",
       "\n",
       "      Transaction Date Discount Applied  \n",
       "12327       2022-03-25             True  \n",
       "12330       2022-08-24            False  \n",
       "12337       2025-01-14              NaN  \n",
       "12339       2024-05-24             True  \n",
       "12365       2022-05-15             True  \n",
       "12369       2022-02-01              NaN  \n",
       "12386       2022-08-10             True  \n",
       "12387       2024-11-29            False  \n",
       "12396       2023-10-23             True  \n",
       "12410       2022-05-27              NaN  \n",
       "12416       2024-03-08              NaN  \n",
       "12417       2023-09-20            False  \n",
       "12426       2023-07-18            False  \n",
       "12435       2023-09-06             True  \n",
       "12455       2023-12-21              NaN  \n",
       "12457       2023-02-26              NaN  \n",
       "12459       2024-10-14            False  \n",
       "12462       2022-03-30             True  \n",
       "12465       2024-04-11             True  \n",
       "12466       2022-01-07              NaN  \n",
       "12477       2022-11-09             True  \n",
       "12491       2023-01-31             True  \n",
       "12495       2023-07-04            False  \n",
       "12511       2024-06-05            False  \n",
       "12519       2022-04-21              NaN  \n",
       "12527       2022-08-13            False  \n",
       "12552       2022-07-21            False  \n",
       "12556       2024-11-28             True  \n",
       "12562       2023-04-15              NaN  \n",
       "12564       2024-03-28            False  "
      ]
     },
     "execution_count": 68,
     "metadata": {},
     "output_type": "execute_result"
    }
   ],
   "source": [
    "x = df[df[\"Item\"].isnull()]\n",
    "x.tail(30)"
   ]
  },
  {
   "cell_type": "code",
   "execution_count": null,
   "id": "2ae446c9",
   "metadata": {},
   "outputs": [],
   "source": [
    "df[\"Price Per Unit\"] = pd.to_numeric(df[\"Price Per Unit\"] , errors= \"coerce\")\n",
    "df[\"Quantity\"] = pd.to_numeric(df[\"Quantity\"] , errors= \"coerce\")\n",
    "df[\"Total Spent\"] = pd.to_numeric(df[\"Total Spent\"] , errors= \"coerce\")\n"
   ]
  },
  {
   "cell_type": "code",
   "execution_count": 96,
   "id": "51c95830",
   "metadata": {},
   "outputs": [],
   "source": [
    "df_backup = df.copy()"
   ]
  },
  {
   "cell_type": "code",
   "execution_count": 111,
   "id": "6785832f",
   "metadata": {},
   "outputs": [
    {
     "name": "stdout",
     "output_type": "stream",
     "text": [
      "<class 'pandas.core.frame.DataFrame'>\n",
      "Index: 11971 entries, 0 to 12574\n",
      "Data columns (total 11 columns):\n",
      " #   Column            Non-Null Count  Dtype  \n",
      "---  ------            --------------  -----  \n",
      " 0   Transaction ID    11971 non-null  object \n",
      " 1   Customer ID       11971 non-null  object \n",
      " 2   Category          11971 non-null  object \n",
      " 3   Item              11362 non-null  object \n",
      " 4   Price Per Unit    11362 non-null  float64\n",
      " 5   Quantity          11971 non-null  float64\n",
      " 6   Total Spent       11971 non-null  float64\n",
      " 7   Payment Method    11971 non-null  object \n",
      " 8   Location          11971 non-null  object \n",
      " 9   Transaction Date  11971 non-null  object \n",
      " 10  Discount Applied  7983 non-null   object \n",
      "dtypes: float64(3), object(8)\n",
      "memory usage: 1.1+ MB\n"
     ]
    }
   ],
   "source": [
    "df.info()"
   ]
  },
  {
   "cell_type": "code",
   "execution_count": 112,
   "id": "87a4f70a",
   "metadata": {},
   "outputs": [
    {
     "name": "stderr",
     "output_type": "stream",
     "text": [
      "C:\\Users\\mayan\\AppData\\Local\\Temp\\ipykernel_23188\\3732557647.py:1: SettingWithCopyWarning: \n",
      "A value is trying to be set on a copy of a slice from a DataFrame.\n",
      "Try using .loc[row_indexer,col_indexer] = value instead\n",
      "\n",
      "See the caveats in the documentation: https://pandas.pydata.org/pandas-docs/stable/user_guide/indexing.html#returning-a-view-versus-a-copy\n",
      "  df[\"Price Per Unit\"] =  df[\"Total Spent\"]/ df[\"Quantity\"]\n"
     ]
    }
   ],
   "source": [
    "df[\"Price Per Unit\"] =  df[\"Total Spent\"]/ df[\"Quantity\"]"
   ]
  },
  {
   "cell_type": "code",
   "execution_count": 124,
   "id": "351d5b49",
   "metadata": {},
   "outputs": [
    {
     "data": {
      "text/plain": [
       "Price Per Unit    0\n",
       "Quantity          0\n",
       "Total Spent       0\n",
       "dtype: int64"
      ]
     },
     "execution_count": 124,
     "metadata": {},
     "output_type": "execute_result"
    }
   ],
   "source": [
    "x =df[[\"Price Per Unit\" ,\"Quantity\" , \"Total Spent\"]].isnull().sum()\n",
    "x"
   ]
  },
  {
   "cell_type": "code",
   "execution_count": null,
   "id": "f23b33e6",
   "metadata": {},
   "outputs": [
    {
     "data": {
      "text/plain": [
       "1631     CUST_01\n",
       "10084    CUST_01\n",
       "440      CUST_01\n",
       "6082     CUST_01\n",
       "5245     CUST_01\n",
       "          ...   \n",
       "5248     CUST_25\n",
       "2657     CUST_25\n",
       "10663    CUST_25\n",
       "10964    CUST_25\n",
       "5251     CUST_25\n",
       "Name: Customer ID, Length: 12575, dtype: object"
      ]
     },
     "metadata": {},
     "output_type": "display_data"
    }
   ],
   "source": [
    "#df[\"Customer ID\"].value_counts().sort_values()\n",
    "df[\"Customer ID\"].sort_values()"
   ]
  },
  {
   "cell_type": "code",
   "execution_count": null,
   "id": "77a91a50",
   "metadata": {},
   "outputs": [
    {
     "data": {
      "text/plain": [
       "1631     CUST_01\n",
       "10084    CUST_01\n",
       "440      CUST_01\n",
       "6082     CUST_01\n",
       "5245     CUST_01\n",
       "          ...   \n",
       "5248     CUST_25\n",
       "2657     CUST_25\n",
       "10663    CUST_25\n",
       "10964    CUST_25\n",
       "5251     CUST_25\n",
       "Name: Customer ID, Length: 12575, dtype: object"
      ]
     },
     "metadata": {},
     "output_type": "display_data"
    }
   ],
   "source": [
    "#df[\"Customer ID\"].value_counts().sort_values()\n",
    "df[\"Customer ID\"].sort_values()"
   ]
  },
  {
   "cell_type": "code",
   "execution_count": null,
   "id": "929e6834",
   "metadata": {},
   "outputs": [],
   "source": [
    "df = df.dropna(subset=['Quantity', 'Total Spent'], how='all')"
   ]
  },
  {
   "cell_type": "code",
   "execution_count": 130,
   "id": "617acdd9",
   "metadata": {},
   "outputs": [
    {
     "data": {
      "text/plain": [
       "609"
      ]
     },
     "execution_count": 130,
     "metadata": {},
     "output_type": "execute_result"
    }
   ],
   "source": [
    "df[\"Item\"].isnull().sum()"
   ]
  },
  {
   "cell_type": "code",
   "execution_count": 139,
   "id": "20457c48",
   "metadata": {},
   "outputs": [
    {
     "data": {
      "text/html": [
       "<div>\n",
       "<style scoped>\n",
       "    .dataframe tbody tr th:only-of-type {\n",
       "        vertical-align: middle;\n",
       "    }\n",
       "\n",
       "    .dataframe tbody tr th {\n",
       "        vertical-align: top;\n",
       "    }\n",
       "\n",
       "    .dataframe thead th {\n",
       "        text-align: right;\n",
       "    }\n",
       "</style>\n",
       "<table border=\"1\" class=\"dataframe\">\n",
       "  <thead>\n",
       "    <tr style=\"text-align: right;\">\n",
       "      <th></th>\n",
       "      <th>Item</th>\n",
       "      <th>Category</th>\n",
       "    </tr>\n",
       "  </thead>\n",
       "  <tbody>\n",
       "    <tr>\n",
       "      <th>0</th>\n",
       "      <td>10</td>\n",
       "      <td>Patisserie</td>\n",
       "    </tr>\n",
       "    <tr>\n",
       "      <th>1</th>\n",
       "      <td>17</td>\n",
       "      <td>Milk Products</td>\n",
       "    </tr>\n",
       "    <tr>\n",
       "      <th>2</th>\n",
       "      <td>12</td>\n",
       "      <td>Butchers</td>\n",
       "    </tr>\n",
       "    <tr>\n",
       "      <th>3</th>\n",
       "      <td>16</td>\n",
       "      <td>Beverages</td>\n",
       "    </tr>\n",
       "    <tr>\n",
       "      <th>4</th>\n",
       "      <td>6</td>\n",
       "      <td>Food</td>\n",
       "    </tr>\n",
       "    <tr>\n",
       "      <th>...</th>\n",
       "      <td>...</td>\n",
       "      <td>...</td>\n",
       "    </tr>\n",
       "    <tr>\n",
       "      <th>12570</th>\n",
       "      <td>23</td>\n",
       "      <td>Patisserie</td>\n",
       "    </tr>\n",
       "    <tr>\n",
       "      <th>12571</th>\n",
       "      <td>2</td>\n",
       "      <td>Beverages</td>\n",
       "    </tr>\n",
       "    <tr>\n",
       "      <th>12572</th>\n",
       "      <td>7</td>\n",
       "      <td>Butchers</td>\n",
       "    </tr>\n",
       "    <tr>\n",
       "      <th>12573</th>\n",
       "      <td>7</td>\n",
       "      <td>Furniture</td>\n",
       "    </tr>\n",
       "    <tr>\n",
       "      <th>12574</th>\n",
       "      <td>9</td>\n",
       "      <td>Food</td>\n",
       "    </tr>\n",
       "  </tbody>\n",
       "</table>\n",
       "<p>11971 rows × 2 columns</p>\n",
       "</div>"
      ],
      "text/plain": [
       "      Item       Category\n",
       "0       10     Patisserie\n",
       "1       17  Milk Products\n",
       "2       12       Butchers\n",
       "3       16      Beverages\n",
       "4        6           Food\n",
       "...    ...            ...\n",
       "12570   23     Patisserie\n",
       "12571    2      Beverages\n",
       "12572    7       Butchers\n",
       "12573    7      Furniture\n",
       "12574    9           Food\n",
       "\n",
       "[11971 rows x 2 columns]"
      ]
     },
     "execution_count": 139,
     "metadata": {},
     "output_type": "execute_result"
    }
   ],
   "source": [
    "df[[\"Item\", \"Category\"]]\n"
   ]
  },
  {
   "cell_type": "code",
   "execution_count": 136,
   "id": "8b18667d",
   "metadata": {},
   "outputs": [],
   "source": [
    "df[\"Item_ID\"] = df[\"Item\"].str.extract(r\"(\\d+)\") "
   ]
  },
  {
   "cell_type": "code",
   "execution_count": 141,
   "id": "358f10ce",
   "metadata": {},
   "outputs": [],
   "source": [
    "df[\"Item\"] = df[\"Item\"].replace({\"Item\" : \"Item_ID\"})"
   ]
  },
  {
   "cell_type": "code",
   "execution_count": 172,
   "id": "dd2ae132",
   "metadata": {},
   "outputs": [],
   "source": [
    "df.drop(columns= (\"Item\"), inplace= True)"
   ]
  },
  {
   "cell_type": "code",
   "execution_count": 173,
   "id": "aaf47f61",
   "metadata": {},
   "outputs": [
    {
     "data": {
      "text/html": [
       "<div>\n",
       "<style scoped>\n",
       "    .dataframe tbody tr th:only-of-type {\n",
       "        vertical-align: middle;\n",
       "    }\n",
       "\n",
       "    .dataframe tbody tr th {\n",
       "        vertical-align: top;\n",
       "    }\n",
       "\n",
       "    .dataframe thead th {\n",
       "        text-align: right;\n",
       "    }\n",
       "</style>\n",
       "<table border=\"1\" class=\"dataframe\">\n",
       "  <thead>\n",
       "    <tr style=\"text-align: right;\">\n",
       "      <th></th>\n",
       "      <th>Transaction ID</th>\n",
       "      <th>Customer ID</th>\n",
       "      <th>Category</th>\n",
       "      <th>Price Per Unit</th>\n",
       "      <th>Quantity</th>\n",
       "      <th>Total Spent</th>\n",
       "      <th>Payment Method</th>\n",
       "      <th>Location</th>\n",
       "      <th>Transaction Date</th>\n",
       "      <th>Discount Applied</th>\n",
       "      <th>Item_ID</th>\n",
       "    </tr>\n",
       "  </thead>\n",
       "  <tbody>\n",
       "    <tr>\n",
       "      <th>0</th>\n",
       "      <td>TXN_6867343</td>\n",
       "      <td>CUST_09</td>\n",
       "      <td>Patisserie</td>\n",
       "      <td>18.5</td>\n",
       "      <td>10.0</td>\n",
       "      <td>185.0</td>\n",
       "      <td>Digital Wallet</td>\n",
       "      <td>Online</td>\n",
       "      <td>2024-04-08</td>\n",
       "      <td>True</td>\n",
       "      <td>10</td>\n",
       "    </tr>\n",
       "    <tr>\n",
       "      <th>1</th>\n",
       "      <td>TXN_3731986</td>\n",
       "      <td>CUST_22</td>\n",
       "      <td>Milk Products</td>\n",
       "      <td>29.0</td>\n",
       "      <td>9.0</td>\n",
       "      <td>261.0</td>\n",
       "      <td>Digital Wallet</td>\n",
       "      <td>Online</td>\n",
       "      <td>2023-07-23</td>\n",
       "      <td>True</td>\n",
       "      <td>17</td>\n",
       "    </tr>\n",
       "    <tr>\n",
       "      <th>2</th>\n",
       "      <td>TXN_9303719</td>\n",
       "      <td>CUST_02</td>\n",
       "      <td>Butchers</td>\n",
       "      <td>21.5</td>\n",
       "      <td>2.0</td>\n",
       "      <td>43.0</td>\n",
       "      <td>Credit Card</td>\n",
       "      <td>Online</td>\n",
       "      <td>2022-10-05</td>\n",
       "      <td>False</td>\n",
       "      <td>12</td>\n",
       "    </tr>\n",
       "    <tr>\n",
       "      <th>3</th>\n",
       "      <td>TXN_9458126</td>\n",
       "      <td>CUST_06</td>\n",
       "      <td>Beverages</td>\n",
       "      <td>27.5</td>\n",
       "      <td>9.0</td>\n",
       "      <td>247.5</td>\n",
       "      <td>Credit Card</td>\n",
       "      <td>Online</td>\n",
       "      <td>2022-05-07</td>\n",
       "      <td>NaN</td>\n",
       "      <td>16</td>\n",
       "    </tr>\n",
       "    <tr>\n",
       "      <th>4</th>\n",
       "      <td>TXN_4575373</td>\n",
       "      <td>CUST_05</td>\n",
       "      <td>Food</td>\n",
       "      <td>12.5</td>\n",
       "      <td>7.0</td>\n",
       "      <td>87.5</td>\n",
       "      <td>Digital Wallet</td>\n",
       "      <td>Online</td>\n",
       "      <td>2022-10-02</td>\n",
       "      <td>False</td>\n",
       "      <td>6</td>\n",
       "    </tr>\n",
       "  </tbody>\n",
       "</table>\n",
       "</div>"
      ],
      "text/plain": [
       "  Transaction ID Customer ID       Category  Price Per Unit  Quantity  \\\n",
       "0    TXN_6867343     CUST_09     Patisserie            18.5      10.0   \n",
       "1    TXN_3731986     CUST_22  Milk Products            29.0       9.0   \n",
       "2    TXN_9303719     CUST_02       Butchers            21.5       2.0   \n",
       "3    TXN_9458126     CUST_06      Beverages            27.5       9.0   \n",
       "4    TXN_4575373     CUST_05           Food            12.5       7.0   \n",
       "\n",
       "   Total Spent  Payment Method Location Transaction Date Discount Applied  \\\n",
       "0        185.0  Digital Wallet   Online       2024-04-08             True   \n",
       "1        261.0  Digital Wallet   Online       2023-07-23             True   \n",
       "2         43.0     Credit Card   Online       2022-10-05            False   \n",
       "3        247.5     Credit Card   Online       2022-05-07              NaN   \n",
       "4         87.5  Digital Wallet   Online       2022-10-02            False   \n",
       "\n",
       "  Item_ID  \n",
       "0      10  \n",
       "1      17  \n",
       "2      12  \n",
       "3      16  \n",
       "4       6  "
      ]
     },
     "execution_count": 173,
     "metadata": {},
     "output_type": "execute_result"
    }
   ],
   "source": [
    "df.head()"
   ]
  },
  {
   "cell_type": "code",
   "execution_count": 149,
   "id": "68bc8925",
   "metadata": {},
   "outputs": [
    {
     "name": "stdout",
     "output_type": "stream",
     "text": [
      "<class 'pandas.core.series.Series'>\n",
      "Index: 11971 entries, 0 to 12574\n",
      "Series name: Payment Method\n",
      "Non-Null Count  Dtype \n",
      "--------------  ----- \n",
      "11971 non-null  object\n",
      "dtypes: object(1)\n",
      "memory usage: 187.0+ KB\n"
     ]
    }
   ],
   "source": [
    "df[\"Payment Method\"].info()"
   ]
  },
  {
   "cell_type": "code",
   "execution_count": 151,
   "id": "de7c828b",
   "metadata": {},
   "outputs": [
    {
     "data": {
      "text/plain": [
       "Location\n",
       "Online      6068\n",
       "In-store    5903\n",
       "Name: count, dtype: int64"
      ]
     },
     "execution_count": 151,
     "metadata": {},
     "output_type": "execute_result"
    }
   ],
   "source": [
    "df[\"Location\"].value_counts()"
   ]
  },
  {
   "cell_type": "code",
   "execution_count": 156,
   "id": "4df00ed9",
   "metadata": {},
   "outputs": [
    {
     "data": {
      "text/plain": [
       "Location  Payment Method  Discount Applied\n",
       "In-store  Cash            True                684\n",
       "                          False               645\n",
       "          Credit Card     True                636\n",
       "                          False               633\n",
       "          Digital Wallet  False               683\n",
       "                          True                642\n",
       "Online    Cash            True                703\n",
       "                          False               673\n",
       "          Credit Card     True                694\n",
       "                          False               668\n",
       "          Digital Wallet  False               662\n",
       "                          True                660\n",
       "Name: count, dtype: int64"
      ]
     },
     "execution_count": 156,
     "metadata": {},
     "output_type": "execute_result"
    }
   ],
   "source": [
    "df.groupby([\"Location\", \"Payment Method\"])[\"Discount Applied\" ].value_counts()"
   ]
  },
  {
   "cell_type": "code",
   "execution_count": null,
   "id": "35f0eda8",
   "metadata": {},
   "outputs": [
    {
     "data": {
      "text/plain": [
       "108.5"
      ]
     },
     "execution_count": 165,
     "metadata": {},
     "output_type": "execute_result"
    }
   ],
   "source": [
    "df[\"Total Spent\"].median()"
   ]
  },
  {
   "cell_type": "code",
   "execution_count": 168,
   "id": "8a99a7f7",
   "metadata": {},
   "outputs": [
    {
     "data": {
      "text/plain": [
       "Discount Applied\n",
       "False    129.953330\n",
       "True     130.491043\n",
       "Name: Total Spent, dtype: float64"
      ]
     },
     "execution_count": 168,
     "metadata": {},
     "output_type": "execute_result"
    }
   ],
   "source": [
    "df.groupby(\"Discount Applied\")[\"Total Spent\"].mean()"
   ]
  },
  {
   "cell_type": "code",
   "execution_count": 196,
   "id": "cd6ea859",
   "metadata": {},
   "outputs": [
    {
     "name": "stdout",
     "output_type": "stream",
     "text": [
      "<class 'pandas.core.frame.DataFrame'>\n",
      "Index: 11971 entries, 0 to 12574\n",
      "Data columns (total 11 columns):\n",
      " #   Column            Non-Null Count  Dtype  \n",
      "---  ------            --------------  -----  \n",
      " 0   Transaction ID    11971 non-null  object \n",
      " 1   Customer ID       11971 non-null  object \n",
      " 2   Category          11971 non-null  object \n",
      " 3   Price Per Unit    11971 non-null  float64\n",
      " 4   Quantity          11971 non-null  float64\n",
      " 5   Total Spent       11971 non-null  float64\n",
      " 6   Payment Method    11971 non-null  object \n",
      " 7   Location          11971 non-null  object \n",
      " 8   Transaction Date  11971 non-null  object \n",
      " 9   Discount Applied  7983 non-null   object \n",
      " 10  Item_ID           11362 non-null  object \n",
      "dtypes: float64(3), object(8)\n",
      "memory usage: 1.1+ MB\n"
     ]
    }
   ],
   "source": [
    "df.info()"
   ]
  },
  {
   "cell_type": "code",
   "execution_count": 181,
   "id": "28df4207",
   "metadata": {},
   "outputs": [
    {
     "data": {
      "text/plain": [
       "609"
      ]
     },
     "execution_count": 181,
     "metadata": {},
     "output_type": "execute_result"
    }
   ],
   "source": [
    "df[\"Item_ID\"].isnull().sum()"
   ]
  },
  {
   "cell_type": "code",
   "execution_count": 187,
   "id": "e58fc0e6",
   "metadata": {},
   "outputs": [
    {
     "data": {
      "text/plain": [
       "array(['10', '17', '12', '16', '6', nan, '1', '22', '3', '2', '24', '13',\n",
       "       '7', '4', '14', '20', '25', '11', '21', '23', '8', '5', '19', '15',\n",
       "       '18', '9'], dtype=object)"
      ]
     },
     "execution_count": 187,
     "metadata": {},
     "output_type": "execute_result"
    }
   ],
   "source": [
    "df[\"Item_ID\"].unique()"
   ]
  },
  {
   "cell_type": "code",
   "execution_count": 197,
   "id": "5a4412f9",
   "metadata": {},
   "outputs": [],
   "source": [
    "df.dropna(subset=[\"Item_ID\"], inplace=True)\n"
   ]
  },
  {
   "cell_type": "code",
   "execution_count": 200,
   "id": "d4638603",
   "metadata": {},
   "outputs": [
    {
     "data": {
      "text/html": [
       "<div>\n",
       "<style scoped>\n",
       "    .dataframe tbody tr th:only-of-type {\n",
       "        vertical-align: middle;\n",
       "    }\n",
       "\n",
       "    .dataframe tbody tr th {\n",
       "        vertical-align: top;\n",
       "    }\n",
       "\n",
       "    .dataframe thead th {\n",
       "        text-align: right;\n",
       "    }\n",
       "</style>\n",
       "<table border=\"1\" class=\"dataframe\">\n",
       "  <thead>\n",
       "    <tr style=\"text-align: right;\">\n",
       "      <th></th>\n",
       "      <th>Transaction ID</th>\n",
       "      <th>Customer ID</th>\n",
       "      <th>Category</th>\n",
       "      <th>Price Per Unit</th>\n",
       "      <th>Quantity</th>\n",
       "      <th>Total Spent</th>\n",
       "      <th>Payment Method</th>\n",
       "      <th>Location</th>\n",
       "      <th>Transaction Date</th>\n",
       "      <th>Discount Applied</th>\n",
       "      <th>Item_ID</th>\n",
       "    </tr>\n",
       "  </thead>\n",
       "  <tbody>\n",
       "    <tr>\n",
       "      <th>0</th>\n",
       "      <td>TXN_6867343</td>\n",
       "      <td>CUST_09</td>\n",
       "      <td>Patisserie</td>\n",
       "      <td>18.5</td>\n",
       "      <td>10.0</td>\n",
       "      <td>185.0</td>\n",
       "      <td>Digital Wallet</td>\n",
       "      <td>Online</td>\n",
       "      <td>2024-04-08</td>\n",
       "      <td>True</td>\n",
       "      <td>10</td>\n",
       "    </tr>\n",
       "    <tr>\n",
       "      <th>1</th>\n",
       "      <td>TXN_3731986</td>\n",
       "      <td>CUST_22</td>\n",
       "      <td>Milk Products</td>\n",
       "      <td>29.0</td>\n",
       "      <td>9.0</td>\n",
       "      <td>261.0</td>\n",
       "      <td>Digital Wallet</td>\n",
       "      <td>Online</td>\n",
       "      <td>2023-07-23</td>\n",
       "      <td>True</td>\n",
       "      <td>17</td>\n",
       "    </tr>\n",
       "    <tr>\n",
       "      <th>2</th>\n",
       "      <td>TXN_9303719</td>\n",
       "      <td>CUST_02</td>\n",
       "      <td>Butchers</td>\n",
       "      <td>21.5</td>\n",
       "      <td>2.0</td>\n",
       "      <td>43.0</td>\n",
       "      <td>Credit Card</td>\n",
       "      <td>Online</td>\n",
       "      <td>2022-10-05</td>\n",
       "      <td>False</td>\n",
       "      <td>12</td>\n",
       "    </tr>\n",
       "    <tr>\n",
       "      <th>3</th>\n",
       "      <td>TXN_9458126</td>\n",
       "      <td>CUST_06</td>\n",
       "      <td>Beverages</td>\n",
       "      <td>27.5</td>\n",
       "      <td>9.0</td>\n",
       "      <td>247.5</td>\n",
       "      <td>Credit Card</td>\n",
       "      <td>Online</td>\n",
       "      <td>2022-05-07</td>\n",
       "      <td>True</td>\n",
       "      <td>16</td>\n",
       "    </tr>\n",
       "    <tr>\n",
       "      <th>4</th>\n",
       "      <td>TXN_4575373</td>\n",
       "      <td>CUST_05</td>\n",
       "      <td>Food</td>\n",
       "      <td>12.5</td>\n",
       "      <td>7.0</td>\n",
       "      <td>87.5</td>\n",
       "      <td>Digital Wallet</td>\n",
       "      <td>Online</td>\n",
       "      <td>2022-10-02</td>\n",
       "      <td>False</td>\n",
       "      <td>6</td>\n",
       "    </tr>\n",
       "    <tr>\n",
       "      <th>6</th>\n",
       "      <td>TXN_3652209</td>\n",
       "      <td>CUST_07</td>\n",
       "      <td>Food</td>\n",
       "      <td>5.0</td>\n",
       "      <td>8.0</td>\n",
       "      <td>40.0</td>\n",
       "      <td>Credit Card</td>\n",
       "      <td>In-store</td>\n",
       "      <td>2023-06-10</td>\n",
       "      <td>True</td>\n",
       "      <td>1</td>\n",
       "    </tr>\n",
       "    <tr>\n",
       "      <th>8</th>\n",
       "      <td>TXN_9728486</td>\n",
       "      <td>CUST_23</td>\n",
       "      <td>Furniture</td>\n",
       "      <td>27.5</td>\n",
       "      <td>1.0</td>\n",
       "      <td>27.5</td>\n",
       "      <td>Credit Card</td>\n",
       "      <td>In-store</td>\n",
       "      <td>2023-04-26</td>\n",
       "      <td>False</td>\n",
       "      <td>16</td>\n",
       "    </tr>\n",
       "    <tr>\n",
       "      <th>9</th>\n",
       "      <td>TXN_2722661</td>\n",
       "      <td>CUST_25</td>\n",
       "      <td>Butchers</td>\n",
       "      <td>36.5</td>\n",
       "      <td>3.0</td>\n",
       "      <td>109.5</td>\n",
       "      <td>Cash</td>\n",
       "      <td>Online</td>\n",
       "      <td>2024-03-14</td>\n",
       "      <td>False</td>\n",
       "      <td>22</td>\n",
       "    </tr>\n",
       "    <tr>\n",
       "      <th>10</th>\n",
       "      <td>TXN_8776416</td>\n",
       "      <td>CUST_22</td>\n",
       "      <td>Butchers</td>\n",
       "      <td>8.0</td>\n",
       "      <td>9.0</td>\n",
       "      <td>72.0</td>\n",
       "      <td>Cash</td>\n",
       "      <td>In-store</td>\n",
       "      <td>2024-12-14</td>\n",
       "      <td>True</td>\n",
       "      <td>3</td>\n",
       "    </tr>\n",
       "    <tr>\n",
       "      <th>12</th>\n",
       "      <td>TXN_5874772</td>\n",
       "      <td>CUST_23</td>\n",
       "      <td>Food</td>\n",
       "      <td>6.5</td>\n",
       "      <td>7.0</td>\n",
       "      <td>45.5</td>\n",
       "      <td>Cash</td>\n",
       "      <td>Online</td>\n",
       "      <td>2023-09-09</td>\n",
       "      <td>True</td>\n",
       "      <td>2</td>\n",
       "    </tr>\n",
       "  </tbody>\n",
       "</table>\n",
       "</div>"
      ],
      "text/plain": [
       "   Transaction ID Customer ID       Category  Price Per Unit  Quantity  \\\n",
       "0     TXN_6867343     CUST_09     Patisserie            18.5      10.0   \n",
       "1     TXN_3731986     CUST_22  Milk Products            29.0       9.0   \n",
       "2     TXN_9303719     CUST_02       Butchers            21.5       2.0   \n",
       "3     TXN_9458126     CUST_06      Beverages            27.5       9.0   \n",
       "4     TXN_4575373     CUST_05           Food            12.5       7.0   \n",
       "6     TXN_3652209     CUST_07           Food             5.0       8.0   \n",
       "8     TXN_9728486     CUST_23      Furniture            27.5       1.0   \n",
       "9     TXN_2722661     CUST_25       Butchers            36.5       3.0   \n",
       "10    TXN_8776416     CUST_22       Butchers             8.0       9.0   \n",
       "12    TXN_5874772     CUST_23           Food             6.5       7.0   \n",
       "\n",
       "    Total Spent  Payment Method  Location Transaction Date  Discount Applied  \\\n",
       "0         185.0  Digital Wallet    Online       2024-04-08              True   \n",
       "1         261.0  Digital Wallet    Online       2023-07-23              True   \n",
       "2          43.0     Credit Card    Online       2022-10-05             False   \n",
       "3         247.5     Credit Card    Online       2022-05-07              True   \n",
       "4          87.5  Digital Wallet    Online       2022-10-02             False   \n",
       "6          40.0     Credit Card  In-store       2023-06-10              True   \n",
       "8          27.5     Credit Card  In-store       2023-04-26             False   \n",
       "9         109.5            Cash    Online       2024-03-14             False   \n",
       "10         72.0            Cash  In-store       2024-12-14              True   \n",
       "12         45.5            Cash    Online       2023-09-09              True   \n",
       "\n",
       "   Item_ID  \n",
       "0       10  \n",
       "1       17  \n",
       "2       12  \n",
       "3       16  \n",
       "4        6  \n",
       "6        1  \n",
       "8       16  \n",
       "9       22  \n",
       "10       3  \n",
       "12       2  "
      ]
     },
     "execution_count": 200,
     "metadata": {},
     "output_type": "execute_result"
    }
   ],
   "source": [
    "df.head(10)"
   ]
  },
  {
   "cell_type": "code",
   "execution_count": 213,
   "id": "013d962e",
   "metadata": {},
   "outputs": [
    {
     "name": "stderr",
     "output_type": "stream",
     "text": [
      "C:\\Users\\mayan\\AppData\\Local\\Temp\\ipykernel_23188\\1577812757.py:1: FutureWarning: Downcasting object dtype arrays on .fillna, .ffill, .bfill is deprecated and will change in a future version. Call result.infer_objects(copy=False) instead. To opt-in to the future behavior, set `pd.set_option('future.no_silent_downcasting', True)`\n",
      "  df_backup[\"Discount Applied\"].fillna(df_backup[\"Discount Applied\"].mode()[0] , inplace = True)\n"
     ]
    }
   ],
   "source": [
    "df_backup[\"Discount Applied\"].fillna(df_backup[\"Discount Applied\"].mode()[0] , inplace = True)"
   ]
  },
  {
   "cell_type": "code",
   "execution_count": 225,
   "id": "cdde81da",
   "metadata": {},
   "outputs": [
    {
     "data": {
      "text/plain": [
       "array([1, 0])"
      ]
     },
     "execution_count": 225,
     "metadata": {},
     "output_type": "execute_result"
    }
   ],
   "source": [
    "df_backup[\"Discount Applied\"].unique()"
   ]
  },
  {
   "cell_type": "code",
   "execution_count": 224,
   "id": "465d19b3",
   "metadata": {},
   "outputs": [],
   "source": [
    "df_backup[\"Discount Applied\"] = df_backup[\"Discount Applied\"].astype(int)\n"
   ]
  },
  {
   "cell_type": "code",
   "execution_count": 226,
   "id": "3e1d319a",
   "metadata": {},
   "outputs": [],
   "source": [
    "df[\"discount_applied\"] = df_backup[\"Discount Applied\"]"
   ]
  },
  {
   "cell_type": "code",
   "execution_count": 202,
   "id": "67925fb2",
   "metadata": {},
   "outputs": [],
   "source": [
    "df[\"Transaction Date\"] = pd.to_datetime(df[\"Transaction Date\"])"
   ]
  },
  {
   "cell_type": "code",
   "execution_count": 203,
   "id": "8c2a2229",
   "metadata": {},
   "outputs": [],
   "source": [
    "df.columns = df.columns.str.lower()"
   ]
  },
  {
   "cell_type": "code",
   "execution_count": 205,
   "id": "9c4264ab",
   "metadata": {},
   "outputs": [],
   "source": [
    "df.columns = df.columns.str.replace(' ', '_')\n"
   ]
  },
  {
   "cell_type": "code",
   "execution_count": 206,
   "id": "addac7ac",
   "metadata": {},
   "outputs": [
    {
     "data": {
      "text/plain": [
       "Index(['transaction_id', 'customer_id', 'category', 'price_per_unit',\n",
       "       'quantity', 'total_spent', 'payment_method', 'location',\n",
       "       'transaction_date', 'discount_applied', 'item_id'],\n",
       "      dtype='object')"
      ]
     },
     "execution_count": 206,
     "metadata": {},
     "output_type": "execute_result"
    }
   ],
   "source": [
    "df.columns"
   ]
  },
  {
   "cell_type": "code",
   "execution_count": 207,
   "id": "e0c49eba",
   "metadata": {},
   "outputs": [],
   "source": [
    "dfback = df.copy()"
   ]
  },
  {
   "cell_type": "code",
   "execution_count": 228,
   "id": "a60f6be5",
   "metadata": {},
   "outputs": [],
   "source": [
    "column_neworder = ['transaction_id','transaction_date', 'customer_id', 'category', 'item_id' , 'price_per_unit',\n",
    "       'quantity', 'total_spent', 'payment_method', 'location', 'discount_applied']\n",
    "df= df[column_neworder]"
   ]
  },
  {
   "cell_type": "code",
   "execution_count": 256,
   "id": "c363a6b9",
   "metadata": {},
   "outputs": [
    {
     "data": {
      "text/html": [
       "<div>\n",
       "<style scoped>\n",
       "    .dataframe tbody tr th:only-of-type {\n",
       "        vertical-align: middle;\n",
       "    }\n",
       "\n",
       "    .dataframe tbody tr th {\n",
       "        vertical-align: top;\n",
       "    }\n",
       "\n",
       "    .dataframe thead th {\n",
       "        text-align: right;\n",
       "    }\n",
       "</style>\n",
       "<table border=\"1\" class=\"dataframe\">\n",
       "  <thead>\n",
       "    <tr style=\"text-align: right;\">\n",
       "      <th></th>\n",
       "      <th>transaction_id</th>\n",
       "      <th>transaction_date</th>\n",
       "      <th>customer_id</th>\n",
       "      <th>category</th>\n",
       "      <th>item_id</th>\n",
       "      <th>price_per_unit</th>\n",
       "      <th>quantity</th>\n",
       "      <th>total_spent</th>\n",
       "      <th>payment_method</th>\n",
       "      <th>location</th>\n",
       "      <th>discount_applied</th>\n",
       "    </tr>\n",
       "  </thead>\n",
       "  <tbody>\n",
       "    <tr>\n",
       "      <th>0</th>\n",
       "      <td>TXN_6867343</td>\n",
       "      <td>2024-04-08</td>\n",
       "      <td>CUST_09</td>\n",
       "      <td>Patisserie</td>\n",
       "      <td>10</td>\n",
       "      <td>18.5</td>\n",
       "      <td>10.0</td>\n",
       "      <td>185.0</td>\n",
       "      <td>Digital Wallet</td>\n",
       "      <td>Online</td>\n",
       "      <td>1</td>\n",
       "    </tr>\n",
       "    <tr>\n",
       "      <th>1</th>\n",
       "      <td>TXN_3731986</td>\n",
       "      <td>2023-07-23</td>\n",
       "      <td>CUST_22</td>\n",
       "      <td>Milk Products</td>\n",
       "      <td>17</td>\n",
       "      <td>29.0</td>\n",
       "      <td>9.0</td>\n",
       "      <td>261.0</td>\n",
       "      <td>Digital Wallet</td>\n",
       "      <td>Online</td>\n",
       "      <td>1</td>\n",
       "    </tr>\n",
       "    <tr>\n",
       "      <th>2</th>\n",
       "      <td>TXN_9303719</td>\n",
       "      <td>2022-10-05</td>\n",
       "      <td>CUST_02</td>\n",
       "      <td>Butchers</td>\n",
       "      <td>12</td>\n",
       "      <td>21.5</td>\n",
       "      <td>2.0</td>\n",
       "      <td>43.0</td>\n",
       "      <td>Credit Card</td>\n",
       "      <td>Online</td>\n",
       "      <td>0</td>\n",
       "    </tr>\n",
       "    <tr>\n",
       "      <th>3</th>\n",
       "      <td>TXN_9458126</td>\n",
       "      <td>2022-05-07</td>\n",
       "      <td>CUST_06</td>\n",
       "      <td>Beverages</td>\n",
       "      <td>16</td>\n",
       "      <td>27.5</td>\n",
       "      <td>9.0</td>\n",
       "      <td>247.5</td>\n",
       "      <td>Credit Card</td>\n",
       "      <td>Online</td>\n",
       "      <td>1</td>\n",
       "    </tr>\n",
       "    <tr>\n",
       "      <th>4</th>\n",
       "      <td>TXN_4575373</td>\n",
       "      <td>2022-10-02</td>\n",
       "      <td>CUST_05</td>\n",
       "      <td>Food</td>\n",
       "      <td>6</td>\n",
       "      <td>12.5</td>\n",
       "      <td>7.0</td>\n",
       "      <td>87.5</td>\n",
       "      <td>Digital Wallet</td>\n",
       "      <td>Online</td>\n",
       "      <td>0</td>\n",
       "    </tr>\n",
       "  </tbody>\n",
       "</table>\n",
       "</div>"
      ],
      "text/plain": [
       "  transaction_id transaction_date customer_id       category  item_id  \\\n",
       "0    TXN_6867343       2024-04-08     CUST_09     Patisserie       10   \n",
       "1    TXN_3731986       2023-07-23     CUST_22  Milk Products       17   \n",
       "2    TXN_9303719       2022-10-05     CUST_02       Butchers       12   \n",
       "3    TXN_9458126       2022-05-07     CUST_06      Beverages       16   \n",
       "4    TXN_4575373       2022-10-02     CUST_05           Food        6   \n",
       "\n",
       "   price_per_unit  quantity  total_spent  payment_method location  \\\n",
       "0            18.5      10.0        185.0  Digital Wallet   Online   \n",
       "1            29.0       9.0        261.0  Digital Wallet   Online   \n",
       "2            21.5       2.0         43.0     Credit Card   Online   \n",
       "3            27.5       9.0        247.5     Credit Card   Online   \n",
       "4            12.5       7.0         87.5  Digital Wallet   Online   \n",
       "\n",
       "   discount_applied  \n",
       "0                 1  \n",
       "1                 1  \n",
       "2                 0  \n",
       "3                 1  \n",
       "4                 0  "
      ]
     },
     "execution_count": 256,
     "metadata": {},
     "output_type": "execute_result"
    }
   ],
   "source": [
    "df.head()"
   ]
  },
  {
   "cell_type": "code",
   "execution_count": 245,
   "id": "ff640749",
   "metadata": {},
   "outputs": [],
   "source": [
    "df.drop(columns=[\"calculated_total\"], inplace= True)"
   ]
  },
  {
   "cell_type": "code",
   "execution_count": null,
   "id": "240a0800",
   "metadata": {},
   "outputs": [],
   "source": [
    "df[\"item_id\"] = df[\"item_id\"].astype(int)"
   ]
  },
  {
   "cell_type": "code",
   "execution_count": 255,
   "id": "13813bc4",
   "metadata": {},
   "outputs": [
    {
     "name": "stdout",
     "output_type": "stream",
     "text": [
      "<class 'pandas.core.series.Series'>\n",
      "RangeIndex: 11362 entries, 0 to 11361\n",
      "Series name: item_id\n",
      "Non-Null Count  Dtype\n",
      "--------------  -----\n",
      "11362 non-null  int32\n",
      "dtypes: int32(1)\n",
      "memory usage: 44.5 KB\n"
     ]
    }
   ],
   "source": [
    "df[\"item_id\"].info()"
   ]
  },
  {
   "cell_type": "code",
   "execution_count": 254,
   "id": "8a5331c7",
   "metadata": {},
   "outputs": [],
   "source": [
    "df.reset_index(drop=True, inplace=True)\n"
   ]
  },
  {
   "cell_type": "code",
   "execution_count": 257,
   "id": "d72c7539",
   "metadata": {},
   "outputs": [],
   "source": [
    "df.to_csv(\"retai_store_sales.csv\")"
   ]
  }
 ],
 "metadata": {
  "kernelspec": {
   "display_name": "Python 3",
   "language": "python",
   "name": "python3"
  },
  "language_info": {
   "codemirror_mode": {
    "name": "ipython",
    "version": 3
   },
   "file_extension": ".py",
   "mimetype": "text/x-python",
   "name": "python",
   "nbconvert_exporter": "python",
   "pygments_lexer": "ipython3",
   "version": "3.12.2"
  }
 },
 "nbformat": 4,
 "nbformat_minor": 5
}
