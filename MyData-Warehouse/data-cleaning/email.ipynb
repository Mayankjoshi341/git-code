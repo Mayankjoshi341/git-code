{
 "cells": [
  {
   "cell_type": "code",
   "execution_count": 1,
   "id": "01573fe8",
   "metadata": {},
   "outputs": [],
   "source": [
    "import pandas as pd\n",
    "import numpy as np\n",
    "import matplotlib.pyplot as plt\n",
    "import seaborn as sns\n",
    "sns.set()"
   ]
  },
  {
   "cell_type": "code",
   "execution_count": 2,
   "id": "e93d9b25",
   "metadata": {},
   "outputs": [],
   "source": [
    "path = \"C:\\\\Users\\\\mayan\\\\Downloads\\\\large_dirty_dataset.csv\"\n",
    "df = pd.read_csv(path)"
   ]
  },
  {
   "cell_type": "code",
   "execution_count": 15,
   "id": "b6da653a",
   "metadata": {},
   "outputs": [
    {
     "data": {
      "text/html": [
       "<div>\n",
       "<style scoped>\n",
       "    .dataframe tbody tr th:only-of-type {\n",
       "        vertical-align: middle;\n",
       "    }\n",
       "\n",
       "    .dataframe tbody tr th {\n",
       "        vertical-align: top;\n",
       "    }\n",
       "\n",
       "    .dataframe thead th {\n",
       "        text-align: right;\n",
       "    }\n",
       "</style>\n",
       "<table border=\"1\" class=\"dataframe\">\n",
       "  <thead>\n",
       "    <tr style=\"text-align: right;\">\n",
       "      <th></th>\n",
       "      <th>CustomerID</th>\n",
       "      <th>Name</th>\n",
       "      <th>email</th>\n",
       "      <th>Age</th>\n",
       "      <th>country</th>\n",
       "      <th>signup_date</th>\n",
       "      <th>purchase_amount</th>\n",
       "    </tr>\n",
       "  </thead>\n",
       "  <tbody>\n",
       "    <tr>\n",
       "      <th>0</th>\n",
       "      <td>NaN</td>\n",
       "      <td>Bob Smith</td>\n",
       "      <td>bobsmith@@yahoo..com</td>\n",
       "      <td>NaN</td>\n",
       "      <td>usa</td>\n",
       "      <td>2021-10-14</td>\n",
       "      <td>63.41</td>\n",
       "    </tr>\n",
       "    <tr>\n",
       "      <th>1</th>\n",
       "      <td>NaN</td>\n",
       "      <td>David Clark</td>\n",
       "      <td>davidclark26@yahoo.com</td>\n",
       "      <td>NaN</td>\n",
       "      <td>canada</td>\n",
       "      <td>2021-13-28</td>\n",
       "      <td>391.46</td>\n",
       "    </tr>\n",
       "    <tr>\n",
       "      <th>2</th>\n",
       "      <td>1002.0</td>\n",
       "      <td>Grace Ocean</td>\n",
       "      <td>graceocean98@gmail.com</td>\n",
       "      <td>NaN</td>\n",
       "      <td>usa</td>\n",
       "      <td>2021/06/28</td>\n",
       "      <td>321.68</td>\n",
       "    </tr>\n",
       "    <tr>\n",
       "      <th>3</th>\n",
       "      <td>1003.0</td>\n",
       "      <td>Henry Clark</td>\n",
       "      <td>henryclark@@gmail</td>\n",
       "      <td>NaN</td>\n",
       "      <td>U.K.</td>\n",
       "      <td>20211007</td>\n",
       "      <td>NaN</td>\n",
       "    </tr>\n",
       "    <tr>\n",
       "      <th>4</th>\n",
       "      <td>1004.0</td>\n",
       "      <td>David Wong</td>\n",
       "      <td>davidwong13@hotmail.com</td>\n",
       "      <td>Thirty</td>\n",
       "      <td>United States</td>\n",
       "      <td>2021-06-12</td>\n",
       "      <td>NaN</td>\n",
       "    </tr>\n",
       "    <tr>\n",
       "      <th>5</th>\n",
       "      <td>NaN</td>\n",
       "      <td>Bob Lewis</td>\n",
       "      <td>boblewis@yahoo.com</td>\n",
       "      <td>NaN</td>\n",
       "      <td>canada</td>\n",
       "      <td>20211123</td>\n",
       "      <td>NaN</td>\n",
       "    </tr>\n",
       "    <tr>\n",
       "      <th>6</th>\n",
       "      <td>1006.0</td>\n",
       "      <td>Alice Lee</td>\n",
       "      <td>alicelee52@gmail.com</td>\n",
       "      <td>NaN</td>\n",
       "      <td>U.K.</td>\n",
       "      <td>2021/04/21</td>\n",
       "      <td>NaN</td>\n",
       "    </tr>\n",
       "    <tr>\n",
       "      <th>7</th>\n",
       "      <td>1007.0</td>\n",
       "      <td>Henry Brown</td>\n",
       "      <td>henrybrown96@@yahoo..com</td>\n",
       "      <td>NaN</td>\n",
       "      <td>NaN</td>\n",
       "      <td>2021-06-08</td>\n",
       "      <td>279.29</td>\n",
       "    </tr>\n",
       "    <tr>\n",
       "      <th>8</th>\n",
       "      <td>1008.0</td>\n",
       "      <td>Alice Johnson</td>\n",
       "      <td>alicejohnson88@@gmail</td>\n",
       "      <td>NaN</td>\n",
       "      <td>NaN</td>\n",
       "      <td>20211015</td>\n",
       "      <td>NaN</td>\n",
       "    </tr>\n",
       "    <tr>\n",
       "      <th>9</th>\n",
       "      <td>NaN</td>\n",
       "      <td>Alice Johnson</td>\n",
       "      <td>alicejohnson97@@yahoo..com</td>\n",
       "      <td>39</td>\n",
       "      <td>canada</td>\n",
       "      <td>2021/07/06</td>\n",
       "      <td>NaN</td>\n",
       "    </tr>\n",
       "  </tbody>\n",
       "</table>\n",
       "</div>"
      ],
      "text/plain": [
       "   CustomerID             Name                       email     Age  \\\n",
       "0         NaN      Bob Smith          bobsmith@@yahoo..com     NaN   \n",
       "1         NaN    David Clark        davidclark26@yahoo.com     NaN   \n",
       "2      1002.0    Grace Ocean        graceocean98@gmail.com     NaN   \n",
       "3      1003.0      Henry Clark           henryclark@@gmail     NaN   \n",
       "4      1004.0       David Wong     davidwong13@hotmail.com  Thirty   \n",
       "5         NaN      Bob Lewis            boblewis@yahoo.com     NaN   \n",
       "6      1006.0        Alice Lee        alicelee52@gmail.com     NaN   \n",
       "7      1007.0    Henry Brown      henrybrown96@@yahoo..com     NaN   \n",
       "8      1008.0    Alice Johnson       alicejohnson88@@gmail     NaN   \n",
       "9         NaN    Alice Johnson  alicejohnson97@@yahoo..com      39   \n",
       "\n",
       "         country signup_date  purchase_amount  \n",
       "0            usa  2021-10-14            63.41  \n",
       "1         canada  2021-13-28           391.46  \n",
       "2            usa  2021/06/28           321.68  \n",
       "3           U.K.    20211007              NaN  \n",
       "4  United States  2021-06-12              NaN  \n",
       "5         canada    20211123              NaN  \n",
       "6           U.K.  2021/04/21              NaN  \n",
       "7            NaN  2021-06-08           279.29  \n",
       "8            NaN    20211015              NaN  \n",
       "9         canada  2021/07/06              NaN  "
      ]
     },
     "execution_count": 15,
     "metadata": {},
     "output_type": "execute_result"
    }
   ],
   "source": [
    "df.head(10)"
   ]
  },
  {
   "cell_type": "code",
   "execution_count": 6,
   "id": "8fef8a88",
   "metadata": {},
   "outputs": [
    {
     "data": {
      "text/plain": [
       "0"
      ]
     },
     "execution_count": 6,
     "metadata": {},
     "output_type": "execute_result"
    }
   ],
   "source": [
    "df.duplicated().sum()"
   ]
  },
  {
   "cell_type": "code",
   "execution_count": 7,
   "id": "86a40dc5",
   "metadata": {},
   "outputs": [
    {
     "data": {
      "text/plain": [
       "CustomerID         34\n",
       "Name                0\n",
       "email               0\n",
       "Age                66\n",
       "country            16\n",
       "signup_date         0\n",
       "purchase_amount    75\n",
       "dtype: int64"
      ]
     },
     "execution_count": 7,
     "metadata": {},
     "output_type": "execute_result"
    }
   ],
   "source": [
    "df.isnull().sum()"
   ]
  },
  {
   "cell_type": "code",
   "execution_count": 12,
   "id": "31b8ff47",
   "metadata": {},
   "outputs": [
    {
     "data": {
      "image/png": "[encoded data removed]",
      "text/plain": [
       "<Figure size 640x480 with 2 Axes>"
      ]
     },
     "metadata": {},
     "output_type": "display_data"
    }
   ],
   "source": [
    "#plt.figure(figsize = (6,2) )\n",
    "sns.heatmap(data = df.isnull() , cbar = True ,color= \"red\", cmap = \"viridis\")\n",
    "plt.title(\"null values in the data set\")\n",
    "plt.show()"
   ]
  },
  {
   "cell_type": "code",
   "execution_count": 13,
   "id": "14cd9ba8",
   "metadata": {},
   "outputs": [
    {
     "name": "stdout",
     "output_type": "stream",
     "text": [
      "<class 'pandas.core.frame.DataFrame'>\n",
      "RangeIndex: 100 entries, 0 to 99\n",
      "Data columns (total 7 columns):\n",
      " #   Column           Non-Null Count  Dtype  \n",
      "---  ------           --------------  -----  \n",
      " 0   CustomerID       66 non-null     float64\n",
      " 1   Name             100 non-null    object \n",
      " 2   email            100 non-null    object \n",
      " 3   Age              34 non-null     object \n",
      " 4   country          84 non-null     object \n",
      " 5   signup_date      100 non-null    object \n",
      " 6   purchase_amount  25 non-null     float64\n",
      "dtypes: float64(2), object(5)\n",
      "memory usage: 5.6+ KB\n"
     ]
    }
   ],
   "source": [
    "df.info()"
   ]
  },
  {
   "cell_type": "code",
   "execution_count": 16,
   "id": "d1b36579",
   "metadata": {},
   "outputs": [],
   "source": [
    "df.dropna(inplace= True)"
   ]
  },
  {
   "cell_type": "code",
   "execution_count": 17,
   "id": "876288cb",
   "metadata": {},
   "outputs": [
    {
     "data": {
      "text/html": [
       "<div>\n",
       "<style scoped>\n",
       "    .dataframe tbody tr th:only-of-type {\n",
       "        vertical-align: middle;\n",
       "    }\n",
       "\n",
       "    .dataframe tbody tr th {\n",
       "        vertical-align: top;\n",
       "    }\n",
       "\n",
       "    .dataframe thead th {\n",
       "        text-align: right;\n",
       "    }\n",
       "</style>\n",
       "<table border=\"1\" class=\"dataframe\">\n",
       "  <thead>\n",
       "    <tr style=\"text-align: right;\">\n",
       "      <th></th>\n",
       "      <th>CustomerID</th>\n",
       "      <th>Name</th>\n",
       "      <th>email</th>\n",
       "      <th>Age</th>\n",
       "      <th>country</th>\n",
       "      <th>signup_date</th>\n",
       "      <th>purchase_amount</th>\n",
       "    </tr>\n",
       "  </thead>\n",
       "  <tbody>\n",
       "    <tr>\n",
       "      <th>11</th>\n",
       "      <td>1011.0</td>\n",
       "      <td>Alice Lewis</td>\n",
       "      <td>alicelewis15@hotmail.com</td>\n",
       "      <td>33</td>\n",
       "      <td>Canada</td>\n",
       "      <td>2021-10-03</td>\n",
       "      <td>379.36</td>\n",
       "    </tr>\n",
       "    <tr>\n",
       "      <th>35</th>\n",
       "      <td>1035.0</td>\n",
       "      <td>Frank Davis</td>\n",
       "      <td>frankdavis28@@yahoo..com</td>\n",
       "      <td>28</td>\n",
       "      <td>canada</td>\n",
       "      <td>20210922</td>\n",
       "      <td>328.67</td>\n",
       "    </tr>\n",
       "    <tr>\n",
       "      <th>59</th>\n",
       "      <td>1059.0</td>\n",
       "      <td>Eva Lewis</td>\n",
       "      <td>evalewis@@gmail</td>\n",
       "      <td>65</td>\n",
       "      <td>Canada</td>\n",
       "      <td>2021/11/07</td>\n",
       "      <td>347.19</td>\n",
       "    </tr>\n",
       "    <tr>\n",
       "      <th>79</th>\n",
       "      <td>1079.0</td>\n",
       "      <td>Frank Lewis</td>\n",
       "      <td>franklewis@@yahoo..com</td>\n",
       "      <td>Thirty</td>\n",
       "      <td>USA</td>\n",
       "      <td>20211028</td>\n",
       "      <td>400.24</td>\n",
       "    </tr>\n",
       "  </tbody>\n",
       "</table>\n",
       "</div>"
      ],
      "text/plain": [
       "    CustomerID         Name                     email     Age country  \\\n",
       "11      1011.0  Alice Lewis  alicelewis15@hotmail.com      33  Canada   \n",
       "35      1035.0  Frank Davis  frankdavis28@@yahoo..com      28  canada   \n",
       "59      1059.0    Eva Lewis           evalewis@@gmail      65  Canada   \n",
       "79      1079.0  Frank Lewis    franklewis@@yahoo..com  Thirty     USA   \n",
       "\n",
       "   signup_date  purchase_amount  \n",
       "11  2021-10-03           379.36  \n",
       "35    20210922           328.67  \n",
       "59  2021/11/07           347.19  \n",
       "79    20211028           400.24  "
      ]
     },
     "execution_count": 17,
     "metadata": {},
     "output_type": "execute_result"
    }
   ],
   "source": [
    "df.head()"
   ]
  },
  {
   "cell_type": "code",
   "execution_count": 18,
   "id": "1c9a8671",
   "metadata": {},
   "outputs": [
    {
     "data": {
      "text/plain": [
       "11    379.36\n",
       "35    328.67\n",
       "59    347.19\n",
       "79    400.24\n",
       "Name: purchase_amount, dtype: float64"
      ]
     },
     "execution_count": 18,
     "metadata": {},
     "output_type": "execute_result"
    }
   ],
   "source": [
    "df[\"purchase_amount\"]"
   ]
  },
  {
   "cell_type": "code",
   "execution_count": null,
   "id": "2a2ab9a9",
   "metadata": {},
   "outputs": [],
   "source": []
  }
 ],
 "metadata": {
  "kernelspec": {
   "display_name": "Python 3",
   "language": "python",
   "name": "python3"
  },
  "language_info": {
   "codemirror_mode": {
    "name": "ipython",
    "version": 3
   },
   "file_extension": ".py",
   "mimetype": "text/x-python",
   "name": "python",
   "nbconvert_exporter": "python",
   "pygments_lexer": "ipython3",
   "version": "3.12.2"
  }
 },
 "nbformat": 4,
 "nbformat_minor": 5
}
