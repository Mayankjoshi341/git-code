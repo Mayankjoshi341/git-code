{
 "cells": [
  {
   "cell_type": "code",
   "execution_count": 1,
   "id": "af795305",
   "metadata": {},
   "outputs": [],
   "source": [
    "import pandas as pd\n",
    "import numpy as np\n",
    "import matplotlib.pyplot as plt\n",
    "import seaborn as sns"
   ]
  },
  {
   "cell_type": "code",
   "execution_count": 2,
   "id": "0931e004",
   "metadata": {},
   "outputs": [],
   "source": [
    "path = \"C:\\\\Users\\\\mayan\\\\Downloads\\\\tested.csv\"\n",
    "df  = pd.read_csv(path)"
   ]
  },
  {
   "cell_type": "code",
   "execution_count": 17,
   "id": "011857e6",
   "metadata": {},
   "outputs": [
    {
     "data": {
      "application/vnd.microsoft.datawrangler.viewer.v0+json": {
       "columns": [
        {
         "name": "index",
         "rawType": "int64",
         "type": "integer"
        },
        {
         "name": "PassengerId",
         "rawType": "int64",
         "type": "integer"
        },
        {
         "name": "Survived",
         "rawType": "int64",
         "type": "integer"
        },
        {
         "name": "Pclass",
         "rawType": "int64",
         "type": "integer"
        },
        {
         "name": "Name",
         "rawType": "object",
         "type": "string"
        },
        {
         "name": "Sex",
         "rawType": "object",
         "type": "string"
        },
        {
         "name": "Age",
         "rawType": "float64",
         "type": "float"
        },
        {
         "name": "SibSp",
         "rawType": "int64",
         "type": "integer"
        },
        {
         "name": "Parch",
         "rawType": "int64",
         "type": "integer"
        },
        {
         "name": "Ticket",
         "rawType": "object",
         "type": "string"
        },
        {
         "name": "Fare",
         "rawType": "float64",
         "type": "float"
        },
        {
         "name": "Cabin",
         "rawType": "object",
         "type": "unknown"
        },
        {
         "name": "Embarked",
         "rawType": "object",
         "type": "string"
        }
       ],
       "conversionMethod": "pd.DataFrame",
       "ref": "89530c5e-8313-4665-bfcf-d0d7e5011538",
       "rows": [
        [
         "0",
         "892",
         "0",
         "3",
         "Kelly, Mr. James",
         "male",
         "34.5",
         "0",
         "0",
         "330911",
         "7.8292",
         null,
         "Q"
        ],
        [
         "1",
         "893",
         "1",
         "3",
         "Wilkes, Mrs. James (Ellen Needs)",
         "female",
         "47.0",
         "1",
         "0",
         "363272",
         "7.0",
         null,
         "S"
        ],
        [
         "2",
         "894",
         "0",
         "2",
         "Myles, Mr. Thomas Francis",
         "male",
         "62.0",
         "0",
         "0",
         "240276",
         "9.6875",
         null,
         "Q"
        ],
        [
         "3",
         "895",
         "0",
         "3",
         "Wirz, Mr. Albert",
         "male",
         "27.0",
         "0",
         "0",
         "315154",
         "8.6625",
         null,
         "S"
        ],
        [
         "4",
         "896",
         "1",
         "3",
         "Hirvonen, Mrs. Alexander (Helga E Lindqvist)",
         "female",
         "22.0",
         "1",
         "1",
         "3101298",
         "12.2875",
         null,
         "S"
        ],
        [
         "5",
         "897",
         "0",
         "3",
         "Svensson, Mr. Johan Cervin",
         "male",
         "14.0",
         "0",
         "0",
         "7538",
         "9.225",
         null,
         "S"
        ],
        [
         "6",
         "898",
         "1",
         "3",
         "Connolly, Miss. Kate",
         "female",
         "30.0",
         "0",
         "0",
         "330972",
         "7.6292",
         null,
         "Q"
        ],
        [
         "7",
         "899",
         "0",
         "2",
         "Caldwell, Mr. Albert Francis",
         "male",
         "26.0",
         "1",
         "1",
         "248738",
         "29.0",
         null,
         "S"
        ],
        [
         "8",
         "900",
         "1",
         "3",
         "Abrahim, Mrs. Joseph (Sophie Halaut Easu)",
         "female",
         "18.0",
         "0",
         "0",
         "2657",
         "7.2292",
         null,
         "C"
        ],
        [
         "9",
         "901",
         "0",
         "3",
         "Davies, Mr. John Samuel",
         "male",
         "21.0",
         "2",
         "0",
         "A/4 48871",
         "24.15",
         null,
         "S"
        ],
        [
         "10",
         "902",
         "0",
         "3",
         "Ilieff, Mr. Ylio",
         "male",
         null,
         "0",
         "0",
         "349220",
         "7.8958",
         null,
         "S"
        ],
        [
         "11",
         "903",
         "0",
         "1",
         "Jones, Mr. Charles Cresson",
         "male",
         "46.0",
         "0",
         "0",
         "694",
         "26.0",
         null,
         "S"
        ],
        [
         "12",
         "904",
         "1",
         "1",
         "Snyder, Mrs. John Pillsbury (Nelle Stevenson)",
         "female",
         "23.0",
         "1",
         "0",
         "21228",
         "82.2667",
         "B45",
         "S"
        ],
        [
         "13",
         "905",
         "0",
         "2",
         "Howard, Mr. Benjamin",
         "male",
         "63.0",
         "1",
         "0",
         "24065",
         "26.0",
         null,
         "S"
        ],
        [
         "14",
         "906",
         "1",
         "1",
         "Chaffee, Mrs. Herbert Fuller (Carrie Constance Toogood)",
         "female",
         "47.0",
         "1",
         "0",
         "W.E.P. 5734",
         "61.175",
         "E31",
         "S"
        ],
        [
         "15",
         "907",
         "1",
         "2",
         "del Carlo, Mrs. Sebastiano (Argenia Genovesi)",
         "female",
         "24.0",
         "1",
         "0",
         "SC/PARIS 2167",
         "27.7208",
         null,
         "C"
        ],
        [
         "16",
         "908",
         "0",
         "2",
         "Keane, Mr. Daniel",
         "male",
         "35.0",
         "0",
         "0",
         "233734",
         "12.35",
         null,
         "Q"
        ],
        [
         "17",
         "909",
         "0",
         "3",
         "Assaf, Mr. Gerios",
         "male",
         "21.0",
         "0",
         "0",
         "2692",
         "7.225",
         null,
         "C"
        ],
        [
         "18",
         "910",
         "1",
         "3",
         "Ilmakangas, Miss. Ida Livija",
         "female",
         "27.0",
         "1",
         "0",
         "STON/O2. 3101270",
         "7.925",
         null,
         "S"
        ],
        [
         "19",
         "911",
         "1",
         "3",
         "Assaf Khalil, Mrs. Mariana (Miriam\")\"",
         "female",
         "45.0",
         "0",
         "0",
         "2696",
         "7.225",
         null,
         "C"
        ]
       ],
       "shape": {
        "columns": 12,
        "rows": 20
       }
      },
      "text/html": [
       "<div>\n",
       "<style scoped>\n",
       "    .dataframe tbody tr th:only-of-type {\n",
       "        vertical-align: middle;\n",
       "    }\n",
       "\n",
       "    .dataframe tbody tr th {\n",
       "        vertical-align: top;\n",
       "    }\n",
       "\n",
       "    .dataframe thead th {\n",
       "        text-align: right;\n",
       "    }\n",
       "</style>\n",
       "<table border=\"1\" class=\"dataframe\">\n",
       "  <thead>\n",
       "    <tr style=\"text-align: right;\">\n",
       "      <th></th>\n",
       "      <th>PassengerId</th>\n",
       "      <th>Survived</th>\n",
       "      <th>Pclass</th>\n",
       "      <th>Name</th>\n",
       "      <th>Sex</th>\n",
       "      <th>Age</th>\n",
       "      <th>SibSp</th>\n",
       "      <th>Parch</th>\n",
       "      <th>Ticket</th>\n",
       "      <th>Fare</th>\n",
       "      <th>Cabin</th>\n",
       "      <th>Embarked</th>\n",
       "    </tr>\n",
       "  </thead>\n",
       "  <tbody>\n",
       "    <tr>\n",
       "      <th>0</th>\n",
       "      <td>892</td>\n",
       "      <td>0</td>\n",
       "      <td>3</td>\n",
       "      <td>Kelly, Mr. James</td>\n",
       "      <td>male</td>\n",
       "      <td>34.5</td>\n",
       "      <td>0</td>\n",
       "      <td>0</td>\n",
       "      <td>330911</td>\n",
       "      <td>7.8292</td>\n",
       "      <td>NaN</td>\n",
       "      <td>Q</td>\n",
       "    </tr>\n",
       "    <tr>\n",
       "      <th>1</th>\n",
       "      <td>893</td>\n",
       "      <td>1</td>\n",
       "      <td>3</td>\n",
       "      <td>Wilkes, Mrs. James (Ellen Needs)</td>\n",
       "      <td>female</td>\n",
       "      <td>47.0</td>\n",
       "      <td>1</td>\n",
       "      <td>0</td>\n",
       "      <td>363272</td>\n",
       "      <td>7.0000</td>\n",
       "      <td>NaN</td>\n",
       "      <td>S</td>\n",
       "    </tr>\n",
       "    <tr>\n",
       "      <th>2</th>\n",
       "      <td>894</td>\n",
       "      <td>0</td>\n",
       "      <td>2</td>\n",
       "      <td>Myles, Mr. Thomas Francis</td>\n",
       "      <td>male</td>\n",
       "      <td>62.0</td>\n",
       "      <td>0</td>\n",
       "      <td>0</td>\n",
       "      <td>240276</td>\n",
       "      <td>9.6875</td>\n",
       "      <td>NaN</td>\n",
       "      <td>Q</td>\n",
       "    </tr>\n",
       "    <tr>\n",
       "      <th>3</th>\n",
       "      <td>895</td>\n",
       "      <td>0</td>\n",
       "      <td>3</td>\n",
       "      <td>Wirz, Mr. Albert</td>\n",
       "      <td>male</td>\n",
       "      <td>27.0</td>\n",
       "      <td>0</td>\n",
       "      <td>0</td>\n",
       "      <td>315154</td>\n",
       "      <td>8.6625</td>\n",
       "      <td>NaN</td>\n",
       "      <td>S</td>\n",
       "    </tr>\n",
       "    <tr>\n",
       "      <th>4</th>\n",
       "      <td>896</td>\n",
       "      <td>1</td>\n",
       "      <td>3</td>\n",
       "      <td>Hirvonen, Mrs. Alexander (Helga E Lindqvist)</td>\n",
       "      <td>female</td>\n",
       "      <td>22.0</td>\n",
       "      <td>1</td>\n",
       "      <td>1</td>\n",
       "      <td>3101298</td>\n",
       "      <td>12.2875</td>\n",
       "      <td>NaN</td>\n",
       "      <td>S</td>\n",
       "    </tr>\n",
       "    <tr>\n",
       "      <th>5</th>\n",
       "      <td>897</td>\n",
       "      <td>0</td>\n",
       "      <td>3</td>\n",
       "      <td>Svensson, Mr. Johan Cervin</td>\n",
       "      <td>male</td>\n",
       "      <td>14.0</td>\n",
       "      <td>0</td>\n",
       "      <td>0</td>\n",
       "      <td>7538</td>\n",
       "      <td>9.2250</td>\n",
       "      <td>NaN</td>\n",
       "      <td>S</td>\n",
       "    </tr>\n",
       "    <tr>\n",
       "      <th>6</th>\n",
       "      <td>898</td>\n",
       "      <td>1</td>\n",
       "      <td>3</td>\n",
       "      <td>Connolly, Miss. Kate</td>\n",
       "      <td>female</td>\n",
       "      <td>30.0</td>\n",
       "      <td>0</td>\n",
       "      <td>0</td>\n",
       "      <td>330972</td>\n",
       "      <td>7.6292</td>\n",
       "      <td>NaN</td>\n",
       "      <td>Q</td>\n",
       "    </tr>\n",
       "    <tr>\n",
       "      <th>7</th>\n",
       "      <td>899</td>\n",
       "      <td>0</td>\n",
       "      <td>2</td>\n",
       "      <td>Caldwell, Mr. Albert Francis</td>\n",
       "      <td>male</td>\n",
       "      <td>26.0</td>\n",
       "      <td>1</td>\n",
       "      <td>1</td>\n",
       "      <td>248738</td>\n",
       "      <td>29.0000</td>\n",
       "      <td>NaN</td>\n",
       "      <td>S</td>\n",
       "    </tr>\n",
       "    <tr>\n",
       "      <th>8</th>\n",
       "      <td>900</td>\n",
       "      <td>1</td>\n",
       "      <td>3</td>\n",
       "      <td>Abrahim, Mrs. Joseph (Sophie Halaut Easu)</td>\n",
       "      <td>female</td>\n",
       "      <td>18.0</td>\n",
       "      <td>0</td>\n",
       "      <td>0</td>\n",
       "      <td>2657</td>\n",
       "      <td>7.2292</td>\n",
       "      <td>NaN</td>\n",
       "      <td>C</td>\n",
       "    </tr>\n",
       "    <tr>\n",
       "      <th>9</th>\n",
       "      <td>901</td>\n",
       "      <td>0</td>\n",
       "      <td>3</td>\n",
       "      <td>Davies, Mr. John Samuel</td>\n",
       "      <td>male</td>\n",
       "      <td>21.0</td>\n",
       "      <td>2</td>\n",
       "      <td>0</td>\n",
       "      <td>A/4 48871</td>\n",
       "      <td>24.1500</td>\n",
       "      <td>NaN</td>\n",
       "      <td>S</td>\n",
       "    </tr>\n",
       "    <tr>\n",
       "      <th>10</th>\n",
       "      <td>902</td>\n",
       "      <td>0</td>\n",
       "      <td>3</td>\n",
       "      <td>Ilieff, Mr. Ylio</td>\n",
       "      <td>male</td>\n",
       "      <td>NaN</td>\n",
       "      <td>0</td>\n",
       "      <td>0</td>\n",
       "      <td>349220</td>\n",
       "      <td>7.8958</td>\n",
       "      <td>NaN</td>\n",
       "      <td>S</td>\n",
       "    </tr>\n",
       "    <tr>\n",
       "      <th>11</th>\n",
       "      <td>903</td>\n",
       "      <td>0</td>\n",
       "      <td>1</td>\n",
       "      <td>Jones, Mr. Charles Cresson</td>\n",
       "      <td>male</td>\n",
       "      <td>46.0</td>\n",
       "      <td>0</td>\n",
       "      <td>0</td>\n",
       "      <td>694</td>\n",
       "      <td>26.0000</td>\n",
       "      <td>NaN</td>\n",
       "      <td>S</td>\n",
       "    </tr>\n",
       "    <tr>\n",
       "      <th>12</th>\n",
       "      <td>904</td>\n",
       "      <td>1</td>\n",
       "      <td>1</td>\n",
       "      <td>Snyder, Mrs. John Pillsbury (Nelle Stevenson)</td>\n",
       "      <td>female</td>\n",
       "      <td>23.0</td>\n",
       "      <td>1</td>\n",
       "      <td>0</td>\n",
       "      <td>21228</td>\n",
       "      <td>82.2667</td>\n",
       "      <td>B45</td>\n",
       "      <td>S</td>\n",
       "    </tr>\n",
       "    <tr>\n",
       "      <th>13</th>\n",
       "      <td>905</td>\n",
       "      <td>0</td>\n",
       "      <td>2</td>\n",
       "      <td>Howard, Mr. Benjamin</td>\n",
       "      <td>male</td>\n",
       "      <td>63.0</td>\n",
       "      <td>1</td>\n",
       "      <td>0</td>\n",
       "      <td>24065</td>\n",
       "      <td>26.0000</td>\n",
       "      <td>NaN</td>\n",
       "      <td>S</td>\n",
       "    </tr>\n",
       "    <tr>\n",
       "      <th>14</th>\n",
       "      <td>906</td>\n",
       "      <td>1</td>\n",
       "      <td>1</td>\n",
       "      <td>Chaffee, Mrs. Herbert Fuller (Carrie Constance...</td>\n",
       "      <td>female</td>\n",
       "      <td>47.0</td>\n",
       "      <td>1</td>\n",
       "      <td>0</td>\n",
       "      <td>W.E.P. 5734</td>\n",
       "      <td>61.1750</td>\n",
       "      <td>E31</td>\n",
       "      <td>S</td>\n",
       "    </tr>\n",
       "    <tr>\n",
       "      <th>15</th>\n",
       "      <td>907</td>\n",
       "      <td>1</td>\n",
       "      <td>2</td>\n",
       "      <td>del Carlo, Mrs. Sebastiano (Argenia Genovesi)</td>\n",
       "      <td>female</td>\n",
       "      <td>24.0</td>\n",
       "      <td>1</td>\n",
       "      <td>0</td>\n",
       "      <td>SC/PARIS 2167</td>\n",
       "      <td>27.7208</td>\n",
       "      <td>NaN</td>\n",
       "      <td>C</td>\n",
       "    </tr>\n",
       "    <tr>\n",
       "      <th>16</th>\n",
       "      <td>908</td>\n",
       "      <td>0</td>\n",
       "      <td>2</td>\n",
       "      <td>Keane, Mr. Daniel</td>\n",
       "      <td>male</td>\n",
       "      <td>35.0</td>\n",
       "      <td>0</td>\n",
       "      <td>0</td>\n",
       "      <td>233734</td>\n",
       "      <td>12.3500</td>\n",
       "      <td>NaN</td>\n",
       "      <td>Q</td>\n",
       "    </tr>\n",
       "    <tr>\n",
       "      <th>17</th>\n",
       "      <td>909</td>\n",
       "      <td>0</td>\n",
       "      <td>3</td>\n",
       "      <td>Assaf, Mr. Gerios</td>\n",
       "      <td>male</td>\n",
       "      <td>21.0</td>\n",
       "      <td>0</td>\n",
       "      <td>0</td>\n",
       "      <td>2692</td>\n",
       "      <td>7.2250</td>\n",
       "      <td>NaN</td>\n",
       "      <td>C</td>\n",
       "    </tr>\n",
       "    <tr>\n",
       "      <th>18</th>\n",
       "      <td>910</td>\n",
       "      <td>1</td>\n",
       "      <td>3</td>\n",
       "      <td>Ilmakangas, Miss. Ida Livija</td>\n",
       "      <td>female</td>\n",
       "      <td>27.0</td>\n",
       "      <td>1</td>\n",
       "      <td>0</td>\n",
       "      <td>STON/O2. 3101270</td>\n",
       "      <td>7.9250</td>\n",
       "      <td>NaN</td>\n",
       "      <td>S</td>\n",
       "    </tr>\n",
       "    <tr>\n",
       "      <th>19</th>\n",
       "      <td>911</td>\n",
       "      <td>1</td>\n",
       "      <td>3</td>\n",
       "      <td>Assaf Khalil, Mrs. Mariana (Miriam\")\"</td>\n",
       "      <td>female</td>\n",
       "      <td>45.0</td>\n",
       "      <td>0</td>\n",
       "      <td>0</td>\n",
       "      <td>2696</td>\n",
       "      <td>7.2250</td>\n",
       "      <td>NaN</td>\n",
       "      <td>C</td>\n",
       "    </tr>\n",
       "  </tbody>\n",
       "</table>\n",
       "</div>"
      ],
      "text/plain": [
       "    PassengerId  Survived  Pclass  \\\n",
       "0           892         0       3   \n",
       "1           893         1       3   \n",
       "2           894         0       2   \n",
       "3           895         0       3   \n",
       "4           896         1       3   \n",
       "5           897         0       3   \n",
       "6           898         1       3   \n",
       "7           899         0       2   \n",
       "8           900         1       3   \n",
       "9           901         0       3   \n",
       "10          902         0       3   \n",
       "11          903         0       1   \n",
       "12          904         1       1   \n",
       "13          905         0       2   \n",
       "14          906         1       1   \n",
       "15          907         1       2   \n",
       "16          908         0       2   \n",
       "17          909         0       3   \n",
       "18          910         1       3   \n",
       "19          911         1       3   \n",
       "\n",
       "                                                 Name     Sex   Age  SibSp  \\\n",
       "0                                    Kelly, Mr. James    male  34.5      0   \n",
       "1                    Wilkes, Mrs. James (Ellen Needs)  female  47.0      1   \n",
       "2                           Myles, Mr. Thomas Francis    male  62.0      0   \n",
       "3                                    Wirz, Mr. Albert    male  27.0      0   \n",
       "4        Hirvonen, Mrs. Alexander (Helga E Lindqvist)  female  22.0      1   \n",
       "5                          Svensson, Mr. Johan Cervin    male  14.0      0   \n",
       "6                                Connolly, Miss. Kate  female  30.0      0   \n",
       "7                        Caldwell, Mr. Albert Francis    male  26.0      1   \n",
       "8           Abrahim, Mrs. Joseph (Sophie Halaut Easu)  female  18.0      0   \n",
       "9                             Davies, Mr. John Samuel    male  21.0      2   \n",
       "10                                   Ilieff, Mr. Ylio    male   NaN      0   \n",
       "11                         Jones, Mr. Charles Cresson    male  46.0      0   \n",
       "12      Snyder, Mrs. John Pillsbury (Nelle Stevenson)  female  23.0      1   \n",
       "13                               Howard, Mr. Benjamin    male  63.0      1   \n",
       "14  Chaffee, Mrs. Herbert Fuller (Carrie Constance...  female  47.0      1   \n",
       "15      del Carlo, Mrs. Sebastiano (Argenia Genovesi)  female  24.0      1   \n",
       "16                                  Keane, Mr. Daniel    male  35.0      0   \n",
       "17                                  Assaf, Mr. Gerios    male  21.0      0   \n",
       "18                       Ilmakangas, Miss. Ida Livija  female  27.0      1   \n",
       "19              Assaf Khalil, Mrs. Mariana (Miriam\")\"  female  45.0      0   \n",
       "\n",
       "    Parch            Ticket     Fare Cabin Embarked  \n",
       "0       0            330911   7.8292   NaN        Q  \n",
       "1       0            363272   7.0000   NaN        S  \n",
       "2       0            240276   9.6875   NaN        Q  \n",
       "3       0            315154   8.6625   NaN        S  \n",
       "4       1           3101298  12.2875   NaN        S  \n",
       "5       0              7538   9.2250   NaN        S  \n",
       "6       0            330972   7.6292   NaN        Q  \n",
       "7       1            248738  29.0000   NaN        S  \n",
       "8       0              2657   7.2292   NaN        C  \n",
       "9       0         A/4 48871  24.1500   NaN        S  \n",
       "10      0            349220   7.8958   NaN        S  \n",
       "11      0               694  26.0000   NaN        S  \n",
       "12      0             21228  82.2667   B45        S  \n",
       "13      0             24065  26.0000   NaN        S  \n",
       "14      0       W.E.P. 5734  61.1750   E31        S  \n",
       "15      0     SC/PARIS 2167  27.7208   NaN        C  \n",
       "16      0            233734  12.3500   NaN        Q  \n",
       "17      0              2692   7.2250   NaN        C  \n",
       "18      0  STON/O2. 3101270   7.9250   NaN        S  \n",
       "19      0              2696   7.2250   NaN        C  "
      ]
     },
     "execution_count": 17,
     "metadata": {},
     "output_type": "execute_result"
    }
   ],
   "source": [
    "df.head(20)"
   ]
  },
  {
   "cell_type": "code",
   "execution_count": 6,
   "id": "85370ecc",
   "metadata": {},
   "outputs": [
    {
     "name": "stdout",
     "output_type": "stream",
     "text": [
      "<class 'pandas.core.frame.DataFrame'>\n",
      "RangeIndex: 418 entries, 0 to 417\n",
      "Data columns (total 12 columns):\n",
      " #   Column       Non-Null Count  Dtype  \n",
      "---  ------       --------------  -----  \n",
      " 0   PassengerId  418 non-null    int64  \n",
      " 1   Survived     418 non-null    int64  \n",
      " 2   Pclass       418 non-null    int64  \n",
      " 3   Name         418 non-null    object \n",
      " 4   Sex          418 non-null    object \n",
      " 5   Age          332 non-null    float64\n",
      " 6   SibSp        418 non-null    int64  \n",
      " 7   Parch        418 non-null    int64  \n",
      " 8   Ticket       418 non-null    object \n",
      " 9   Fare         417 non-null    float64\n",
      " 10  Cabin        91 non-null     object \n",
      " 11  Embarked     418 non-null    object \n",
      "dtypes: float64(2), int64(5), object(5)\n",
      "memory usage: 39.3+ KB\n"
     ]
    }
   ],
   "source": [
    "df.info()"
   ]
  },
  {
   "cell_type": "code",
   "execution_count": 31,
   "id": "b2f29de0",
   "metadata": {},
   "outputs": [
    {
     "data": {
      "application/vnd.microsoft.datawrangler.viewer.v0+json": {
       "columns": [
        {
         "name": "index",
         "rawType": "object",
         "type": "string"
        },
        {
         "name": "PassengerId",
         "rawType": "float64",
         "type": "float"
        },
        {
         "name": "Survived",
         "rawType": "float64",
         "type": "float"
        },
        {
         "name": "Pclass",
         "rawType": "float64",
         "type": "float"
        },
        {
         "name": "Age",
         "rawType": "float64",
         "type": "float"
        },
        {
         "name": "SibSp",
         "rawType": "float64",
         "type": "float"
        },
        {
         "name": "Parch",
         "rawType": "float64",
         "type": "float"
        },
        {
         "name": "Fare",
         "rawType": "float64",
         "type": "float"
        }
       ],
       "conversionMethod": "pd.DataFrame",
       "ref": "ca7c2bf9-9b7c-46eb-824d-e3e8b04d3a38",
       "rows": [
        [
         "count",
         "418.0",
         "418.0",
         "418.0",
         "418.0",
         "418.0",
         "418.0",
         "418.0"
        ],
        [
         "mean",
         "1100.5",
         "0.36363636363636365",
         "2.2655502392344498",
         "30.272590361445783",
         "0.4473684210526316",
         "0.3923444976076555",
         "35.627188489208635"
        ],
        [
         "std",
         "120.81045760473994",
         "0.4816221409322309",
         "0.8418375519640503",
         "12.634534168325064",
         "0.8967595611217135",
         "0.9814288785371691",
         "55.840500479541035"
        ],
        [
         "min",
         "892.0",
         "0.0",
         "1.0",
         "0.17",
         "0.0",
         "0.0",
         "0.0"
        ],
        [
         "25%",
         "996.25",
         "0.0",
         "1.0",
         "23.0",
         "0.0",
         "0.0",
         "7.8958"
        ],
        [
         "50%",
         "1100.5",
         "0.0",
         "3.0",
         "30.272590361445783",
         "0.0",
         "0.0",
         "14.4542"
        ],
        [
         "75%",
         "1204.75",
         "1.0",
         "3.0",
         "35.75",
         "1.0",
         "0.0",
         "31.5"
        ],
        [
         "max",
         "1309.0",
         "1.0",
         "3.0",
         "76.0",
         "8.0",
         "9.0",
         "512.3292"
        ]
       ],
       "shape": {
        "columns": 7,
        "rows": 8
       }
      },
      "text/html": [
       "<div>\n",
       "<style scoped>\n",
       "    .dataframe tbody tr th:only-of-type {\n",
       "        vertical-align: middle;\n",
       "    }\n",
       "\n",
       "    .dataframe tbody tr th {\n",
       "        vertical-align: top;\n",
       "    }\n",
       "\n",
       "    .dataframe thead th {\n",
       "        text-align: right;\n",
       "    }\n",
       "</style>\n",
       "<table border=\"1\" class=\"dataframe\">\n",
       "  <thead>\n",
       "    <tr style=\"text-align: right;\">\n",
       "      <th></th>\n",
       "      <th>PassengerId</th>\n",
       "      <th>Survived</th>\n",
       "      <th>Pclass</th>\n",
       "      <th>Age</th>\n",
       "      <th>SibSp</th>\n",
       "      <th>Parch</th>\n",
       "      <th>Fare</th>\n",
       "    </tr>\n",
       "  </thead>\n",
       "  <tbody>\n",
       "    <tr>\n",
       "      <th>count</th>\n",
       "      <td>418.000000</td>\n",
       "      <td>418.000000</td>\n",
       "      <td>418.000000</td>\n",
       "      <td>418.000000</td>\n",
       "      <td>418.000000</td>\n",
       "      <td>418.000000</td>\n",
       "      <td>418.000000</td>\n",
       "    </tr>\n",
       "    <tr>\n",
       "      <th>mean</th>\n",
       "      <td>1100.500000</td>\n",
       "      <td>0.363636</td>\n",
       "      <td>2.265550</td>\n",
       "      <td>30.272590</td>\n",
       "      <td>0.447368</td>\n",
       "      <td>0.392344</td>\n",
       "      <td>35.627188</td>\n",
       "    </tr>\n",
       "    <tr>\n",
       "      <th>std</th>\n",
       "      <td>120.810458</td>\n",
       "      <td>0.481622</td>\n",
       "      <td>0.841838</td>\n",
       "      <td>12.634534</td>\n",
       "      <td>0.896760</td>\n",
       "      <td>0.981429</td>\n",
       "      <td>55.840500</td>\n",
       "    </tr>\n",
       "    <tr>\n",
       "      <th>min</th>\n",
       "      <td>892.000000</td>\n",
       "      <td>0.000000</td>\n",
       "      <td>1.000000</td>\n",
       "      <td>0.170000</td>\n",
       "      <td>0.000000</td>\n",
       "      <td>0.000000</td>\n",
       "      <td>0.000000</td>\n",
       "    </tr>\n",
       "    <tr>\n",
       "      <th>25%</th>\n",
       "      <td>996.250000</td>\n",
       "      <td>0.000000</td>\n",
       "      <td>1.000000</td>\n",
       "      <td>23.000000</td>\n",
       "      <td>0.000000</td>\n",
       "      <td>0.000000</td>\n",
       "      <td>7.895800</td>\n",
       "    </tr>\n",
       "    <tr>\n",
       "      <th>50%</th>\n",
       "      <td>1100.500000</td>\n",
       "      <td>0.000000</td>\n",
       "      <td>3.000000</td>\n",
       "      <td>30.272590</td>\n",
       "      <td>0.000000</td>\n",
       "      <td>0.000000</td>\n",
       "      <td>14.454200</td>\n",
       "    </tr>\n",
       "    <tr>\n",
       "      <th>75%</th>\n",
       "      <td>1204.750000</td>\n",
       "      <td>1.000000</td>\n",
       "      <td>3.000000</td>\n",
       "      <td>35.750000</td>\n",
       "      <td>1.000000</td>\n",
       "      <td>0.000000</td>\n",
       "      <td>31.500000</td>\n",
       "    </tr>\n",
       "    <tr>\n",
       "      <th>max</th>\n",
       "      <td>1309.000000</td>\n",
       "      <td>1.000000</td>\n",
       "      <td>3.000000</td>\n",
       "      <td>76.000000</td>\n",
       "      <td>8.000000</td>\n",
       "      <td>9.000000</td>\n",
       "      <td>512.329200</td>\n",
       "    </tr>\n",
       "  </tbody>\n",
       "</table>\n",
       "</div>"
      ],
      "text/plain": [
       "       PassengerId    Survived      Pclass         Age       SibSp  \\\n",
       "count   418.000000  418.000000  418.000000  418.000000  418.000000   \n",
       "mean   1100.500000    0.363636    2.265550   30.272590    0.447368   \n",
       "std     120.810458    0.481622    0.841838   12.634534    0.896760   \n",
       "min     892.000000    0.000000    1.000000    0.170000    0.000000   \n",
       "25%     996.250000    0.000000    1.000000   23.000000    0.000000   \n",
       "50%    1100.500000    0.000000    3.000000   30.272590    0.000000   \n",
       "75%    1204.750000    1.000000    3.000000   35.750000    1.000000   \n",
       "max    1309.000000    1.000000    3.000000   76.000000    8.000000   \n",
       "\n",
       "            Parch        Fare  \n",
       "count  418.000000  418.000000  \n",
       "mean     0.392344   35.627188  \n",
       "std      0.981429   55.840500  \n",
       "min      0.000000    0.000000  \n",
       "25%      0.000000    7.895800  \n",
       "50%      0.000000   14.454200  \n",
       "75%      0.000000   31.500000  \n",
       "max      9.000000  512.329200  "
      ]
     },
     "execution_count": 31,
     "metadata": {},
     "output_type": "execute_result"
    }
   ],
   "source": [
    "df.describe()"
   ]
  },
  {
   "cell_type": "code",
   "execution_count": 16,
   "id": "5eb8c99d",
   "metadata": {},
   "outputs": [
    {
     "data": {
      "text/plain": [
       "20.574162679425836"
      ]
     },
     "execution_count": 16,
     "metadata": {},
     "output_type": "execute_result"
    }
   ],
   "source": [
    "df[\"Age\"].isnull().sum()\n",
    "df[\"Age\"].isnull().sum() / df.shape[0] * 100"
   ]
  },
  {
   "cell_type": "code",
   "execution_count": 15,
   "id": "e5e34011",
   "metadata": {},
   "outputs": [
    {
     "data": {
      "text/plain": [
       "count    332.000000\n",
       "mean      30.272590\n",
       "std       14.181209\n",
       "min        0.170000\n",
       "25%       21.000000\n",
       "50%       27.000000\n",
       "75%       39.000000\n",
       "max       76.000000\n",
       "Name: Age, dtype: float64"
      ]
     },
     "execution_count": 15,
     "metadata": {},
     "output_type": "execute_result"
    }
   ],
   "source": [
    "df[\"Age\"].describe()"
   ]
  },
  {
   "cell_type": "code",
   "execution_count": 19,
   "id": "37cf1987",
   "metadata": {},
   "outputs": [
    {
     "data": {
      "text/plain": [
       "0"
      ]
     },
     "execution_count": 19,
     "metadata": {},
     "output_type": "execute_result"
    }
   ],
   "source": [
    "df[\"Age\"].fillna(df[\"Age\"].mean(), inplace=True)\n",
    "df[\"Age\"].isnull().sum()"
   ]
  },
  {
   "cell_type": "code",
   "execution_count": 24,
   "id": "1567f587",
   "metadata": {},
   "outputs": [
    {
     "name": "stderr",
     "output_type": "stream",
     "text": [
      "C:\\Users\\mayan\\AppData\\Local\\Temp\\ipykernel_9916\\508295085.py:3: FutureWarning: A value is trying to be set on a copy of a DataFrame or Series through chained assignment using an inplace method.\n",
      "The behavior will change in pandas 3.0. This inplace method will never work because the intermediate object on which we are setting values always behaves as a copy.\n",
      "\n",
      "For example, when doing 'df[col].method(value, inplace=True)', try using 'df.method({col: value}, inplace=True)' or df[col] = df[col].method(value) instead, to perform the operation inplace on the original object.\n",
      "\n",
      "\n",
      "  df[\"Fare\"].fillna(x, inplace=True)\n"
     ]
    }
   ],
   "source": [
    "df[\"Fare\"].isnull().sum()\n",
    "x = df[\"Fare\"].mean()\n",
    "df[\"Fare\"].fillna(x, inplace=True)"
   ]
  },
  {
   "cell_type": "code",
   "execution_count": 29,
   "id": "5b58df07",
   "metadata": {},
   "outputs": [
    {
     "data": {
      "text/plain": [
       "array([nan, 'B45', 'E31', 'B57 B59 B63 B66', 'B36', 'A21', 'C78', 'D34',\n",
       "       'D19', 'A9', 'D15', 'C31', 'C23 C25 C27', 'F G63', 'B61', 'C53',\n",
       "       'D43', 'C130', 'C132', 'C101', 'C55 C57', 'B71', 'C46', 'C116',\n",
       "       'F', 'A29', 'G6', 'C6', 'C28', 'C51', 'E46', 'C54', 'C97', 'D22',\n",
       "       'B10', 'F4', 'E45', 'E52', 'D30', 'B58 B60', 'E34', 'C62 C64',\n",
       "       'A11', 'B11', 'C80', 'F33', 'C85', 'D37', 'C86', 'D21', 'C89',\n",
       "       'F E46', 'A34', 'D', 'B26', 'C22 C26', 'B69', 'C32', 'B78',\n",
       "       'F E57', 'F2', 'A18', 'C106', 'B51 B53 B55', 'D10 D12', 'E60',\n",
       "       'E50', 'E39 E41', 'B52 B54 B56', 'C39', 'B24', 'D28', 'B41', 'C7',\n",
       "       'D40', 'D38', 'C105'], dtype=object)"
      ]
     },
     "execution_count": 29,
     "metadata": {},
     "output_type": "execute_result"
    }
   ],
   "source": [
    "df[\"Cabin\"].unique()"
   ]
  },
  {
   "cell_type": "code",
   "execution_count": null,
   "id": "4233b635",
   "metadata": {},
   "outputs": [
    {
     "name": "stdout",
     "output_type": "stream",
     "text": [
      "     PassengerId  Survived  Pclass                                                             Name     Sex       Age  SibSp  Parch              Ticket        Fare            Cabin Embarked\n",
      "0            892         0       3                                                 Kelly, Mr. James    male  34.50000      0      0              330911    7.829200              NaN        Q\n",
      "1            893         1       3                                 Wilkes, Mrs. James (Ellen Needs)  female  47.00000      1      0              363272    7.000000              NaN        S\n",
      "2            894         0       2                                        Myles, Mr. Thomas Francis    male  62.00000      0      0              240276    9.687500              NaN        Q\n",
      "3            895         0       3                                                 Wirz, Mr. Albert    male  27.00000      0      0              315154    8.662500              NaN        S\n",
      "4            896         1       3                     Hirvonen, Mrs. Alexander (Helga E Lindqvist)  female  22.00000      1      1             3101298   12.287500              NaN        S\n",
      "5            897         0       3                                       Svensson, Mr. Johan Cervin    male  14.00000      0      0                7538    9.225000              NaN        S\n",
      "6            898         1       3                                             Connolly, Miss. Kate  female  30.00000      0      0              330972    7.629200              NaN        Q\n",
      "7            899         0       2                                     Caldwell, Mr. Albert Francis    male  26.00000      1      1              248738   29.000000              NaN        S\n",
      "8            900         1       3                        Abrahim, Mrs. Joseph (Sophie Halaut Easu)  female  18.00000      0      0                2657    7.229200              NaN        C\n",
      "9            901         0       3                                          Davies, Mr. John Samuel    male  21.00000      2      0           A/4 48871   24.150000              NaN        S\n",
      "10           902         0       3                                                 Ilieff, Mr. Ylio    male  30.27259      0      0              349220    7.895800              NaN        S\n",
      "11           903         0       1                                       Jones, Mr. Charles Cresson    male  46.00000      0      0                 694   26.000000              NaN        S\n",
      "12           904         1       1                    Snyder, Mrs. John Pillsbury (Nelle Stevenson)  female  23.00000      1      0               21228   82.266700              B45        S\n",
      "13           905         0       2                                             Howard, Mr. Benjamin    male  63.00000      1      0               24065   26.000000              NaN        S\n",
      "14           906         1       1          Chaffee, Mrs. Herbert Fuller (Carrie Constance Toogood)  female  47.00000      1      0         W.E.P. 5734   61.175000              E31        S\n",
      "15           907         1       2                    del Carlo, Mrs. Sebastiano (Argenia Genovesi)  female  24.00000      1      0       SC/PARIS 2167   27.720800              NaN        C\n",
      "16           908         0       2                                                Keane, Mr. Daniel    male  35.00000      0      0              233734   12.350000              NaN        Q\n",
      "17           909         0       3                                                Assaf, Mr. Gerios    male  21.00000      0      0                2692    7.225000              NaN        C\n",
      "18           910         1       3                                     Ilmakangas, Miss. Ida Livija  female  27.00000      1      0    STON/O2. 3101270    7.925000              NaN        S\n",
      "19           911         1       3                            Assaf Khalil, Mrs. Mariana (Miriam\")\"  female  45.00000      0      0                2696    7.225000              NaN        C\n",
      "20           912         0       1                                           Rothschild, Mr. Martin    male  55.00000      1      0            PC 17603   59.400000              NaN        C\n",
      "21           913         0       3                                        Olsen, Master. Artur Karl    male   9.00000      0      1             C 17368    3.170800              NaN        S\n",
      "22           914         1       1                             Flegenheim, Mrs. Alfred (Antoinette)  female  30.27259      0      0            PC 17598   31.683300              NaN        S\n",
      "23           915         0       1                                  Williams, Mr. Richard Norris II    male  21.00000      0      1            PC 17597   61.379200              NaN        C\n",
      "24           916         1       1                  Ryerson, Mrs. Arthur Larned (Emily Maria Borie)  female  48.00000      1      3            PC 17608  262.375000  B57 B59 B63 B66        C\n",
      "25           917         0       3                                          Robins, Mr. Alexander A    male  50.00000      1      0           A/5. 3337   14.500000              NaN        S\n",
      "26           918         1       1                                     Ostby, Miss. Helene Ragnhild  female  22.00000      0      1              113509   61.979200              B36        C\n",
      "27           919         0       3                                                Daher, Mr. Shedid    male  22.50000      0      0                2698    7.225000              NaN        C\n",
      "28           920         0       1                                          Brady, Mr. John Bertram    male  41.00000      0      0              113054   30.500000              A21        S\n",
      "29           921         0       3                                                Samaan, Mr. Elias    male  30.27259      2      0                2662   21.679200              NaN        C\n",
      "30           922         0       2                                     Louch, Mr. Charles Alexander    male  50.00000      1      0          SC/AH 3085   26.000000              NaN        S\n",
      "31           923         0       2                                    Jefferys, Mr. Clifford Thomas    male  24.00000      2      0          C.A. 31029   31.500000              NaN        S\n",
      "32           924         1       3                         Dean, Mrs. Bertram (Eva Georgetta Light)  female  33.00000      1      2           C.A. 2315   20.575000              NaN        S\n",
      "33           925         1       3                Johnston, Mrs. Andrew G (Elizabeth Lily\" Watson)\"  female  30.27259      1      2          W./C. 6607   23.450000              NaN        S\n",
      "34           926         0       1                                         Mock, Mr. Philipp Edmund    male  30.00000      1      0               13236   57.750000              C78        C\n",
      "35           927         0       3                 Katavelas, Mr. Vassilios (Catavelas Vassilios\")\"    male  18.50000      0      0                2682    7.229200              NaN        C\n",
      "36           928         1       3                                              Roth, Miss. Sarah A  female  30.27259      0      0              342712    8.050000              NaN        S\n",
      "37           929         1       3                                               Cacic, Miss. Manda  female  21.00000      0      0              315087    8.662500              NaN        S\n",
      "38           930         0       3                                                  Sap, Mr. Julius    male  25.00000      0      0              345768    9.500000              NaN        S\n",
      "39           931         0       3                                                    Hee, Mr. Ling    male  30.27259      0      0                1601   56.495800              NaN        S\n",
      "40           932         0       3                                                 Karun, Mr. Franz    male  39.00000      0      1              349256   13.416700              NaN        C\n",
      "41           933         0       1                                      Franklin, Mr. Thomas Parham    male  30.27259      0      0              113778   26.550000              D34        S\n",
      "42           934         0       3                                            Goldsmith, Mr. Nathan    male  41.00000      0      0  SOTON/O.Q. 3101263    7.850000              NaN        S\n",
      "43           935         1       2                            Corbett, Mrs. Walter H (Irene Colvin)  female  30.00000      0      0              237249   13.000000              NaN        S\n",
      "44           936         1       1                 Kimball, Mrs. Edwin Nelson Jr (Gertrude Parsons)  female  45.00000      1      0               11753   52.554200              D19        S\n",
      "45           937         0       3                                  Peltomaki, Mr. Nikolai Johannes    male  25.00000      0      0   STON/O 2. 3101291    7.925000              NaN        S\n",
      "46           938         0       1                                         Chevre, Mr. Paul Romaine    male  45.00000      0      0            PC 17594   29.700000               A9        C\n",
      "47           939         0       3                                         Shaughnessy, Mr. Patrick    male  30.27259      0      0              370374    7.750000              NaN        Q\n",
      "48           940         1       1                  Bucknell, Mrs. William Robert (Emma Eliza Ward)  female  60.00000      0      0               11813   76.291700              D15        C\n",
      "49           941         1       3                   Coutts, Mrs. William (Winnie Minnie\" Treanor)\"  female  36.00000      0      2          C.A. 37671   15.900000              NaN        S\n",
      "50           942         0       1                                         Smith, Mr. Lucien Philip    male  24.00000      1      0               13695   60.000000              C31        S\n",
      "51           943         0       2                                               Pulbaum, Mr. Franz    male  27.00000      0      0       SC/PARIS 2168   15.033300              NaN        C\n",
      "52           944         1       2                                    Hocking, Miss. Ellen Nellie\"\"  female  20.00000      2      1               29105   23.000000              NaN        S\n",
      "53           945         1       1                                       Fortune, Miss. Ethel Flora  female  28.00000      3      2               19950  263.000000      C23 C25 C27        S\n",
      "54           946         0       2                                Mangiavacchi, Mr. Serafino Emilio    male  30.27259      0      0         SC/A.3 2861   15.579200              NaN        C\n",
      "55           947         0       3                                             Rice, Master. Albert    male  10.00000      4      1              382652   29.125000              NaN        Q\n",
      "56           948         0       3                                                  Cor, Mr. Bartol    male  35.00000      0      0              349230    7.895800              NaN        S\n",
      "57           949         0       3                                    Abelseth, Mr. Olaus Jorgensen    male  25.00000      0      0              348122    7.650000            F G63        S\n",
      "58           950         0       3                                        Davison, Mr. Thomas Henry    male  30.27259      1      0              386525   16.100000              NaN        S\n",
      "59           951         1       1                                      Chaudanson, Miss. Victorine  female  36.00000      0      0            PC 17608  262.375000              B61        C\n",
      "60           952         0       3                                                  Dika, Mr. Mirko    male  17.00000      0      0              349232    7.895800              NaN        S\n",
      "61           953         0       2                                        McCrae, Mr. Arthur Gordon    male  32.00000      0      0              237216   13.500000              NaN        S\n",
      "62           954         0       3                                     Bjorklund, Mr. Ernst Herbert    male  18.00000      0      0              347090    7.750000              NaN        S\n",
      "63           955         1       3                                     Bradley, Miss. Bridget Delia  female  22.00000      0      0              334914    7.725000              NaN        Q\n",
      "64           956         0       1                                      Ryerson, Master. John Borie    male  13.00000      2      2            PC 17608  262.375000  B57 B59 B63 B66        C\n",
      "65           957         1       2              Corey, Mrs. Percy C (Mary Phyllis Elizabeth Miller)  female  30.27259      0      0        F.C.C. 13534   21.000000              NaN        S\n",
      "66           958         1       3                                          Burns, Miss. Mary Delia  female  18.00000      0      0              330963    7.879200              NaN        Q\n",
      "67           959         0       1                                   Moore, Mr. Clarence Bloomfield    male  47.00000      0      0              113796   42.400000              NaN        S\n",
      "68           960         0       1                                  Tucker, Mr. Gilbert Milligan Jr    male  31.00000      0      0                2543   28.537500              C53        C\n",
      "69           961         1       1                              Fortune, Mrs. Mark (Mary McDougald)  female  60.00000      1      4               19950  263.000000      C23 C25 C27        S\n",
      "70           962         1       3                                        Mulvihill, Miss. Bertha E  female  24.00000      0      0              382653    7.750000              NaN        Q\n",
      "71           963         0       3                                               Minkoff, Mr. Lazar    male  21.00000      0      0              349211    7.895800              NaN        S\n",
      "72           964         1       3                                   Nieminen, Miss. Manta Josefina  female  29.00000      0      0             3101297    7.925000              NaN        S\n",
      "73           965         0       1                                  Ovies y Rodriguez, Mr. Servando    male  28.50000      0      0            PC 17562   27.720800              D43        C\n",
      "74           966         1       1                                             Geiger, Miss. Amalie  female  35.00000      0      0              113503  211.500000             C130        C\n",
      "75           967         0       1                                               Keeping, Mr. Edwin    male  32.50000      0      0              113503  211.500000             C132        C\n",
      "76           968         0       3                                                 Miles, Mr. Frank    male  30.27259      0      0              359306    8.050000              NaN        S\n",
      "77           969         1       1             Cornell, Mrs. Robert Clifford (Malvina Helen Lamson)  female  55.00000      2      0               11770   25.700000             C101        S\n",
      "78           970         0       2                                   Aldworth, Mr. Charles Augustus    male  30.00000      0      0              248744   13.000000              NaN        S\n",
      "79           971         1       3                                           Doyle, Miss. Elizabeth  female  24.00000      0      0              368702    7.750000              NaN        Q\n",
      "80           972         0       3                                             Boulos, Master. Akar    male   6.00000      1      1                2678   15.245800              NaN        C\n",
      "81           973         0       1                                               Straus, Mr. Isidor    male  67.00000      1      0            PC 17483  221.779200          C55 C57        S\n",
      "82           974         0       1                                           Case, Mr. Howard Brown    male  49.00000      0      0               19924   26.000000              NaN        S\n",
      "83           975         0       3                                             Demetri, Mr. Marinko    male  30.27259      0      0              349238    7.895800              NaN        S\n",
      "84           976         0       2                                            Lamb, Mr. John Joseph    male  30.27259      0      0              240261   10.708300              NaN        Q\n",
      "85           977         0       3                                               Khalil, Mr. Betros    male  30.27259      1      0                2660   14.454200              NaN        C\n",
      "86           978         1       3                                               Barry, Miss. Julia  female  27.00000      0      0              330844    7.879200              NaN        Q\n",
      "87           979         1       3                                       Badman, Miss. Emily Louisa  female  18.00000      0      0           A/4 31416    8.050000              NaN        S\n",
      "88           980         1       3                                          O'Donoghue, Ms. Bridget  female  30.27259      0      0              364856    7.750000              NaN        Q\n",
      "89           981         0       2                                      Wells, Master. Ralph Lester    male   2.00000      1      1               29103   23.000000              NaN        S\n",
      "90           982         1       3      Dyker, Mrs. Adolf Fredrik (Anna Elisabeth Judith Andersson)  female  22.00000      1      0              347072   13.900000              NaN        S\n",
      "91           983         0       3                                               Pedersen, Mr. Olaf    male  30.27259      0      0              345498    7.775000              NaN        S\n",
      "92           984         1       1                             Davidson, Mrs. Thornton (Orian Hays)  female  27.00000      1      2          F.C. 12750   52.000000              B71        S\n",
      "93           985         0       3                                                Guest, Mr. Robert    male  30.27259      0      0              376563    8.050000              NaN        S\n",
      "94           986         0       1                                              Birnbaum, Mr. Jakob    male  25.00000      0      0               13905   26.000000              NaN        C\n",
      "95           987         0       3                                       Tenglin, Mr. Gunnar Isidor    male  25.00000      0      0              350033    7.795800              NaN        S\n",
      "96           988         1       1           Cavendish, Mrs. Tyrell William (Julia Florence Siegel)  female  76.00000      1      0               19877   78.850000              C46        S\n",
      "97           989         0       3                                        Makinen, Mr. Kalle Edvard    male  29.00000      0      0   STON/O 2. 3101268    7.925000              NaN        S\n",
      "98           990         1       3                                     Braf, Miss. Elin Ester Maria  female  20.00000      0      0              347471    7.854200              NaN        S\n",
      "99           991         0       3                                     Nancarrow, Mr. William Henry    male  33.00000      0      0          A./5. 3338    8.050000              NaN        S\n",
      "100          992         1       1              Stengel, Mrs. Charles Emil Henry (Annie May Morris)  female  43.00000      1      0               11778   55.441700             C116        C\n",
      "101          993         0       2                                               Weisz, Mr. Leopold    male  27.00000      1      0              228414   26.000000              NaN        S\n",
      "102          994         0       3                                               Foley, Mr. William    male  30.27259      0      0              365235    7.750000              NaN        Q\n",
      "103          995         0       3                           Johansson Palmquist, Mr. Oskar Leander    male  26.00000      0      0              347070    7.775000              NaN        S\n",
      "104          996         1       3                        Thomas, Mrs. Alexander (Thamine Thelma\")\"  female  16.00000      1      1                2625    8.516700              NaN        C\n",
      "105          997         0       3                                        Holthen, Mr. Johan Martin    male  28.00000      0      0              C 4001   22.525000              NaN        S\n",
      "106          998         0       3                                              Buckley, Mr. Daniel    male  21.00000      0      0              330920    7.820800              NaN        Q\n",
      "107          999         0       3                                                 Ryan, Mr. Edward    male  30.27259      0      0              383162    7.750000              NaN        Q\n",
      "108         1000         0       3                                 Willer, Mr. Aaron (Abi Weller\")\"    male  30.27259      0      0                3410    8.712500              NaN        S\n",
      "109         1001         0       2                                                Swane, Mr. George    male  18.50000      0      0              248734   13.000000                F        S\n",
      "110         1002         0       2                                         Stanton, Mr. Samuel Ward    male  41.00000      0      0              237734   15.045800              NaN        C\n",
      "111         1003         1       3                                       Shine, Miss. Ellen Natalia  female  30.27259      0      0              330968    7.779200              NaN        Q\n",
      "112         1004         1       1                                         Evans, Miss. Edith Corse  female  36.00000      0      0            PC 17531   31.679200              A29        C\n",
      "113         1005         1       3                                         Buckley, Miss. Katherine  female  18.50000      0      0              329944    7.283300              NaN        Q\n",
      "114         1006         1       1                           Straus, Mrs. Isidor (Rosalie Ida Blun)  female  63.00000      1      0            PC 17483  221.779200          C55 C57        S\n",
      "115         1007         0       3                                      Chronopoulos, Mr. Demetrios    male  18.00000      1      0                2680   14.454200              NaN        C\n",
      "116         1008         0       3                                                 Thomas, Mr. John    male  30.27259      0      0                2681    6.437500              NaN        C\n",
      "117         1009         1       3                                  Sandstrom, Miss. Beatrice Irene  female   1.00000      1      1             PP 9549   16.700000               G6        S\n",
      "118         1010         0       1                                             Beattie, Mr. Thomson    male  36.00000      0      0               13050   75.241700               C6        C\n",
      "119         1011         1       2                  Chapman, Mrs. John Henry (Sara Elizabeth Lawry)  female  29.00000      1      0         SC/AH 29037   26.000000              NaN        S\n",
      "120         1012         1       2                                             Watt, Miss. Bertha J  female  12.00000      0      0          C.A. 33595   15.750000              NaN        S\n",
      "121         1013         0       3                                                Kiernan, Mr. John    male  30.27259      1      0              367227    7.750000              NaN        Q\n",
      "122         1014         1       1                                  Schabert, Mrs. Paul (Emma Mock)  female  35.00000      1      0               13236   57.750000              C28        C\n",
      "123         1015         0       3                                          Carver, Mr. Alfred John    male  28.00000      0      0              392095    7.250000              NaN        S\n",
      "124         1016         0       3                                                Kennedy, Mr. John    male  30.27259      0      0              368783    7.750000              NaN        Q\n",
      "125         1017         1       3                                         Cribb, Miss. Laura Alice  female  17.00000      0      1              371362   16.100000              NaN        S\n",
      "126         1018         0       3                                         Brobeck, Mr. Karl Rudolf    male  22.00000      0      0              350045    7.795800              NaN        S\n",
      "127         1019         1       3                                              McCoy, Miss. Alicia  female  30.27259      2      0              367226   23.250000              NaN        Q\n",
      "128         1020         0       2                                             Bowenur, Mr. Solomon    male  42.00000      0      0              211535   13.000000              NaN        S\n",
      "129         1021         0       3                                             Petersen, Mr. Marius    male  24.00000      0      0              342441    8.050000              NaN        S\n",
      "130         1022         0       3                                          Spinner, Mr. Henry John    male  32.00000      0      0     STON/OQ. 369943    8.050000              NaN        S\n",
      "131         1023         0       1                                        Gracie, Col. Archibald IV    male  53.00000      0      0              113780   28.500000              C51        C\n",
      "132         1024         1       3                                    Lefebre, Mrs. Frank (Frances)  female  30.27259      0      4                4133   25.466700              NaN        S\n",
      "133         1025         0       3                                            Thomas, Mr. Charles P    male  30.27259      1      0                2621    6.437500              NaN        C\n",
      "134         1026         0       3                                           Dintcheff, Mr. Valtcho    male  43.00000      0      0              349226    7.895800              NaN        S\n",
      "135         1027         0       3                                        Carlsson, Mr. Carl Robert    male  24.00000      0      0              350409    7.854200              NaN        S\n",
      "136         1028         0       3                                        Zakarian, Mr. Mapriededer    male  26.50000      0      0                2656    7.225000              NaN        C\n",
      "137         1029         0       2                                              Schmidt, Mr. August    male  26.00000      0      0              248659   13.000000              NaN        S\n",
      "138         1030         1       3                                            Drapkin, Miss. Jennie  female  23.00000      0      0     SOTON/OQ 392083    8.050000              NaN        S\n",
      "139         1031         0       3                                   Goodwin, Mr. Charles Frederick    male  40.00000      1      6             CA 2144   46.900000              NaN        S\n",
      "140         1032         1       3                                      Goodwin, Miss. Jessie Allis  female  10.00000      5      2             CA 2144   46.900000              NaN        S\n",
      "141         1033         1       1                                             Daniels, Miss. Sarah  female  33.00000      0      0              113781  151.550000              NaN        S\n",
      "142         1034         0       1                                       Ryerson, Mr. Arthur Larned    male  61.00000      1      3            PC 17608  262.375000  B57 B59 B63 B66        C\n",
      "143         1035         0       2                                       Beauchamp, Mr. Henry James    male  28.00000      0      0              244358   26.000000              NaN        S\n",
      "144         1036         0       1            Lindeberg-Lind, Mr. Erik Gustaf (Mr Edward Lingrey\")\"    male  42.00000      0      0               17475   26.550000              NaN        S\n",
      "145         1037         0       3                                        Vander Planke, Mr. Julius    male  31.00000      3      0              345763   18.000000              NaN        S\n",
      "146         1038         0       1                                      Hilliard, Mr. Herbert Henry    male  30.27259      0      0               17463   51.862500              E46        S\n",
      "147         1039         0       3                                                 Davies, Mr. Evan    male  22.00000      0      0         SC/A4 23568    8.050000              NaN        S\n",
      "148         1040         0       1                                        Crafton, Mr. John Bertram    male  30.27259      0      0              113791   26.550000              NaN        S\n",
      "149         1041         0       2                                           Lahtinen, Rev. William    male  30.00000      1      1              250651   26.000000              NaN        S\n",
      "150         1042         1       1                            Earnshaw, Mrs. Boulton (Olive Potter)  female  23.00000      0      1               11767   83.158300              C54        C\n",
      "151         1043         0       3                                             Matinoff, Mr. Nicola    male  30.27259      0      0              349255    7.895800              NaN        C\n",
      "152         1044         0       3                                               Storey, Mr. Thomas    male  60.50000      0      0                3701   35.627188              NaN        S\n",
      "153         1045         1       3                   Klasen, Mrs. (Hulda Kristina Eugenia Lofqvist)  female  36.00000      0      2              350405   12.183300              NaN        S\n",
      "154         1046         0       3                                     Asplund, Master. Filip Oscar    male  13.00000      4      2              347077   31.387500              NaN        S\n",
      "155         1047         0       3                                             Duquemin, Mr. Joseph    male  24.00000      0      0       S.O./P.P. 752    7.550000              NaN        S\n",
      "156         1048         1       1                                                Bird, Miss. Ellen  female  29.00000      0      0            PC 17483  221.779200              C97        S\n",
      "157         1049         1       3                                         Lundin, Miss. Olga Elida  female  23.00000      0      0              347469    7.854200              NaN        S\n",
      "158         1050         0       1                                         Borebank, Mr. John James    male  42.00000      0      0              110489   26.550000              D22        S\n",
      "159         1051         1       3                              Peacock, Mrs. Benjamin (Edith Nile)  female  26.00000      0      2  SOTON/O.Q. 3101315   13.775000              NaN        S\n",
      "160         1052         1       3                                               Smyth, Miss. Julia  female  30.27259      0      0              335432    7.733300              NaN        Q\n",
      "161         1053         0       3                                   Touma, Master. Georges Youssef    male   7.00000      1      1                2650   15.245800              NaN        C\n",
      "162         1054         1       2                                             Wright, Miss. Marion  female  26.00000      0      0              220844   13.500000              NaN        S\n",
      "163         1055         0       3                                               Pearce, Mr. Ernest    male  30.27259      0      0              343271    7.000000              NaN        S\n",
      "164         1056         0       2                                    Peruschitz, Rev. Joseph Maria    male  41.00000      0      0              237393   13.000000              NaN        S\n",
      "165         1057         1       3                       Kink-Heilmann, Mrs. Anton (Luise Heilmann)  female  26.00000      1      1              315153   22.025000              NaN        S\n",
      "166         1058         0       1                                               Brandeis, Mr. Emil    male  48.00000      0      0            PC 17591   50.495800              B10        C\n",
      "167         1059         0       3                                          Ford, Mr. Edward Watson    male  18.00000      2      2          W./C. 6608   34.375000              NaN        S\n",
      "168         1060         1       1      Cassebeer, Mrs. Henry Arthur Jr (Eleanor Genevieve Fosdick)  female  30.27259      0      0               17770   27.720800              NaN        C\n",
      "169         1061         1       3                                     Hellstrom, Miss. Hilda Maria  female  22.00000      0      0                7548    8.962500              NaN        S\n",
      "170         1062         0       3                                               Lithman, Mr. Simon    male  30.27259      0      0       S.O./P.P. 251    7.550000              NaN        S\n",
      "171         1063         0       3                                              Zakarian, Mr. Ortin    male  27.00000      0      0                2670    7.225000              NaN        C\n",
      "172         1064         0       3                                         Dyker, Mr. Adolf Fredrik    male  23.00000      1      0              347072   13.900000              NaN        S\n",
      "173         1065         0       3                                                 Torfa, Mr. Assad    male  30.27259      0      0                2673    7.229200              NaN        C\n",
      "174         1066         0       3                       Asplund, Mr. Carl Oscar Vilhelm Gustafsson    male  40.00000      1      5              347077   31.387500              NaN        S\n",
      "175         1067         1       2                                        Brown, Miss. Edith Eileen  female  15.00000      0      2               29750   39.000000              NaN        S\n",
      "176         1068         1       2                                             Sincock, Miss. Maude  female  20.00000      0      0          C.A. 33112   36.750000              NaN        S\n",
      "177         1069         0       1                                  Stengel, Mr. Charles Emil Henry    male  54.00000      1      0               11778   55.441700             C116        C\n",
      "178         1070         1       2                 Becker, Mrs. Allen Oliver (Nellie E Baumgardner)  female  36.00000      0      3              230136   39.000000               F4        S\n",
      "179         1071         1       1            Compton, Mrs. Alexander Taylor (Mary Eliza Ingersoll)  female  64.00000      0      2            PC 17756   83.158300              E45        C\n",
      "180         1072         0       2                                        McCrie, Mr. James Matthew    male  30.00000      0      0              233478   13.000000              NaN        S\n",
      "181         1073         0       1                                 Compton, Mr. Alexander Taylor Jr    male  37.00000      1      1            PC 17756   83.158300              E52        C\n",
      "182         1074         1       1   Marvin, Mrs. Daniel Warner (Mary Graham Carmichael Farquarson)  female  18.00000      1      0              113773   53.100000              D30        S\n",
      "183         1075         0       3                                                Lane, Mr. Patrick    male  30.27259      0      0                7935    7.750000              NaN        Q\n",
      "184         1076         1       1             Douglas, Mrs. Frederick Charles (Mary Helene Baxter)  female  27.00000      1      1            PC 17558  247.520800          B58 B60        C\n",
      "185         1077         0       2                                        Maybery, Mr. Frank Hubert    male  40.00000      0      0              239059   16.000000              NaN        S\n",
      "186         1078         1       2                             Phillips, Miss. Alice Frances Louisa  female  21.00000      0      1         S.O./P.P. 2   21.000000              NaN        S\n",
      "187         1079         0       3                                               Davies, Mr. Joseph    male  17.00000      2      0           A/4 48873    8.050000              NaN        S\n",
      "188         1080         1       3                                                  Sage, Miss. Ada  female  30.27259      8      2            CA. 2343   69.550000              NaN        S\n",
      "189         1081         0       2                                                  Veal, Mr. James    male  40.00000      0      0               28221   13.000000              NaN        S\n",
      "190         1082         0       2                                             Angle, Mr. William A    male  34.00000      1      0              226875   26.000000              NaN        S\n",
      "191         1083         0       1                                           Salomon, Mr. Abraham L    male  30.27259      0      0              111163   26.000000              NaN        S\n",
      "192         1084         0       3                                van Billiard, Master. Walter John    male  11.50000      1      1            A/5. 851   14.500000              NaN        S\n",
      "193         1085         0       2                                                Lingane, Mr. John    male  61.00000      0      0              235509   12.350000              NaN        Q\n",
      "194         1086         0       2                                    Drew, Master. Marshall Brines    male   8.00000      0      2               28220   32.500000              NaN        S\n",
      "195         1087         0       3                                Karlsson, Mr. Julius Konrad Eugen    male  33.00000      0      0              347465    7.854200              NaN        S\n",
      "196         1088         0       1                                  Spedden, Master. Robert Douglas    male   6.00000      0      2               16966  134.500000              E34        C\n",
      "197         1089         1       3                                      Nilsson, Miss. Berta Olivia  female  18.00000      0      0              347066    7.775000              NaN        S\n",
      "198         1090         0       2                                   Baimbrigge, Mr. Charles Robert    male  23.00000      0      0          C.A. 31030   10.500000              NaN        S\n",
      "199         1091         1       3                          Rasmussen, Mrs. (Lena Jacobsen Solvang)  female  30.27259      0      0               65305    8.112500              NaN        S\n",
      "200         1092         1       3                                               Murphy, Miss. Nora  female  30.27259      0      0               36568   15.500000              NaN        Q\n",
      "201         1093         0       3                          Danbom, Master. Gilbert Sigvard Emanuel    male   0.33000      0      2              347080   14.400000              NaN        S\n",
      "202         1094         0       1                                           Astor, Col. John Jacob    male  47.00000      1      0            PC 17757  227.525000          C62 C64        C\n",
      "203         1095         1       2                                       Quick, Miss. Winifred Vera  female   8.00000      1      1               26360   26.000000              NaN        S\n",
      "204         1096         0       2                                         Andrew, Mr. Frank Thomas    male  25.00000      0      0          C.A. 34050   10.500000              NaN        S\n",
      "205         1097         0       1                                        Omont, Mr. Alfred Fernand    male  30.27259      0      0          F.C. 12998   25.741700              NaN        C\n",
      "206         1098         1       3                                         McGowan, Miss. Katherine  female  35.00000      0      0                9232    7.750000              NaN        Q\n",
      "207         1099         0       2                                     Collett, Mr. Sidney C Stuart    male  24.00000      0      0               28034   10.500000              NaN        S\n",
      "208         1100         1       1                                    Rosenbaum, Miss. Edith Louise  female  33.00000      0      0            PC 17613   27.720800              A11        C\n",
      "209         1101         0       3                                               Delalic, Mr. Redjo    male  25.00000      0      0              349250    7.895800              NaN        S\n",
      "210         1102         0       3                                      Andersen, Mr. Albert Karvin    male  32.00000      0      0              C 4001   22.525000              NaN        S\n",
      "211         1103         0       3                                                Finoli, Mr. Luigi    male  30.27259      0      0  SOTON/O.Q. 3101308    7.050000              NaN        S\n",
      "212         1104         0       2                                        Deacon, Mr. Percy William    male  17.00000      0      0        S.O.C. 14879   73.500000              NaN        S\n",
      "213         1105         1       2                     Howard, Mrs. Benjamin (Ellen Truelove Arman)  female  60.00000      1      0               24065   26.000000              NaN        S\n",
      "214         1106         1       3                           Andersson, Miss. Ida Augusta Margareta  female  38.00000      4      2              347091    7.775000              NaN        S\n",
      "215         1107         0       1                                            Head, Mr. Christopher    male  42.00000      0      0              113038   42.500000              B11        S\n",
      "216         1108         1       3                                       Mahon, Miss. Bridget Delia  female  30.27259      0      0              330924    7.879200              NaN        Q\n",
      "217         1109         0       1                                         Wick, Mr. George Dennick    male  57.00000      1      1               36928  164.866700              NaN        S\n",
      "218         1110         1       1                     Widener, Mrs. George Dunton (Eleanor Elkins)  female  50.00000      1      1              113503  211.500000              C80        C\n",
      "219         1111         0       3                                  Thomson, Mr. Alexander Morrison    male  30.27259      0      0               32302    8.050000              NaN        S\n",
      "220         1112         1       2                                   Duran y More, Miss. Florentina  female  30.00000      1      0       SC/PARIS 2148   13.858300              NaN        C\n",
      "221         1113         0       3                                           Reynolds, Mr. Harold J    male  21.00000      0      0              342684    8.050000              NaN        S\n",
      "222         1114         1       2                                       Cook, Mrs. (Selena Rogers)  female  22.00000      0      0         W./C. 14266   10.500000              F33        S\n",
      "223         1115         0       3                                    Karlsson, Mr. Einar Gervasius    male  21.00000      0      0              350053    7.795800              NaN        S\n",
      "224         1116         1       1                 Candee, Mrs. Edward (Helen Churchill Hungerford)  female  53.00000      0      0            PC 17606   27.445800              NaN        C\n",
      "225         1117         1       3                 Moubarek, Mrs. George (Omine Amenia\" Alexander)\"  female  30.27259      0      2                2661   15.245800              NaN        C\n",
      "226         1118         0       3                                       Asplund, Mr. Johan Charles    male  23.00000      0      0              350054    7.795800              NaN        S\n",
      "227         1119         1       3                                           McNeill, Miss. Bridget  female  30.27259      0      0              370368    7.750000              NaN        Q\n",
      "228         1120         0       3                                        Everett, Mr. Thomas James    male  40.50000      0      0           C.A. 6212   15.100000              NaN        S\n",
      "229         1121         0       2                               Hocking, Mr. Samuel James Metcalfe    male  36.00000      0      0              242963   13.000000              NaN        S\n",
      "230         1122         0       2                                      Sweet, Mr. George Frederick    male  14.00000      0      0              220845   65.000000              NaN        S\n",
      "231         1123         1       1                                         Willard, Miss. Constance  female  21.00000      0      0              113795   26.550000              NaN        S\n",
      "232         1124         0       3                                          Wiklund, Mr. Karl Johan    male  21.00000      1      0             3101266    6.495800              NaN        S\n",
      "233         1125         0       3                                             Linehan, Mr. Michael    male  30.27259      0      0              330971    7.879200              NaN        Q\n",
      "234         1126         0       1                                        Cumings, Mr. John Bradley    male  39.00000      1      0            PC 17599   71.283300              C85        C\n",
      "235         1127         0       3                                           Vendel, Mr. Olof Edvin    male  20.00000      0      0              350416    7.854200              NaN        S\n",
      "236         1128         0       1                                         Warren, Mr. Frank Manley    male  64.00000      1      0              110813   75.250000              D37        C\n",
      "237         1129         0       3                                              Baccos, Mr. Raffull    male  20.00000      0      0                2679    7.225000              NaN        C\n",
      "238         1130         1       2                                            Hiltunen, Miss. Marta  female  18.00000      1      1              250650   13.000000              NaN        S\n",
      "239         1131         1       1                      Douglas, Mrs. Walter Donald (Mahala Dutton)  female  48.00000      1      0            PC 17761  106.425000              C86        C\n",
      "240         1132         1       1                        Lindstrom, Mrs. Carl Johan (Sigrid Posse)  female  55.00000      0      0              112377   27.720800              NaN        C\n",
      "241         1133         1       2                                    Christy, Mrs. (Alice Frances)  female  45.00000      0      2              237789   30.000000              NaN        S\n",
      "242         1134         0       1                                     Spedden, Mr. Frederic Oakley    male  45.00000      1      1               16966  134.500000              E34        C\n",
      "243         1135         0       3                                               Hyman, Mr. Abraham    male  30.27259      0      0                3470    7.887500              NaN        S\n",
      "244         1136         0       3                        Johnston, Master. William Arthur Willie\"\"    male  30.27259      1      2          W./C. 6607   23.450000              NaN        S\n",
      "245         1137         0       1                                          Kenyon, Mr. Frederick R    male  41.00000      1      0               17464   51.862500              D21        S\n",
      "246         1138         1       2                            Karnes, Mrs. J Frank (Claire Bennett)  female  22.00000      0      0        F.C.C. 13534   21.000000              NaN        S\n",
      "247         1139         0       2                                           Drew, Mr. James Vivian    male  42.00000      1      1               28220   32.500000              NaN        S\n",
      "248         1140         1       2                         Hold, Mrs. Stephen (Annie Margaret Hill)  female  29.00000      1      0               26707   26.000000              NaN        S\n",
      "249         1141         1       3                        Khalil, Mrs. Betros (Zahie Maria\" Elias)\"  female  30.27259      1      0                2660   14.454200              NaN        C\n",
      "250         1142         1       2                                            West, Miss. Barbara J  female   0.92000      1      2          C.A. 34651   27.750000              NaN        S\n",
      "251         1143         0       3                         Abrahamsson, Mr. Abraham August Johannes    male  20.00000      0      0    SOTON/O2 3101284    7.925000              NaN        S\n",
      "252         1144         0       1                                         Clark, Mr. Walter Miller    male  27.00000      1      0               13508  136.779200              C89        C\n",
      "253         1145         0       3                                         Salander, Mr. Karl Johan    male  24.00000      0      0                7266    9.325000              NaN        S\n",
      "254         1146         0       3                                              Wenzel, Mr. Linhart    male  32.50000      0      0              345775    9.500000              NaN        S\n",
      "255         1147         0       3                                       MacKay, Mr. George William    male  30.27259      0      0          C.A. 42795    7.550000              NaN        S\n",
      "256         1148         0       3                                                  Mahon, Mr. John    male  30.27259      0      0           AQ/4 3130    7.750000              NaN        Q\n",
      "257         1149         0       3                                            Niklasson, Mr. Samuel    male  28.00000      0      0              363611    8.050000              NaN        S\n",
      "258         1150         1       2                                          Bentham, Miss. Lilian W  female  19.00000      0      0               28404   13.000000              NaN        S\n",
      "259         1151         0       3                                         Midtsjo, Mr. Karl Albert    male  21.00000      0      0              345501    7.775000              NaN        S\n",
      "260         1152         0       3                             de Messemaeker, Mr. Guillaume Joseph    male  36.50000      1      0              345572   17.400000              NaN        S\n",
      "261         1153         0       3                                    Nilsson, Mr. August Ferdinand    male  21.00000      0      0              350410    7.854200              NaN        S\n",
      "262         1154         1       2                Wells, Mrs. Arthur Henry (Addie\" Dart Trevaskis)\"  female  29.00000      0      2               29103   23.000000              NaN        S\n",
      "263         1155         1       3                                     Klasen, Miss. Gertrud Emilia  female   1.00000      1      1              350405   12.183300              NaN        S\n",
      "264         1156         0       2                           Portaluppi, Mr. Emilio Ilario Giuseppe    male  30.00000      0      0          C.A. 34644   12.737500              NaN        C\n",
      "265         1157         0       3                                            Lyntakoff, Mr. Stanko    male  30.27259      0      0              349235    7.895800              NaN        S\n",
      "266         1158         0       1                            Chisholm, Mr. Roderick Robert Crispin    male  30.27259      0      0              112051    0.000000              NaN        S\n",
      "267         1159         0       3                                      Warren, Mr. Charles William    male  30.27259      0      0          C.A. 49867    7.550000              NaN        S\n",
      "268         1160         1       3                                      Howard, Miss. May Elizabeth  female  30.27259      0      0         A. 2. 39186    8.050000              NaN        S\n",
      "269         1161         0       3                                                Pokrnic, Mr. Mate    male  17.00000      0      0              315095    8.662500              NaN        S\n",
      "270         1162         0       1                                     McCaffry, Mr. Thomas Francis    male  46.00000      0      0               13050   75.241700               C6        C\n",
      "271         1163         0       3                                                 Fox, Mr. Patrick    male  30.27259      0      0              368573    7.750000              NaN        Q\n",
      "272         1164         1       1                    Clark, Mrs. Walter Miller (Virginia McDowell)  female  26.00000      1      0               13508  136.779200              C89        C\n",
      "273         1165         1       3                                               Lennon, Miss. Mary  female  30.27259      1      0              370371   15.500000              NaN        Q\n",
      "274         1166         0       3                                            Saade, Mr. Jean Nassr    male  30.27259      0      0                2676    7.225000              NaN        C\n",
      "275         1167         1       2                              Bryhl, Miss. Dagmar Jenny Ingeborg   female  20.00000      1      0              236853   26.000000              NaN        S\n",
      "276         1168         0       2                                     Parker, Mr. Clifford Richard    male  28.00000      0      0            SC 14888   10.500000              NaN        S\n",
      "277         1169         0       2                                            Faunthorpe, Mr. Harry    male  40.00000      1      0                2926   26.000000              NaN        S\n",
      "278         1170         0       2                                             Ware, Mr. John James    male  30.00000      1      0            CA 31352   21.000000              NaN        S\n",
      "279         1171         0       2                                        Oxenham, Mr. Percy Thomas    male  22.00000      0      0         W./C. 14260   10.500000              NaN        S\n",
      "280         1172         1       3                                           Oreskovic, Miss. Jelka  female  23.00000      0      0              315085    8.662500              NaN        S\n",
      "281         1173         0       3                                   Peacock, Master. Alfred Edward    male   0.75000      1      1  SOTON/O.Q. 3101315   13.775000              NaN        S\n",
      "282         1174         1       3                                            Fleming, Miss. Honora  female  30.27259      0      0              364859    7.750000              NaN        Q\n",
      "283         1175         1       3                                       Touma, Miss. Maria Youssef  female   9.00000      1      1                2650   15.245800              NaN        C\n",
      "284         1176         1       3                                      Rosblom, Miss. Salli Helena  female   2.00000      1      1              370129   20.212500              NaN        S\n",
      "285         1177         0       3                                              Dennis, Mr. William    male  36.00000      0      0           A/5 21175    7.250000              NaN        S\n",
      "286         1178         0       3                           Franklin, Mr. Charles (Charles Fardon)    male  30.27259      0      0  SOTON/O.Q. 3101314    7.250000              NaN        S\n",
      "287         1179         0       1                                       Snyder, Mr. John Pillsbury    male  24.00000      1      0               21228   82.266700              B45        S\n",
      "288         1180         0       3                                          Mardirosian, Mr. Sarkis    male  30.27259      0      0                2655    7.229200            F E46        C\n",
      "289         1181         0       3                                                 Ford, Mr. Arthur    male  30.27259      0      0            A/5 1478    8.050000              NaN        S\n",
      "290         1182         0       1                              Rheims, Mr. George Alexander Lucien    male  30.27259      0      0            PC 17607   39.600000              NaN        S\n",
      "291         1183         1       3                           Daly, Miss. Margaret Marcella Maggie\"\"  female  30.00000      0      0              382650    6.950000              NaN        Q\n",
      "292         1184         0       3                                                Nasr, Mr. Mustafa    male  30.27259      0      0                2652    7.229200              NaN        C\n",
      "293         1185         0       1                                            Dodge, Dr. Washington    male  53.00000      1      1               33638   81.858300              A34        S\n",
      "294         1186         0       3                                        Wittevrongel, Mr. Camille    male  36.00000      0      0              345771    9.500000              NaN        S\n",
      "295         1187         0       3                                             Angheloff, Mr. Minko    male  26.00000      0      0              349202    7.895800              NaN        S\n",
      "296         1188         1       2                                            Laroche, Miss. Louise  female   1.00000      1      2       SC/Paris 2123   41.579200              NaN        C\n",
      "297         1189         0       3                                                Samaan, Mr. Hanna    male  30.27259      2      0                2662   21.679200              NaN        C\n",
      "298         1190         0       1                                       Loring, Mr. Joseph Holland    male  30.00000      0      0              113801   45.500000              NaN        S\n",
      "299         1191         0       3                                              Johansson, Mr. Nils    male  29.00000      0      0              347467    7.854200              NaN        S\n",
      "300         1192         0       3                                        Olsson, Mr. Oscar Wilhelm    male  32.00000      0      0              347079    7.775000              NaN        S\n",
      "301         1193         0       2                                              Malachard, Mr. Noel    male  30.27259      0      0              237735   15.045800                D        C\n",
      "302         1194         0       2                                      Phillips, Mr. Escott Robert    male  43.00000      0      1         S.O./P.P. 2   21.000000              NaN        S\n",
      "303         1195         0       3                                                Pokrnic, Mr. Tome    male  24.00000      0      0              315092    8.662500              NaN        S\n",
      "304         1196         1       3                                McCarthy, Miss. Catherine Katie\"\"  female  30.27259      0      0              383123    7.750000              NaN        Q\n",
      "305         1197         1       1       Crosby, Mrs. Edward Gifford (Catherine Elizabeth Halstead)  female  64.00000      1      1              112901   26.550000              B26        S\n",
      "306         1198         0       1                             Allison, Mr. Hudson Joshua Creighton    male  30.00000      1      2              113781  151.550000          C22 C26        S\n",
      "307         1199         0       3                                        Aks, Master. Philip Frank    male   0.83000      0      1              392091    9.350000              NaN        S\n",
      "308         1200         0       1                                       Hays, Mr. Charles Melville    male  55.00000      1      1               12749   93.500000              B69        S\n",
      "309         1201         1       3                       Hansen, Mrs. Claus Peter (Jennie L Howard)  female  45.00000      1      0              350026   14.108300              NaN        S\n",
      "310         1202         0       3                                             Cacic, Mr. Jego Grga    male  18.00000      0      0              315091    8.662500              NaN        S\n",
      "311         1203         0       3                                             Vartanian, Mr. David    male  22.00000      0      0                2658    7.225000              NaN        C\n",
      "312         1204         0       3                                              Sadowitz, Mr. Harry    male  30.27259      0      0             LP 1588    7.575000              NaN        S\n",
      "313         1205         1       3                                              Carr, Miss. Jeannie  female  37.00000      0      0              368364    7.750000              NaN        Q\n",
      "314         1206         1       1                            White, Mrs. John Stuart (Ella Holmes)  female  55.00000      0      0            PC 17760  135.633300              C32        C\n",
      "315         1207         1       3                                             Hagardon, Miss. Kate  female  17.00000      0      0         AQ/3. 30631    7.733300              NaN        Q\n",
      "316         1208         0       1                                    Spencer, Mr. William Augustus    male  57.00000      1      0            PC 17569  146.520800              B78        C\n",
      "317         1209         0       2                                       Rogers, Mr. Reginald Harry    male  19.00000      0      0               28004   10.500000              NaN        S\n",
      "318         1210         0       3                                        Jonsson, Mr. Nils Hilding    male  27.00000      0      0              350408    7.854200              NaN        S\n",
      "319         1211         0       2                                     Jefferys, Mr. Ernest Wilfred    male  22.00000      2      0          C.A. 31029   31.500000              NaN        S\n",
      "320         1212         0       3                                      Andersson, Mr. Johan Samuel    male  26.00000      0      0              347075    7.775000              NaN        S\n",
      "321         1213         0       3                                            Krekorian, Mr. Neshan    male  25.00000      0      0                2654    7.229200            F E57        C\n",
      "322         1214         0       2                                               Nesson, Mr. Israel    male  26.00000      0      0              244368   13.000000               F2        S\n",
      "323         1215         0       1                                               Rowe, Mr. Alfred G    male  33.00000      0      0              113790   26.550000              NaN        S\n",
      "324         1216         1       1                                           Kreuchen, Miss. Emilie  female  39.00000      0      0               24160  211.337500              NaN        S\n",
      "325         1217         0       3                                                   Assam, Mr. Ali    male  23.00000      0      0  SOTON/O.Q. 3101309    7.050000              NaN        S\n",
      "326         1218         1       2                                     Becker, Miss. Ruth Elizabeth  female  12.00000      2      1              230136   39.000000               F4        S\n",
      "327         1219         0       1                      Rosenshine, Mr. George (Mr George Thorne\")\"    male  46.00000      0      0            PC 17585   79.200000              NaN        C\n",
      "328         1220         0       2                                    Clarke, Mr. Charles Valentine    male  29.00000      1      0                2003   26.000000              NaN        S\n",
      "329         1221         0       2                                              Enander, Mr. Ingvar    male  21.00000      0      0              236854   13.000000              NaN        S\n",
      "330         1222         1       2           Davies, Mrs. John Morgan (Elizabeth Agnes Mary White)   female  48.00000      0      2          C.A. 33112   36.750000              NaN        S\n",
      "331         1223         0       1                                     Dulles, Mr. William Crothers    male  39.00000      0      0            PC 17580   29.700000              A18        C\n",
      "332         1224         0       3                                              Thomas, Mr. Tannous    male  30.27259      0      0                2684    7.225000              NaN        C\n",
      "333         1225         1       3                            Nakid, Mrs. Said (Waika Mary\" Mowad)\"  female  19.00000      1      1                2653   15.741700              NaN        C\n",
      "334         1226         0       3                                                    Cor, Mr. Ivan    male  27.00000      0      0              349229    7.895800              NaN        S\n",
      "335         1227         0       1                                         Maguire, Mr. John Edward    male  30.00000      0      0              110469   26.000000             C106        S\n",
      "336         1228         0       2                                       de Brito, Mr. Jose Joaquim    male  32.00000      0      0              244360   13.000000              NaN        S\n",
      "337         1229         0       3                                                Elias, Mr. Joseph    male  39.00000      0      2                2675    7.229200              NaN        C\n",
      "338         1230         0       2                                             Denbury, Mr. Herbert    male  25.00000      0      0          C.A. 31029   31.500000              NaN        S\n",
      "339         1231         0       3                                            Betros, Master. Seman    male  30.27259      0      0                2622    7.229200              NaN        C\n",
      "340         1232         0       2                                    Fillbrook, Mr. Joseph Charles    male  18.00000      0      0          C.A. 15185   10.500000              NaN        S\n",
      "341         1233         0       3                                       Lundstrom, Mr. Thure Edvin    male  32.00000      0      0              350403    7.579200              NaN        S\n",
      "342         1234         0       3                                            Sage, Mr. John George    male  30.27259      1      9            CA. 2343   69.550000              NaN        S\n",
      "343         1235         1       1  Cardeza, Mrs. James Warburton Martinez (Charlotte Wardle Drake)  female  58.00000      0      1            PC 17755  512.329200      B51 B53 B55        C\n",
      "344         1236         0       3                              van Billiard, Master. James William    male  30.27259      1      1            A/5. 851   14.500000              NaN        S\n",
      "345         1237         1       3                                      Abelseth, Miss. Karen Marie  female  16.00000      0      0              348125    7.650000              NaN        S\n",
      "346         1238         0       2                                       Botsford, Mr. William Hull    male  26.00000      0      0              237670   13.000000              NaN        S\n",
      "347         1239         1       3                  Whabee, Mrs. George Joseph (Shawneene Abi-Saab)  female  38.00000      0      0                2688    7.229200              NaN        C\n",
      "348         1240         0       2                                                 Giles, Mr. Ralph    male  24.00000      0      0              248726   13.500000              NaN        S\n",
      "349         1241         1       2                                           Walcroft, Miss. Nellie  female  31.00000      0      0        F.C.C. 13528   21.000000              NaN        S\n",
      "350         1242         1       1                     Greenfield, Mrs. Leo David (Blanche Strouse)  female  45.00000      0      1            PC 17759   63.358300          D10 D12        C\n",
      "351         1243         0       2                                        Stokes, Mr. Philip Joseph    male  25.00000      0      0        F.C.C. 13540   10.500000              NaN        S\n",
      "352         1244         0       2                                              Dibden, Mr. William    male  18.00000      0      0        S.O.C. 14879   73.500000              NaN        S\n",
      "353         1245         0       2                                               Herman, Mr. Samuel    male  49.00000      1      2              220845   65.000000              NaN        S\n",
      "354         1246         1       3                          Dean, Miss. Elizabeth Gladys Millvina\"\"  female   0.17000      1      2           C.A. 2315   20.575000              NaN        S\n",
      "355         1247         0       1                                         Julian, Mr. Henry Forbes    male  50.00000      0      0              113044   26.000000              E60        S\n",
      "356         1248         1       1                   Brown, Mrs. John Murray (Caroline Lane Lamson)  female  59.00000      2      0               11769   51.479200             C101        S\n",
      "357         1249         0       3                                              Lockyer, Mr. Edward    male  30.27259      0      0                1222    7.879200              NaN        S\n",
      "358         1250         0       3                                             O'Keefe, Mr. Patrick    male  30.27259      0      0              368402    7.750000              NaN        Q\n",
      "359         1251         1       3              Lindell, Mrs. Edvard Bengtsson (Elin Gerda Persson)  female  30.00000      1      0              349910   15.550000              NaN        S\n",
      "360         1252         0       3                                      Sage, Master. William Henry    male  14.50000      8      2            CA. 2343   69.550000              NaN        S\n",
      "361         1253         1       2                          Mallet, Mrs. Albert (Antoinette Magnin)  female  24.00000      1      1     S.C./PARIS 2079   37.004200              NaN        C\n",
      "362         1254         1       2                     Ware, Mrs. John James (Florence Louise Long)  female  31.00000      0      0            CA 31352   21.000000              NaN        S\n",
      "363         1255         0       3                                                Strilic, Mr. Ivan    male  27.00000      0      0              315083    8.662500              NaN        S\n",
      "364         1256         1       1                     Harder, Mrs. George Achilles (Dorothy Annan)  female  25.00000      1      0               11765   55.441700              E50        C\n",
      "365         1257         1       3                                   Sage, Mrs. John (Annie Bullen)  female  30.27259      1      9            CA. 2343   69.550000              NaN        S\n",
      "366         1258         0       3                                                Caram, Mr. Joseph    male  30.27259      1      0                2689   14.458300              NaN        C\n",
      "367         1259         1       3                     Riihivouri, Miss. Susanna Juhantytar Sanni\"\"  female  22.00000      0      0             3101295   39.687500              NaN        S\n",
      "368         1260         1       1                          Gibson, Mrs. Leonard (Pauline C Boeson)  female  45.00000      0      1              112378   59.400000              NaN        C\n",
      "369         1261         0       2                                    Pallas y Castello, Mr. Emilio    male  29.00000      0      0       SC/PARIS 2147   13.858300              NaN        C\n",
      "370         1262         0       2                                                 Giles, Mr. Edgar    male  21.00000      1      0               28133   11.500000              NaN        S\n",
      "371         1263         1       1                                        Wilson, Miss. Helen Alice  female  31.00000      0      0               16966  134.500000          E39 E41        C\n",
      "372         1264         0       1                                          Ismay, Mr. Joseph Bruce    male  49.00000      0      0              112058    0.000000      B52 B54 B56        S\n",
      "373         1265         0       2                                           Harbeck, Mr. William H    male  44.00000      0      0              248746   13.000000              NaN        S\n",
      "374         1266         1       1                            Dodge, Mrs. Washington (Ruth Vidaver)  female  54.00000      1      1               33638   81.858300              A34        S\n",
      "375         1267         1       1                                         Bowen, Miss. Grace Scott  female  45.00000      0      0            PC 17608  262.375000              NaN        C\n",
      "376         1268         1       3                                                Kink, Miss. Maria  female  22.00000      2      0              315152    8.662500              NaN        S\n",
      "377         1269         0       2                                     Cotterill, Mr. Henry Harry\"\"    male  21.00000      0      0               29107   11.500000              NaN        S\n",
      "378         1270         0       1                                      Hipkins, Mr. William Edward    male  55.00000      0      0                 680   50.000000              C39        S\n",
      "379         1271         0       3                                      Asplund, Master. Carl Edgar    male   5.00000      4      2              347077   31.387500              NaN        S\n",
      "380         1272         0       3                                            O'Connor, Mr. Patrick    male  30.27259      0      0              366713    7.750000              NaN        Q\n",
      "381         1273         0       3                                                Foley, Mr. Joseph    male  26.00000      0      0              330910    7.879200              NaN        Q\n",
      "382         1274         1       3                                       Risien, Mrs. Samuel (Emma)  female  30.27259      0      0              364498   14.500000              NaN        S\n",
      "383         1275         1       3                              McNamee, Mrs. Neal (Eileen O'Leary)  female  19.00000      1      0              376566   16.100000              NaN        S\n",
      "384         1276         0       2                                   Wheeler, Mr. Edwin Frederick\"\"    male  30.27259      0      0       SC/PARIS 2159   12.875000              NaN        S\n",
      "385         1277         1       2                                               Herman, Miss. Kate  female  24.00000      1      2              220845   65.000000              NaN        S\n",
      "386         1278         0       3                                   Aronsson, Mr. Ernst Axel Algot    male  24.00000      0      0              349911    7.775000              NaN        S\n",
      "387         1279         0       2                                                  Ashby, Mr. John    male  57.00000      0      0              244346   13.000000              NaN        S\n",
      "388         1280         0       3                                             Canavan, Mr. Patrick    male  21.00000      0      0              364858    7.750000              NaN        Q\n",
      "389         1281         0       3                                      Palsson, Master. Paul Folke    male   6.00000      3      1              349909   21.075000              NaN        S\n",
      "390         1282         0       1                                       Payne, Mr. Vivian Ponsonby    male  23.00000      0      0               12749   93.500000              B24        S\n",
      "391         1283         1       1                   Lines, Mrs. Ernest H (Elizabeth Lindsey James)  female  51.00000      0      1            PC 17592   39.400000              D28        S\n",
      "392         1284         0       3                                    Abbott, Master. Eugene Joseph    male  13.00000      0      2           C.A. 2673   20.250000              NaN        S\n",
      "393         1285         0       2                                             Gilbert, Mr. William    male  47.00000      0      0          C.A. 30769   10.500000              NaN        S\n",
      "394         1286         0       3                                         Kink-Heilmann, Mr. Anton    male  29.00000      3      1              315153   22.025000              NaN        S\n",
      "395         1287         1       1                   Smith, Mrs. Lucien Philip (Mary Eloise Hughes)  female  18.00000      1      0               13695   60.000000              C31        S\n",
      "396         1288         0       3                                             Colbert, Mr. Patrick    male  24.00000      0      0              371109    7.250000              NaN        Q\n",
      "397         1289         1       1  Frolicher-Stehli, Mrs. Maxmillian (Margaretha Emerentia Stehli)  female  48.00000      1      1               13567   79.200000              B41        C\n",
      "398         1290         0       3                                   Larsson-Rondberg, Mr. Edvard A    male  22.00000      0      0              347065    7.775000              NaN        S\n",
      "399         1291         0       3                                         Conlon, Mr. Thomas Henry    male  31.00000      0      0               21332    7.733300              NaN        Q\n",
      "400         1292         1       1                                          Bonnell, Miss. Caroline  female  30.00000      0      0               36928  164.866700               C7        S\n",
      "401         1293         0       2                                                  Gale, Mr. Harry    male  38.00000      1      0               28664   21.000000              NaN        S\n",
      "402         1294         1       1                                   Gibson, Miss. Dorothy Winifred  female  22.00000      0      1              112378   59.400000              NaN        C\n",
      "403         1295         0       1                                           Carrau, Mr. Jose Pedro    male  17.00000      0      0              113059   47.100000              NaN        S\n",
      "404         1296         0       1                                     Frauenthal, Mr. Isaac Gerald    male  43.00000      1      0               17765   27.720800              D40        C\n",
      "405         1297         0       2                     Nourney, Mr. Alfred (Baron von Drachstedt\")\"    male  20.00000      0      0       SC/PARIS 2166   13.862500              D38        C\n",
      "406         1298         0       2                                        Ware, Mr. William Jeffery    male  23.00000      1      0               28666   10.500000              NaN        S\n",
      "407         1299         0       1                                       Widener, Mr. George Dunton    male  50.00000      1      1              113503  211.500000              C80        C\n",
      "408         1300         1       3                                  Riordan, Miss. Johanna Hannah\"\"  female  30.27259      0      0              334915    7.720800              NaN        Q\n",
      "409         1301         1       3                                        Peacock, Miss. Treasteall  female   3.00000      1      1  SOTON/O.Q. 3101315   13.775000              NaN        S\n",
      "410         1302         1       3                                           Naughton, Miss. Hannah  female  30.27259      0      0              365237    7.750000              NaN        Q\n",
      "411         1303         1       1                  Minahan, Mrs. William Edward (Lillian E Thorpe)  female  37.00000      1      0               19928   90.000000              C78        Q\n",
      "412         1304         1       3                                   Henriksson, Miss. Jenny Lovisa  female  28.00000      0      0              347086    7.775000              NaN        S\n",
      "413         1305         0       3                                               Spector, Mr. Woolf    male  30.27259      0      0           A.5. 3236    8.050000              NaN        S\n",
      "414         1306         1       1                                     Oliva y Ocana, Dona. Fermina  female  39.00000      0      0            PC 17758  108.900000             C105        C\n",
      "415         1307         0       3                                     Saether, Mr. Simon Sivertsen    male  38.50000      0      0  SOTON/O.Q. 3101262    7.250000              NaN        S\n",
      "416         1308         0       3                                              Ware, Mr. Frederick    male  30.27259      0      0              359309    8.050000              NaN        S\n",
      "417         1309         0       3                                         Peter, Master. Michael J    male  30.27259      1      1                2668   22.358300              NaN        C\n"
     ]
    }
   ],
   "source": [
    "print(df.to_string())"
   ]
  },
  {
   "cell_type": "code",
   "execution_count": 34,
   "id": "c50cae52",
   "metadata": {},
   "outputs": [
    {
     "data": {
      "text/plain": [
       "0"
      ]
     },
     "execution_count": 34,
     "metadata": {},
     "output_type": "execute_result"
    }
   ],
   "source": [
    "df.duplicated().sum()"
   ]
  },
  {
   "cell_type": "code",
   "execution_count": 36,
   "id": "9d657eaa",
   "metadata": {},
   "outputs": [],
   "source": [
    "df[\"Age\"] = df[\"Age\"].astype(int)"
   ]
  },
  {
   "cell_type": "code",
   "execution_count": 39,
   "id": "6a4b8997",
   "metadata": {},
   "outputs": [],
   "source": [
    "df[\"Fare\"] = df[\"Fare\"].astype(int)"
   ]
  },
  {
   "cell_type": "code",
   "execution_count": 40,
   "id": "40d5ea86",
   "metadata": {},
   "outputs": [
    {
     "name": "stdout",
     "output_type": "stream",
     "text": [
      "<class 'pandas.core.frame.DataFrame'>\n",
      "RangeIndex: 418 entries, 0 to 417\n",
      "Data columns (total 12 columns):\n",
      " #   Column       Non-Null Count  Dtype \n",
      "---  ------       --------------  ----- \n",
      " 0   PassengerId  418 non-null    int64 \n",
      " 1   Survived     418 non-null    int64 \n",
      " 2   Pclass       418 non-null    int64 \n",
      " 3   Name         418 non-null    object\n",
      " 4   Sex          418 non-null    object\n",
      " 5   Age          418 non-null    int32 \n",
      " 6   SibSp        418 non-null    int64 \n",
      " 7   Parch        418 non-null    int64 \n",
      " 8   Ticket       418 non-null    object\n",
      " 9   Fare         418 non-null    int32 \n",
      " 10  Cabin        91 non-null     object\n",
      " 11  Embarked     418 non-null    object\n",
      "dtypes: int32(2), int64(5), object(5)\n",
      "memory usage: 36.1+ KB\n"
     ]
    }
   ],
   "source": [
    "df.info()"
   ]
  },
  {
   "cell_type": "code",
   "execution_count": 6,
   "id": "ab0a4000",
   "metadata": {},
   "outputs": [
    {
     "data": {
      "text/plain": [
       "Embarked\n",
       "C    64.0\n",
       "Q    62.0\n",
       "S    76.0\n",
       "Name: Age, dtype: float64"
      ]
     },
     "execution_count": 6,
     "metadata": {},
     "output_type": "execute_result"
    }
   ],
   "source": [
    "df[\"Age\"].groupby(df[\"Embarked\"]).max()"
   ]
  },
  {
   "cell_type": "code",
   "execution_count": 11,
   "id": "5cf379fd",
   "metadata": {},
   "outputs": [
    {
     "data": {
      "text/plain": [
       "Survived  Age \n",
       "0         21.0    14\n",
       "          24.0    12\n",
       "          25.0    10\n",
       "          30.0     9\n",
       "          26.0     8\n",
       "                  ..\n",
       "1         54.0     1\n",
       "          58.0     1\n",
       "          59.0     1\n",
       "          63.0     1\n",
       "          76.0     1\n",
       "Name: count, Length: 115, dtype: int64"
      ]
     },
     "execution_count": 11,
     "metadata": {},
     "output_type": "execute_result"
    }
   ],
   "source": [
    "df[\"Age\"].groupby(df[\"Survived\"]).value_counts()"
   ]
  },
  {
   "cell_type": "code",
   "execution_count": 21,
   "id": "3a377e8b",
   "metadata": {},
   "outputs": [
    {
     "data": {
      "text/plain": [
       "Survived  Survived\n",
       "0         0           266\n",
       "1         1           152\n",
       "Name: count, dtype: int64"
      ]
     },
     "execution_count": 21,
     "metadata": {},
     "output_type": "execute_result"
    }
   ],
   "source": [
    "df[\"Survived\"].groupby(df[\"Survived\"]).value_counts()"
   ]
  },
  {
   "cell_type": "code",
   "execution_count": 32,
   "id": "de1bef2b",
   "metadata": {},
   "outputs": [
    {
     "data": {
      "text/plain": [
       "array(['male', 'female'], dtype=object)"
      ]
     },
     "execution_count": 32,
     "metadata": {},
     "output_type": "execute_result"
    }
   ],
   "source": [
    "df[\"Sex\"].unique()\n"
   ]
  },
  {
   "cell_type": "code",
   "execution_count": null,
   "id": "c73bece2",
   "metadata": {},
   "outputs": [
    {
     "data": {
      "text/plain": [
       "Age\n",
       "0.17     female\n",
       "0.33       male\n",
       "0.75       male\n",
       "0.83       male\n",
       "0.92     female\n",
       "          ...  \n",
       "62.00      male\n",
       "63.00      male\n",
       "64.00      male\n",
       "67.00      male\n",
       "76.00    female\n",
       "Name: Sex, Length: 79, dtype: object"
      ]
     },
     "execution_count": 34,
     "metadata": {},
     "output_type": "execute_result"
    }
   ],
   "source": [
    "df[\"Sex\"].groupby(df[\"Age\"]).avg()"
   ]
  },
  {
   "cell_type": "code",
   "execution_count": 42,
   "id": "80466312",
   "metadata": {},
   "outputs": [
    {
     "data": {
      "text/plain": [
       "Pclass  Survived\n",
       "1       0            57\n",
       "        1            50\n",
       "2       0            63\n",
       "        1            30\n",
       "3       0           146\n",
       "        1            72\n",
       "Name: count, dtype: int64"
      ]
     },
     "execution_count": 42,
     "metadata": {},
     "output_type": "execute_result"
    }
   ],
   "source": [
    "df[\"Survived\"].groupby(df[\"Pclass\"]).value_counts()"
   ]
  },
  {
   "cell_type": "code",
   "execution_count": 49,
   "id": "a47602ab",
   "metadata": {},
   "outputs": [
    {
     "data": {
      "text/plain": [
       "Survived  Pclass\n",
       "0         3         146\n",
       "          2          63\n",
       "          1          57\n",
       "1         3          72\n",
       "          1          50\n",
       "          2          30\n",
       "Name: count, dtype: int64"
      ]
     },
     "execution_count": 49,
     "metadata": {},
     "output_type": "execute_result"
    }
   ],
   "source": [
    "df.groupby(\"Survived\")[\"Pclass\"].value_counts()"
   ]
  },
  {
   "cell_type": "code",
   "execution_count": 60,
   "id": "56578a35",
   "metadata": {},
   "outputs": [
    {
     "data": {
      "text/plain": [
       "Text(0.5, 1.0, 'Survival Count')"
      ]
     },
     "execution_count": 60,
     "metadata": {},
     "output_type": "execute_result"
    },
    {
     "data": {
      "image/png": "[encoded data removed]",
      "text/plain": [
       "<Figure size 640x480 with 1 Axes>"
      ]
     },
     "metadata": {},
     "output_type": "display_data"
    }
   ],
   "source": [
    "sns.barplot(x='Survived', y = \"Sex\" ,data=df)\n",
    "plt.title(\"Survival Count\")\n"
   ]
  },
  {
   "cell_type": "code",
   "execution_count": 66,
   "id": "05f54b71",
   "metadata": {},
   "outputs": [
    {
     "data": {
      "text/plain": [
       "Sex\n",
       "female    1.0\n",
       "male      0.0\n",
       "Name: Survived, dtype: float64"
      ]
     },
     "execution_count": 66,
     "metadata": {},
     "output_type": "execute_result"
    }
   ],
   "source": [
    "df.groupby(\"Sex\")[\"Survived\"].mean()\n",
    "#df[\"Sex\"].groupby(df[\"Survived\"]).value_counts()"
   ]
  },
  {
   "cell_type": "code",
   "execution_count": 67,
   "id": "3a98d31a",
   "metadata": {},
   "outputs": [
    {
     "data": {
      "text/plain": [
       "Survived\n",
       "0    266\n",
       "1    152\n",
       "Name: count, dtype: int64"
      ]
     },
     "execution_count": 67,
     "metadata": {},
     "output_type": "execute_result"
    }
   ],
   "source": [
    "df['Survived'].value_counts()\n"
   ]
  },
  {
   "cell_type": "code",
   "execution_count": 68,
   "id": "96da6193",
   "metadata": {},
   "outputs": [
    {
     "data": {
      "text/plain": [
       "Sex     Survived\n",
       "female  1           152\n",
       "male    0           266\n",
       "Name: count, dtype: int64"
      ]
     },
     "execution_count": 68,
     "metadata": {},
     "output_type": "execute_result"
    }
   ],
   "source": [
    "df.groupby('Sex')['Survived'].value_counts()\n"
   ]
  },
  {
   "cell_type": "code",
   "execution_count": 70,
   "id": "fe89782b",
   "metadata": {},
   "outputs": [
    {
     "data": {
      "application/vnd.microsoft.datawrangler.viewer.v0+json": {
       "columns": [
        {
         "name": "Sex",
         "rawType": "object",
         "type": "string"
        },
        {
         "name": "0",
         "rawType": "int64",
         "type": "integer"
        },
        {
         "name": "1",
         "rawType": "int64",
         "type": "integer"
        }
       ],
       "conversionMethod": "pd.DataFrame",
       "ref": "d24436cb-2a98-4246-8c52-ad1676379826",
       "rows": [
        [
         "female",
         "0",
         "152"
        ],
        [
         "male",
         "266",
         "0"
        ]
       ],
       "shape": {
        "columns": 2,
        "rows": 2
       }
      },
      "text/html": [
       "<div>\n",
       "<style scoped>\n",
       "    .dataframe tbody tr th:only-of-type {\n",
       "        vertical-align: middle;\n",
       "    }\n",
       "\n",
       "    .dataframe tbody tr th {\n",
       "        vertical-align: top;\n",
       "    }\n",
       "\n",
       "    .dataframe thead th {\n",
       "        text-align: right;\n",
       "    }\n",
       "</style>\n",
       "<table border=\"1\" class=\"dataframe\">\n",
       "  <thead>\n",
       "    <tr style=\"text-align: right;\">\n",
       "      <th>Survived</th>\n",
       "      <th>0</th>\n",
       "      <th>1</th>\n",
       "    </tr>\n",
       "    <tr>\n",
       "      <th>Sex</th>\n",
       "      <th></th>\n",
       "      <th></th>\n",
       "    </tr>\n",
       "  </thead>\n",
       "  <tbody>\n",
       "    <tr>\n",
       "      <th>female</th>\n",
       "      <td>0</td>\n",
       "      <td>152</td>\n",
       "    </tr>\n",
       "    <tr>\n",
       "      <th>male</th>\n",
       "      <td>266</td>\n",
       "      <td>0</td>\n",
       "    </tr>\n",
       "  </tbody>\n",
       "</table>\n",
       "</div>"
      ],
      "text/plain": [
       "Survived    0    1\n",
       "Sex               \n",
       "female      0  152\n",
       "male      266    0"
      ]
     },
     "execution_count": 70,
     "metadata": {},
     "output_type": "execute_result"
    }
   ],
   "source": [
    "pd.crosstab(df['Sex'], df['Survived'])\n"
   ]
  },
  {
   "cell_type": "code",
   "execution_count": 5,
   "id": "fb0de0a3",
   "metadata": {},
   "outputs": [
    {
     "data": {
      "text/plain": [
       "Pclass  Sex   \n",
       "1       male       57\n",
       "        female     50\n",
       "2       male       63\n",
       "        female     30\n",
       "3       male      146\n",
       "        female     72\n",
       "Name: count, dtype: int64"
      ]
     },
     "execution_count": 5,
     "metadata": {},
     "output_type": "execute_result"
    }
   ],
   "source": [
    "df.groupby(\"Pclass\")[\"Sex\"].value_counts()"
   ]
  },
  {
   "cell_type": "code",
   "execution_count": 43,
   "metadata": {},
   "outputs": [
    {
     "name": "stdout",
     "output_type": "stream",
     "text": [
      "less then 5 =  ['Survived', 'Pclass', 'Sex', 'SibSp', 'Embarked']\n",
      "more the 5 =  ['PassengerId', 'Name', 'Age', 'Parch', 'Ticket', 'Fare', 'Cabin']\n"
     ]
    }
   ],
   "source": [
    "def more(list_of_calumns):\n",
    "    z = []\n",
    "    a = []\n",
    "    for i in list_of_calumns:\n",
    "        y =  df[i].unique()\n",
    "\n",
    "        if len(y) <= 7 :\n",
    "            z.append(i)\n",
    "        else:\n",
    "            a.append(i)\n",
    "    print(\"less then 5 = \" ,z)\n",
    "    print(\"more the 5 = \" ,a)\n",
    "\n",
    "\n",
    "list_of_calumns = df.columns.tolist()\n",
    "more(list_of_calumns)\n",
    "#more(\"Sex\")"
   ]
  },
  {
   "cell_type": "code",
   "execution_count": 53,
   "metadata": {},
   "outputs": [
    {
     "data": {
      "text/plain": [
       "SibSp\n",
       "0    False\n",
       "1     True\n",
       "2     True\n",
       "3     True\n",
       "4     True\n",
       "5     True\n",
       "8     True\n",
       "Name: SibSp, dtype: bool"
      ]
     },
     "execution_count": 53,
     "metadata": {},
     "output_type": "execute_result"
    }
   ],
   "source": [
    "df[\"SibSp\"].unique()\n",
    "df[\"SibSp\"].value_counts()\n",
    "df[\"SibSp\"].groupby(df[\"SibSp\"]).value_counts()\n",
    "df.groupby(\"SibSp\")[\"SibSp\"].all()"
   ]
  },
  {
   "cell_type": "code",
   "execution_count": null,
   "id": "00967422",
   "metadata": {},
   "outputs": [],
   "source": []
  },
  {
   "cell_type": "code",
   "execution_count": null,
   "id": "b26766e3",
   "metadata": {},
   "outputs": [],
   "source": []
  },
  {
   "cell_type": "code",
   "execution_count": null,
   "id": "bdbc9a71",
   "metadata": {},
   "outputs": [],
   "source": []
  },
  {
   "cell_type": "code",
   "execution_count": null,
   "id": "af565314",
   "metadata": {},
   "outputs": [],
   "source": []
  },
  {
   "cell_type": "code",
   "execution_count": null,
   "id": "0e4fb3fa",
   "metadata": {},
   "outputs": [],
   "source": []
  },
  {
   "cell_type": "code",
   "execution_count": null,
   "metadata": {},
   "outputs": [],
   "source": []
  },
  {
   "cell_type": "code",
   "execution_count": null,
   "metadata": {},
   "outputs": [],
   "source": []
  },
  {
   "cell_type": "code",
   "execution_count": null,
   "metadata": {},
   "outputs": [],
   "source": []
  }
 ],
 "metadata": {
  "kernelspec": {
   "display_name": "Python 3",
   "language": "python",
   "name": "python3"
  },
  "language_info": {
   "codemirror_mode": {
    "name": "ipython",
    "version": 3
   },
   "file_extension": ".py",
   "mimetype": "text/x-python",
   "name": "python",
   "nbconvert_exporter": "python",
   "pygments_lexer": "ipython3",
   "version": "3.12.2"
  }
 },
 "nbformat": 4,
 "nbformat_minor": 5
}
